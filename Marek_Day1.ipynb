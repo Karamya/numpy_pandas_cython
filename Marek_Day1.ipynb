{
 "cells": [
  {
   "cell_type": "markdown",
   "metadata": {},
   "source": [
    "# Basics"
   ]
  },
  {
   "cell_type": "code",
   "execution_count": null,
   "metadata": {
    "collapsed": true
   },
   "outputs": [],
   "source": [
    "# Scalars in python\n",
    "# int, floating-point number, bool, str\n",
    "1"
   ]
  },
  {
   "cell_type": "code",
   "execution_count": 2,
   "metadata": {
    "collapsed": false
   },
   "outputs": [
    {
     "data": {
      "text/plain": [
       "int"
      ]
     },
     "execution_count": 2,
     "metadata": {},
     "output_type": "execute_result"
    }
   ],
   "source": [
    "type(1)"
   ]
  },
  {
   "cell_type": "code",
   "execution_count": 3,
   "metadata": {
    "collapsed": false
   },
   "outputs": [
    {
     "data": {
      "text/plain": [
       "1.0"
      ]
     },
     "execution_count": 3,
     "metadata": {},
     "output_type": "execute_result"
    }
   ],
   "source": [
    "1.0\n"
   ]
  },
  {
   "cell_type": "code",
   "execution_count": 4,
   "metadata": {
    "collapsed": false
   },
   "outputs": [
    {
     "data": {
      "text/plain": [
       "float"
      ]
     },
     "execution_count": 4,
     "metadata": {},
     "output_type": "execute_result"
    }
   ],
   "source": [
    "type(1.0)"
   ]
  },
  {
   "cell_type": "code",
   "execution_count": 5,
   "metadata": {
    "collapsed": false
   },
   "outputs": [
    {
     "data": {
      "text/plain": [
       "0.5"
      ]
     },
     "execution_count": 5,
     "metadata": {},
     "output_type": "execute_result"
    }
   ],
   "source": [
    "1/2"
   ]
  },
  {
   "cell_type": "code",
   "execution_count": 6,
   "metadata": {
    "collapsed": false
   },
   "outputs": [
    {
     "data": {
      "text/plain": [
       "0"
      ]
     },
     "execution_count": 6,
     "metadata": {},
     "output_type": "execute_result"
    }
   ],
   "source": [
    "1//2"
   ]
  },
  {
   "cell_type": "code",
   "execution_count": 7,
   "metadata": {
    "collapsed": false
   },
   "outputs": [
    {
     "name": "stdout",
     "output_type": "stream",
     "text": [
      "\n",
      "riehfht\n",
      "wasjsja\n"
     ]
    }
   ],
   "source": [
    "print('\\nriehfht\\nwasjsja')"
   ]
  },
  {
   "cell_type": "code",
   "execution_count": 8,
   "metadata": {
    "collapsed": false
   },
   "outputs": [
    {
     "data": {
      "text/plain": [
       "list"
      ]
     },
     "execution_count": 8,
     "metadata": {},
     "output_type": "execute_result"
    }
   ],
   "source": [
    "# iterable types\n",
    "# lists, tuples\n",
    "type([1, 2, (1,2)])"
   ]
  },
  {
   "cell_type": "code",
   "execution_count": 9,
   "metadata": {
    "collapsed": false
   },
   "outputs": [
    {
     "data": {
      "text/plain": [
       "(1, 2.0, 3)"
      ]
     },
     "execution_count": 9,
     "metadata": {},
     "output_type": "execute_result"
    }
   ],
   "source": [
    "1, 2.0, 3  # tuple"
   ]
  },
  {
   "cell_type": "code",
   "execution_count": 10,
   "metadata": {
    "collapsed": false
   },
   "outputs": [
    {
     "data": {
      "text/plain": [
       "(1, 2, 3)"
      ]
     },
     "execution_count": 10,
     "metadata": {},
     "output_type": "execute_result"
    }
   ],
   "source": [
    "(1, 2, 3) # tuple"
   ]
  },
  {
   "cell_type": "code",
   "execution_count": 11,
   "metadata": {
    "collapsed": false
   },
   "outputs": [
    {
     "data": {
      "text/plain": [
       "'string'"
      ]
     },
     "execution_count": 11,
     "metadata": {},
     "output_type": "execute_result"
    }
   ],
   "source": [
    "\"string\""
   ]
  },
  {
   "cell_type": "code",
   "execution_count": 12,
   "metadata": {
    "collapsed": true
   },
   "outputs": [],
   "source": [
    "i = iter('string')  # make it an iterable"
   ]
  },
  {
   "cell_type": "code",
   "execution_count": 13,
   "metadata": {
    "collapsed": false
   },
   "outputs": [
    {
     "data": {
      "text/plain": [
       "'s'"
      ]
     },
     "execution_count": 13,
     "metadata": {},
     "output_type": "execute_result"
    }
   ],
   "source": [
    "next(i)"
   ]
  },
  {
   "cell_type": "code",
   "execution_count": 14,
   "metadata": {
    "collapsed": false
   },
   "outputs": [
    {
     "data": {
      "text/plain": [
       "'t'"
      ]
     },
     "execution_count": 14,
     "metadata": {},
     "output_type": "execute_result"
    }
   ],
   "source": [
    "next(i)"
   ]
  },
  {
   "cell_type": "code",
   "execution_count": 15,
   "metadata": {
    "collapsed": false
   },
   "outputs": [
    {
     "data": {
      "text/plain": [
       "'r'"
      ]
     },
     "execution_count": 15,
     "metadata": {},
     "output_type": "execute_result"
    }
   ],
   "source": [
    "next(i)"
   ]
  },
  {
   "cell_type": "code",
   "execution_count": 16,
   "metadata": {
    "collapsed": false
   },
   "outputs": [
    {
     "data": {
      "text/plain": [
       "'i'"
      ]
     },
     "execution_count": 16,
     "metadata": {},
     "output_type": "execute_result"
    }
   ],
   "source": [
    "next(i)"
   ]
  },
  {
   "cell_type": "code",
   "execution_count": 17,
   "metadata": {
    "collapsed": false
   },
   "outputs": [
    {
     "data": {
      "text/plain": [
       "'n'"
      ]
     },
     "execution_count": 17,
     "metadata": {},
     "output_type": "execute_result"
    }
   ],
   "source": [
    "next(i)"
   ]
  },
  {
   "cell_type": "code",
   "execution_count": 18,
   "metadata": {
    "collapsed": false
   },
   "outputs": [
    {
     "data": {
      "text/plain": [
       "'g'"
      ]
     },
     "execution_count": 18,
     "metadata": {},
     "output_type": "execute_result"
    }
   ],
   "source": [
    "next(i)"
   ]
  },
  {
   "cell_type": "code",
   "execution_count": 19,
   "metadata": {
    "collapsed": false
   },
   "outputs": [
    {
     "ename": "StopIteration",
     "evalue": "",
     "output_type": "error",
     "traceback": [
      "\u001b[0;31m---------------------------------------------------------------------------\u001b[0m",
      "\u001b[0;31mStopIteration\u001b[0m                             Traceback (most recent call last)",
      "\u001b[0;32m<ipython-input-19-bed2471d02c1>\u001b[0m in \u001b[0;36m<module>\u001b[0;34m()\u001b[0m\n\u001b[0;32m----> 1\u001b[0;31m \u001b[0mnext\u001b[0m\u001b[0;34m(\u001b[0m\u001b[0mi\u001b[0m\u001b[0;34m)\u001b[0m\u001b[0;34m\u001b[0m\u001b[0m\n\u001b[0m",
      "\u001b[0;31mStopIteration\u001b[0m: "
     ]
    }
   ],
   "source": [
    "next(i)"
   ]
  },
  {
   "cell_type": "code",
   "execution_count": 20,
   "metadata": {
    "collapsed": false
   },
   "outputs": [
    {
     "name": "stdout",
     "output_type": "stream",
     "text": [
      "(1, 's')\n",
      "(2, 't')\n",
      "(3, 'r')\n",
      "(4, 'i')\n",
      "(5, 'n')\n"
     ]
    }
   ],
   "source": [
    "for u in zip([1, 2, 3, 4, 5], 'string'):\n",
    "    print(u)"
   ]
  },
  {
   "cell_type": "code",
   "execution_count": 22,
   "metadata": {
    "collapsed": false
   },
   "outputs": [
    {
     "name": "stdout",
     "output_type": "stream",
     "text": [
      "(1, 's')\n",
      "(2, 't')\n",
      "(3, 'r')\n",
      "(4, 'i')\n",
      "(5, 'n')\n",
      "(6, 'g')\n"
     ]
    }
   ],
   "source": [
    "for u in zip([1, 2, 3, 4, 5, 6, 7], 'string'):\n",
    "    print(u)"
   ]
  },
  {
   "cell_type": "code",
   "execution_count": 23,
   "metadata": {
    "collapsed": false
   },
   "outputs": [
    {
     "data": {
      "text/plain": [
       "[(0, 's'), (1, 't'), (2, 'r'), (3, 'i'), (4, 'n'), (5, 'g')]"
      ]
     },
     "execution_count": 23,
     "metadata": {},
     "output_type": "execute_result"
    }
   ],
   "source": [
    "list(enumerate('string'))"
   ]
  },
  {
   "cell_type": "code",
   "execution_count": 24,
   "metadata": {
    "collapsed": false
   },
   "outputs": [
    {
     "data": {
      "text/plain": [
       "[(0, 3), (1, 4), (2, 5), (3, 6), (4, 7)]"
      ]
     },
     "execution_count": 24,
     "metadata": {},
     "output_type": "execute_result"
    }
   ],
   "source": [
    "list(enumerate([3, 4, 5, 6, 7]))"
   ]
  },
  {
   "cell_type": "code",
   "execution_count": 27,
   "metadata": {
    "collapsed": false
   },
   "outputs": [
    {
     "data": {
      "text/plain": [
       "2"
      ]
     },
     "execution_count": 27,
     "metadata": {},
     "output_type": "execute_result"
    }
   ],
   "source": [
    "# sequential types : list, tuple, string\n",
    "x = [2, 3, 4, 5]\n",
    "x[0]"
   ]
  },
  {
   "cell_type": "code",
   "execution_count": 29,
   "metadata": {
    "collapsed": false
   },
   "outputs": [
    {
     "data": {
      "text/plain": [
       "5"
      ]
     },
     "execution_count": 29,
     "metadata": {},
     "output_type": "execute_result"
    }
   ],
   "source": [
    "x[-1]"
   ]
  },
  {
   "cell_type": "code",
   "execution_count": 33,
   "metadata": {
    "collapsed": false
   },
   "outputs": [
    {
     "data": {
      "text/plain": [
       "[2, 4]"
      ]
     },
     "execution_count": 33,
     "metadata": {},
     "output_type": "execute_result"
    }
   ],
   "source": [
    "x[::2]  # x[::2] from:to:step"
   ]
  },
  {
   "cell_type": "code",
   "execution_count": 32,
   "metadata": {
    "collapsed": false
   },
   "outputs": [
    {
     "data": {
      "text/plain": [
       "[4, 5]"
      ]
     },
     "execution_count": 32,
     "metadata": {},
     "output_type": "execute_result"
    }
   ],
   "source": [
    "x[2:4] # step = 1 by default"
   ]
  },
  {
   "cell_type": "code",
   "execution_count": 34,
   "metadata": {
    "collapsed": false
   },
   "outputs": [
    {
     "data": {
      "text/plain": [
       "[5, 4, 3, 2]"
      ]
     },
     "execution_count": 34,
     "metadata": {},
     "output_type": "execute_result"
    }
   ],
   "source": [
    "x[::-1]"
   ]
  },
  {
   "cell_type": "code",
   "execution_count": 35,
   "metadata": {
    "collapsed": false
   },
   "outputs": [
    {
     "ename": "SyntaxError",
     "evalue": "invalid syntax (<ipython-input-35-282d0561080e>, line 2)",
     "output_type": "error",
     "traceback": [
      "\u001b[0;36m  File \u001b[0;32m\"<ipython-input-35-282d0561080e>\"\u001b[0;36m, line \u001b[0;32m2\u001b[0m\n\u001b[0;31m    2:3\u001b[0m\n\u001b[0m     ^\u001b[0m\n\u001b[0;31mSyntaxError\u001b[0m\u001b[0;31m:\u001b[0m invalid syntax\n"
     ]
    }
   ],
   "source": [
    "# colon can be used only within squared brackets\n",
    "2:3"
   ]
  },
  {
   "cell_type": "code",
   "execution_count": 37,
   "metadata": {
    "collapsed": false
   },
   "outputs": [
    {
     "data": {
      "text/plain": [
       "{1: 'first', 'two': 'secoond', 'x': 3}"
      ]
     },
     "execution_count": 37,
     "metadata": {},
     "output_type": "execute_result"
    }
   ],
   "source": [
    "# dicts , sets\n",
    "{ # an unordered set of key-value pairs  \n",
    "    1: 'first',\n",
    "    'two': 'secoond',\n",
    "    'x': 3\n",
    "}\n",
    "# keys are the unique identifiers\n",
    "# keys must be immutable\n"
   ]
  },
  {
   "cell_type": "code",
   "execution_count": 40,
   "metadata": {
    "collapsed": false
   },
   "outputs": [
    {
     "data": {
      "text/plain": [
       "2528502973977326415"
      ]
     },
     "execution_count": 40,
     "metadata": {},
     "output_type": "execute_result"
    }
   ],
   "source": [
    "hash((1,2,3))"
   ]
  },
  {
   "cell_type": "code",
   "execution_count": 43,
   "metadata": {
    "collapsed": false
   },
   "outputs": [
    {
     "ename": "TypeError",
     "evalue": "unhashable type: 'list'",
     "output_type": "error",
     "traceback": [
      "\u001b[0;31m---------------------------------------------------------------------------\u001b[0m",
      "\u001b[0;31mTypeError\u001b[0m                                 Traceback (most recent call last)",
      "\u001b[0;32m<ipython-input-43-89ed28821b54>\u001b[0m in \u001b[0;36m<module>\u001b[0;34m()\u001b[0m\n\u001b[0;32m----> 1\u001b[0;31m \u001b[0mhash\u001b[0m\u001b[0;34m(\u001b[0m\u001b[0;34m[\u001b[0m\u001b[0;36m1\u001b[0m\u001b[0;34m,\u001b[0m\u001b[0;36m2\u001b[0m\u001b[0;34m,\u001b[0m\u001b[0;36m3\u001b[0m\u001b[0;34m]\u001b[0m\u001b[0;34m)\u001b[0m  \u001b[0;31m# hashable type must be immutable\u001b[0m\u001b[0;34m\u001b[0m\u001b[0m\n\u001b[0m",
      "\u001b[0;31mTypeError\u001b[0m: unhashable type: 'list'"
     ]
    }
   ],
   "source": [
    "hash([1,2,3])  # hashable type must be immutable"
   ]
  },
  {
   "cell_type": "code",
   "execution_count": 46,
   "metadata": {
    "collapsed": false
   },
   "outputs": [
    {
     "data": {
      "text/plain": [
       "5"
      ]
     },
     "execution_count": 46,
     "metadata": {},
     "output_type": "execute_result"
    }
   ],
   "source": [
    "hash(5)"
   ]
  },
  {
   "cell_type": "code",
   "execution_count": 44,
   "metadata": {
    "collapsed": false
   },
   "outputs": [
    {
     "data": {
      "text/plain": [
       "5218808047062343148"
      ]
     },
     "execution_count": 44,
     "metadata": {},
     "output_type": "execute_result"
    }
   ],
   "source": [
    "hash('Hello')"
   ]
  },
  {
   "cell_type": "markdown",
   "metadata": {},
   "source": [
    "## Write a function to compute the mode of a given list (mode is the most frequently appearing element in a list)"
   ]
  },
  {
   "cell_type": "code",
   "execution_count": 80,
   "metadata": {
    "collapsed": true
   },
   "outputs": [],
   "source": [
    "## use a dictionary in this case\n",
    "def mode(x):\n",
    "    my_dict = {}\n",
    "    for element in x:\n",
    "        if element in my_dict:\n",
    "            my_dict[element] += 1\n",
    "        else:\n",
    "            my_dict[element] = 1\n",
    "    max_count = 0\n",
    "    max_key = None\n",
    "    for k, v in my_dict.items():\n",
    "        if max_count < v:\n",
    "            max_count = v\n",
    "            max_key = k\n",
    "    return max_key"
   ]
  },
  {
   "cell_type": "code",
   "execution_count": 81,
   "metadata": {
    "collapsed": false
   },
   "outputs": [
    {
     "name": "stdout",
     "output_type": "stream",
     "text": [
      "1\n",
      "b\n"
     ]
    }
   ],
   "source": [
    "print(mode([1, 2,4 ,3 ,5,12, 32, 1 , 1,3, 3, 2, 5,4 ,2 ,5 ,6, 1, 1, 1,1]))\n",
    "print(mode(['a', 'b', 'c', 'a', 'b', 'b']))"
   ]
  },
  {
   "cell_type": "code",
   "execution_count": 82,
   "metadata": {
    "collapsed": false
   },
   "outputs": [
    {
     "data": {
      "text/plain": [
       "[4, 16, 36, 64]"
      ]
     },
     "execution_count": 82,
     "metadata": {},
     "output_type": "execute_result"
    }
   ],
   "source": [
    "# list cpmprehensions, dict comprehensions, set comprehensions\n",
    "# generator expressions\n",
    "# [op(e) for e in s]\n",
    "# [op(e) for e in s if cond(e)]\n",
    "\n",
    "# squares of even integers\n",
    "[e**2 for e in range(2, 10, 2)]"
   ]
  },
  {
   "cell_type": "code",
   "execution_count": 83,
   "metadata": {
    "collapsed": false
   },
   "outputs": [
    {
     "data": {
      "text/plain": [
       "'ab'"
      ]
     },
     "execution_count": 83,
     "metadata": {},
     "output_type": "execute_result"
    }
   ],
   "source": [
    "# [op(e, f) for e in .... if con(e) for f in .... cond(f)]\n",
    "'a' + 'b'"
   ]
  },
  {
   "cell_type": "code",
   "execution_count": 96,
   "metadata": {
    "collapsed": false
   },
   "outputs": [
    {
     "data": {
      "text/plain": [
       "['12', '13', '14', '15', '23', '24', '25', '34', '35', '45']"
      ]
     },
     "execution_count": 96,
     "metadata": {},
     "output_type": "execute_result"
    }
   ],
   "source": [
    "# generate all pairs (i,j) wiht i<j, i, j=1.... k for some k\n",
    "[str(i)+ str(j) for i in range(1, k+1) for j in range(i+1, k+1)]\n"
   ]
  },
  {
   "cell_type": "code",
   "execution_count": 97,
   "metadata": {
    "collapsed": false
   },
   "outputs": [
    {
     "data": {
      "text/plain": [
       "['12', '13', '14', '15', '23', '24', '25', '34', '35', '45']"
      ]
     },
     "execution_count": 97,
     "metadata": {},
     "output_type": "execute_result"
    }
   ],
   "source": [
    "[str(i)+ str(j) for i in range(1, k+1) for j in range(i+1, k+1) if i<j]"
   ]
  },
  {
   "cell_type": "code",
   "execution_count": 101,
   "metadata": {
    "collapsed": false
   },
   "outputs": [
    {
     "data": {
      "text/plain": [
       "['12', '13', '14', '15', '23', '24', '25', '34', '35', '45']"
      ]
     },
     "execution_count": 101,
     "metadata": {},
     "output_type": "execute_result"
    }
   ],
   "source": [
    "def get_pairs(k):\n",
    "    l = []\n",
    "    for i in range(1, k):\n",
    "        for j in range(i+1, k+1):\n",
    "            l.append(str(i) + str(j))\n",
    "    return l\n",
    "get_pairs(5)"
   ]
  },
  {
   "cell_type": "code",
   "execution_count": 102,
   "metadata": {
    "collapsed": false
   },
   "outputs": [
    {
     "name": "stdout",
     "output_type": "stream",
     "text": [
      "1 loop, best of 3: 1.36 s per loop\n",
      "1 loop, best of 3: 1.53 s per loop\n"
     ]
    }
   ],
   "source": [
    "k = 2500\n",
    "%timeit [str(i)+ str(j) for i in range(1, k+1) for j in range(i+1, k+1)]\n",
    "%timeit get_pairs(k)"
   ]
  },
  {
   "cell_type": "markdown",
   "metadata": {},
   "source": [
    "# NumPy"
   ]
  },
  {
   "cell_type": "code",
   "execution_count": 103,
   "metadata": {
    "collapsed": true
   },
   "outputs": [],
   "source": [
    "## http://www.numpy.org/"
   ]
  },
  {
   "cell_type": "code",
   "execution_count": 104,
   "metadata": {
    "collapsed": true
   },
   "outputs": [],
   "source": [
    "# ndarray == N-dimensional array\n",
    "# N=1 -> vectors\n",
    "# N=2 -> matrices"
   ]
  },
  {
   "cell_type": "code",
   "execution_count": 109,
   "metadata": {
    "collapsed": true
   },
   "outputs": [],
   "source": [
    "import numpy as np"
   ]
  },
  {
   "cell_type": "code",
   "execution_count": 110,
   "metadata": {
    "collapsed": false
   },
   "outputs": [
    {
     "data": {
      "text/plain": [
       "'1.11.1'"
      ]
     },
     "execution_count": 110,
     "metadata": {},
     "output_type": "execute_result"
    }
   ],
   "source": [
    "np.__version__"
   ]
  },
  {
   "cell_type": "code",
   "execution_count": 111,
   "metadata": {
    "collapsed": true
   },
   "outputs": [],
   "source": [
    "# Squares of consecutive integers from 0 to 5000"
   ]
  },
  {
   "cell_type": "code",
   "execution_count": 112,
   "metadata": {
    "collapsed": false
   },
   "outputs": [
    {
     "name": "stdout",
     "output_type": "stream",
     "text": [
      "1000 loops, best of 3: 1.34 ms per loop\n"
     ]
    }
   ],
   "source": [
    "%timeit [i**2 for i in range(5000)]"
   ]
  },
  {
   "cell_type": "code",
   "execution_count": 113,
   "metadata": {
    "collapsed": false
   },
   "outputs": [
    {
     "name": "stdout",
     "output_type": "stream",
     "text": [
      "The slowest run took 27.10 times longer than the fastest. This could mean that an intermediate result is being cached.\n",
      "100000 loops, best of 3: 4.24 µs per loop\n"
     ]
    }
   ],
   "source": [
    "%timeit np.arange(5000)"
   ]
  },
  {
   "cell_type": "code",
   "execution_count": 114,
   "metadata": {
    "collapsed": false
   },
   "outputs": [
    {
     "name": "stdout",
     "output_type": "stream",
     "text": [
      "The slowest run took 5.57 times longer than the fastest. This could mean that an intermediate result is being cached.\n",
      "100000 loops, best of 3: 8.27 µs per loop\n"
     ]
    }
   ],
   "source": [
    "%timeit np.arange(5000)**2 ## takes each element in the np array and squares it"
   ]
  },
  {
   "cell_type": "code",
   "execution_count": 115,
   "metadata": {
    "collapsed": true
   },
   "outputs": [],
   "source": [
    "### numpy(based on c) is 500 times faster than python list comprehension\n",
    "### python checks for the type of i in each element of the list and determines it is whether an int or str"
   ]
  },
  {
   "cell_type": "code",
   "execution_count": 117,
   "metadata": {
    "collapsed": false
   },
   "outputs": [
    {
     "data": {
      "text/plain": [
       "array([1, 3, 4, 5, 6])"
      ]
     },
     "execution_count": 117,
     "metadata": {},
     "output_type": "execute_result"
    }
   ],
   "source": [
    "# creating arrays\n",
    "# np.array(iterable)\n",
    "x =np.array([1, 3, 4, 5, 6])\n",
    "x"
   ]
  },
  {
   "cell_type": "code",
   "execution_count": 118,
   "metadata": {
    "collapsed": false
   },
   "outputs": [
    {
     "data": {
      "text/plain": [
       "numpy.ndarray"
      ]
     },
     "execution_count": 118,
     "metadata": {},
     "output_type": "execute_result"
    }
   ],
   "source": [
    "type(x)"
   ]
  },
  {
   "cell_type": "code",
   "execution_count": 119,
   "metadata": {
    "collapsed": false
   },
   "outputs": [
    {
     "data": {
      "text/plain": [
       "dtype('int64')"
      ]
     },
     "execution_count": 119,
     "metadata": {},
     "output_type": "execute_result"
    }
   ],
   "source": [
    "x.dtype"
   ]
  },
  {
   "cell_type": "code",
   "execution_count": 120,
   "metadata": {
    "collapsed": false
   },
   "outputs": [
    {
     "data": {
      "text/plain": [
       "dtype('float64')"
      ]
     },
     "execution_count": 120,
     "metadata": {},
     "output_type": "execute_result"
    }
   ],
   "source": [
    "np.array([1,3 ,4 , 5.0]).dtype"
   ]
  },
  {
   "cell_type": "code",
   "execution_count": 121,
   "metadata": {
    "collapsed": false
   },
   "outputs": [
    {
     "data": {
      "text/plain": [
       "1"
      ]
     },
     "execution_count": 121,
     "metadata": {},
     "output_type": "execute_result"
    }
   ],
   "source": [
    "x.ndim ## no. of dimensions"
   ]
  },
  {
   "cell_type": "code",
   "execution_count": 122,
   "metadata": {
    "collapsed": false
   },
   "outputs": [
    {
     "data": {
      "text/plain": [
       "(5,)"
      ]
     },
     "execution_count": 122,
     "metadata": {},
     "output_type": "execute_result"
    }
   ],
   "source": [
    "x.shape # shape of the array"
   ]
  },
  {
   "cell_type": "code",
   "execution_count": 127,
   "metadata": {
    "collapsed": false
   },
   "outputs": [],
   "source": [
    "A = np.array([\n",
    "        [2, 3, 4, 5],\n",
    "        [1, 2, 3, 4],\n",
    "        [3, 4 ,5 ,6]\n",
    "    ])"
   ]
  },
  {
   "cell_type": "code",
   "execution_count": 129,
   "metadata": {
    "collapsed": false
   },
   "outputs": [
    {
     "data": {
      "text/plain": [
       "numpy.ndarray"
      ]
     },
     "execution_count": 129,
     "metadata": {},
     "output_type": "execute_result"
    }
   ],
   "source": [
    "type(A)"
   ]
  },
  {
   "cell_type": "code",
   "execution_count": 130,
   "metadata": {
    "collapsed": false
   },
   "outputs": [
    {
     "data": {
      "text/plain": [
       "2"
      ]
     },
     "execution_count": 130,
     "metadata": {},
     "output_type": "execute_result"
    }
   ],
   "source": [
    "A.ndim"
   ]
  },
  {
   "cell_type": "code",
   "execution_count": 131,
   "metadata": {
    "collapsed": false
   },
   "outputs": [
    {
     "data": {
      "text/plain": [
       "(3, 4)"
      ]
     },
     "execution_count": 131,
     "metadata": {},
     "output_type": "execute_result"
    }
   ],
   "source": [
    "A.shape"
   ]
  },
  {
   "cell_type": "code",
   "execution_count": 132,
   "metadata": {
    "collapsed": false
   },
   "outputs": [
    {
     "data": {
      "text/plain": [
       "array([[2, 3, 4, 5],\n",
       "       [1, 2, 3, 4],\n",
       "       [3, 4, 5, 6]])"
      ]
     },
     "execution_count": 132,
     "metadata": {},
     "output_type": "execute_result"
    }
   ],
   "source": [
    "A"
   ]
  },
  {
   "cell_type": "code",
   "execution_count": 133,
   "metadata": {
    "collapsed": false
   },
   "outputs": [
    {
     "data": {
      "text/plain": [
       "dtype('int64')"
      ]
     },
     "execution_count": 133,
     "metadata": {},
     "output_type": "execute_result"
    }
   ],
   "source": [
    "A.dtype"
   ]
  },
  {
   "cell_type": "code",
   "execution_count": 135,
   "metadata": {
    "collapsed": false
   },
   "outputs": [],
   "source": [
    "## Can change the shape of the array\n",
    "A.shape = (4,3)"
   ]
  },
  {
   "cell_type": "code",
   "execution_count": 136,
   "metadata": {
    "collapsed": false
   },
   "outputs": [
    {
     "data": {
      "text/plain": [
       "array([[2, 3, 4],\n",
       "       [5, 1, 2],\n",
       "       [3, 4, 3],\n",
       "       [4, 5, 6]])"
      ]
     },
     "execution_count": 136,
     "metadata": {},
     "output_type": "execute_result"
    }
   ],
   "source": [
    "A"
   ]
  },
  {
   "cell_type": "code",
   "execution_count": 139,
   "metadata": {
    "collapsed": true
   },
   "outputs": [],
   "source": [
    "A.shape = (12,)  # comma at the end is not necessary"
   ]
  },
  {
   "cell_type": "code",
   "execution_count": 140,
   "metadata": {
    "collapsed": false
   },
   "outputs": [
    {
     "data": {
      "text/plain": [
       "array([2, 3, 4, 5, 1, 2, 3, 4, 3, 4, 5, 6])"
      ]
     },
     "execution_count": 140,
     "metadata": {},
     "output_type": "execute_result"
    }
   ],
   "source": [
    "A"
   ]
  },
  {
   "cell_type": "code",
   "execution_count": 142,
   "metadata": {
    "collapsed": false
   },
   "outputs": [],
   "source": [
    "A.shape = (2, 2, 3)"
   ]
  },
  {
   "cell_type": "code",
   "execution_count": 143,
   "metadata": {
    "collapsed": false
   },
   "outputs": [
    {
     "data": {
      "text/plain": [
       "array([[[2, 3, 4],\n",
       "        [5, 1, 2]],\n",
       "\n",
       "       [[3, 4, 3],\n",
       "        [4, 5, 6]]])"
      ]
     },
     "execution_count": 143,
     "metadata": {},
     "output_type": "execute_result"
    }
   ],
   "source": [
    "A"
   ]
  },
  {
   "cell_type": "code",
   "execution_count": 144,
   "metadata": {
    "collapsed": false
   },
   "outputs": [
    {
     "data": {
      "text/plain": [
       "array([[2, 3, 4, 5],\n",
       "       [1, 2, 3, 4],\n",
       "       [3, 4, 5, 6]])"
      ]
     },
     "execution_count": 144,
     "metadata": {},
     "output_type": "execute_result"
    }
   ],
   "source": [
    "A.reshape(3,4)"
   ]
  },
  {
   "cell_type": "code",
   "execution_count": 145,
   "metadata": {
    "collapsed": false
   },
   "outputs": [
    {
     "data": {
      "text/plain": [
       "array([[2, 3, 4, 5, 1, 2],\n",
       "       [3, 4, 3, 4, 5, 6]])"
      ]
     },
     "execution_count": 145,
     "metadata": {},
     "output_type": "execute_result"
    }
   ],
   "source": [
    "A.reshape(2, -1)   # 2 rows in "
   ]
  },
  {
   "cell_type": "code",
   "execution_count": 146,
   "metadata": {
    "collapsed": false
   },
   "outputs": [
    {
     "data": {
      "text/plain": [
       "array([[2, 3, 4],\n",
       "       [5, 1, 2],\n",
       "       [3, 4, 3],\n",
       "       [4, 5, 6]])"
      ]
     },
     "execution_count": 146,
     "metadata": {},
     "output_type": "execute_result"
    }
   ],
   "source": [
    "A.reshape(4, -1)"
   ]
  },
  {
   "cell_type": "code",
   "execution_count": 147,
   "metadata": {
    "collapsed": false
   },
   "outputs": [
    {
     "data": {
      "text/plain": [
       "array([[2, 3, 4],\n",
       "       [5, 1, 2],\n",
       "       [3, 4, 3],\n",
       "       [4, 5, 6]])"
      ]
     },
     "execution_count": 147,
     "metadata": {},
     "output_type": "execute_result"
    }
   ],
   "source": [
    "A.reshape((4, -1))"
   ]
  },
  {
   "cell_type": "code",
   "execution_count": 148,
   "metadata": {
    "collapsed": false
   },
   "outputs": [
    {
     "data": {
      "text/plain": [
       "array([[ 2.,  3.,  4.,  5.,  1.,  2.],\n",
       "       [ 3.,  4.,  3.,  4.,  5.,  6.]])"
      ]
     },
     "execution_count": 148,
     "metadata": {},
     "output_type": "execute_result"
    }
   ],
   "source": [
    "A.reshape(2, -1).astype(np.float)"
   ]
  },
  {
   "cell_type": "code",
   "execution_count": 149,
   "metadata": {
    "collapsed": false
   },
   "outputs": [
    {
     "data": {
      "text/plain": [
       "array([[ 2.,  3.,  4.,  5.,  1.,  2.],\n",
       "       [ 3.,  4.,  3.,  4.,  5.,  6.]])"
      ]
     },
     "execution_count": 149,
     "metadata": {},
     "output_type": "execute_result"
    }
   ],
   "source": [
    "A.reshape(2, -1).astype(np.float_)"
   ]
  },
  {
   "cell_type": "code",
   "execution_count": 150,
   "metadata": {
    "collapsed": false
   },
   "outputs": [
    {
     "data": {
      "text/plain": [
       "[[2, 3, 4, 5, 1, 2], [3, 4, 3, 4, 5, 6]]"
      ]
     },
     "execution_count": 150,
     "metadata": {},
     "output_type": "execute_result"
    }
   ],
   "source": [
    "A.reshape(2, -1).tolist()"
   ]
  },
  {
   "cell_type": "code",
   "execution_count": 151,
   "metadata": {
    "collapsed": false
   },
   "outputs": [
    {
     "data": {
      "text/plain": [
       "dtype('int64')"
      ]
     },
     "execution_count": 151,
     "metadata": {},
     "output_type": "execute_result"
    }
   ],
   "source": [
    "A.dtype"
   ]
  },
  {
   "cell_type": "code",
   "execution_count": 152,
   "metadata": {
    "collapsed": false
   },
   "outputs": [
    {
     "data": {
      "text/plain": [
       "array([0, 2, 4, 6, 8])"
      ]
     },
     "execution_count": 152,
     "metadata": {},
     "output_type": "execute_result"
    }
   ],
   "source": [
    "np.arange(0, 10, 2)"
   ]
  },
  {
   "cell_type": "code",
   "execution_count": 153,
   "metadata": {
    "collapsed": false
   },
   "outputs": [
    {
     "data": {
      "text/plain": [
       "array([0, 1, 2, 3, 4, 5, 6, 7, 8, 9])"
      ]
     },
     "execution_count": 153,
     "metadata": {},
     "output_type": "execute_result"
    }
   ],
   "source": [
    "np.arange(10)"
   ]
  },
  {
   "cell_type": "code",
   "execution_count": 155,
   "metadata": {
    "collapsed": false
   },
   "outputs": [
    {
     "data": {
      "text/plain": [
       "array([ 0.,  1.,  2.,  3.,  4.,  5.,  6.,  7.,  8.,  9.])"
      ]
     },
     "execution_count": 155,
     "metadata": {},
     "output_type": "execute_result"
    }
   ],
   "source": [
    "np.arange(10, dtype = np.float_)"
   ]
  },
  {
   "cell_type": "code",
   "execution_count": 156,
   "metadata": {
    "collapsed": false
   },
   "outputs": [
    {
     "data": {
      "text/plain": [
       "array([ 0.  ,  0.25,  0.5 ,  0.75,  1.  ])"
      ]
     },
     "execution_count": 156,
     "metadata": {},
     "output_type": "execute_result"
    }
   ],
   "source": [
    "np.linspace(0, 1, 5) # endpoint inclusive"
   ]
  },
  {
   "cell_type": "code",
   "execution_count": 157,
   "metadata": {
    "collapsed": false
   },
   "outputs": [
    {
     "data": {
      "text/plain": [
       "array([ 0. ,  0.2,  0.4,  0.6,  0.8])"
      ]
     },
     "execution_count": 157,
     "metadata": {},
     "output_type": "execute_result"
    }
   ],
   "source": [
    "np.linspace(0, 1, 5, endpoint = False) # endpoint exclusive"
   ]
  },
  {
   "cell_type": "code",
   "execution_count": 158,
   "metadata": {
    "collapsed": false
   },
   "outputs": [
    {
     "data": {
      "text/plain": [
       "array([[ 1.,  0.,  0.,  0.,  0.],\n",
       "       [ 0.,  1.,  0.,  0.,  0.],\n",
       "       [ 0.,  0.,  1.,  0.,  0.],\n",
       "       [ 0.,  0.,  0.,  1.,  0.],\n",
       "       [ 0.,  0.,  0.,  0.,  1.]])"
      ]
     },
     "execution_count": 158,
     "metadata": {},
     "output_type": "execute_result"
    }
   ],
   "source": [
    "np.eye(5) # gives an identity matrix"
   ]
  },
  {
   "cell_type": "code",
   "execution_count": 159,
   "metadata": {
    "collapsed": false
   },
   "outputs": [
    {
     "data": {
      "text/plain": [
       "array([[ True, False, False, False, False],\n",
       "       [False,  True, False, False, False],\n",
       "       [False, False,  True, False, False],\n",
       "       [False, False, False,  True, False],\n",
       "       [False, False, False, False,  True]], dtype=bool)"
      ]
     },
     "execution_count": 159,
     "metadata": {},
     "output_type": "execute_result"
    }
   ],
   "source": [
    "np.eye(5, dtype = np.bool_)"
   ]
  },
  {
   "cell_type": "code",
   "execution_count": 161,
   "metadata": {
    "collapsed": false
   },
   "outputs": [
    {
     "data": {
      "text/plain": [
       "array([[ True, False, False],\n",
       "       [False,  True, False],\n",
       "       [False, False,  True],\n",
       "       [False, False, False]], dtype=bool)"
      ]
     },
     "execution_count": 161,
     "metadata": {},
     "output_type": "execute_result"
    }
   ],
   "source": [
    "np.eye(4, 3, dtype = np.bool_)"
   ]
  },
  {
   "cell_type": "code",
   "execution_count": 163,
   "metadata": {
    "collapsed": false
   },
   "outputs": [
    {
     "data": {
      "text/plain": [
       "array([ 0.,  0.,  0.,  0.,  0.])"
      ]
     },
     "execution_count": 163,
     "metadata": {},
     "output_type": "execute_result"
    }
   ],
   "source": [
    "np.zeros(5)"
   ]
  },
  {
   "cell_type": "code",
   "execution_count": 165,
   "metadata": {
    "collapsed": false
   },
   "outputs": [
    {
     "data": {
      "text/plain": [
       "array([[ 0.,  0.,  0.],\n",
       "       [ 0.,  0.,  0.]])"
      ]
     },
     "execution_count": 165,
     "metadata": {},
     "output_type": "execute_result"
    }
   ],
   "source": [
    "np.zeros((2,3))"
   ]
  },
  {
   "cell_type": "code",
   "execution_count": 167,
   "metadata": {
    "collapsed": false
   },
   "outputs": [
    {
     "data": {
      "text/plain": [
       "array([[139931633540072,        27879024,               0,               0,\n",
       "                      0],\n",
       "       [              0,               0,               0,               0,\n",
       "                      0],\n",
       "       [              0,               0,               0,               0,\n",
       "                    128]])"
      ]
     },
     "execution_count": 167,
     "metadata": {},
     "output_type": "execute_result"
    }
   ],
   "source": [
    "np.empty((3, 5), dtype = np.int_)"
   ]
  },
  {
   "cell_type": "code",
   "execution_count": 168,
   "metadata": {
    "collapsed": false
   },
   "outputs": [
    {
     "data": {
      "text/plain": [
       "array([[ 0.25341684,  0.8592312 ,  0.52953079],\n",
       "       [ 0.31954916,  0.57365333,  0.72935859]])"
      ]
     },
     "execution_count": 168,
     "metadata": {},
     "output_type": "execute_result"
    }
   ],
   "source": [
    "np.random.rand(2, 3) # uniform distribution on [0,1)"
   ]
  },
  {
   "cell_type": "code",
   "execution_count": 169,
   "metadata": {
    "collapsed": false
   },
   "outputs": [
    {
     "data": {
      "text/plain": [
       "array([[ 0.69646919,  0.28613933,  0.22685145],\n",
       "       [ 0.55131477,  0.71946897,  0.42310646]])"
      ]
     },
     "execution_count": 169,
     "metadata": {},
     "output_type": "execute_result"
    }
   ],
   "source": [
    "np.random.seed(123)\n",
    "np.random.rand(2, 3) # uniform distribution on [0,1) # 0 inclusive, 1 exclusive"
   ]
  },
  {
   "cell_type": "code",
   "execution_count": 170,
   "metadata": {
    "collapsed": false
   },
   "outputs": [
    {
     "data": {
      "text/plain": [
       "array([[-2.42667924, -0.42891263,  1.26593626],\n",
       "       [-0.8667404 , -0.67888615, -0.09470897]])"
      ]
     },
     "execution_count": 170,
     "metadata": {},
     "output_type": "execute_result"
    }
   ],
   "source": [
    "np.random.randn(2, 3) # The standard normal distribution N(0,1)"
   ]
  },
  {
   "cell_type": "code",
   "execution_count": 171,
   "metadata": {
    "collapsed": false
   },
   "outputs": [
    {
     "data": {
      "text/plain": [
       "array([[2, 2, 2, 3, 4, 2],\n",
       "       [4, 2, 2, 3, 2, 3],\n",
       "       [2, 2, 2, 4, 3, 3]])"
      ]
     },
     "execution_count": 171,
     "metadata": {},
     "output_type": "execute_result"
    }
   ],
   "source": [
    "np.random.randint(2, 5, (3, 6)) # integers in [2, 5)"
   ]
  },
  {
   "cell_type": "code",
   "execution_count": 175,
   "metadata": {
    "collapsed": false
   },
   "outputs": [
    {
     "data": {
      "text/plain": [
       "array([0, 9, 5, 2, 8, 1, 6, 3, 7, 4])"
      ]
     },
     "execution_count": 175,
     "metadata": {},
     "output_type": "execute_result"
    }
   ],
   "source": [
    "np.random.choice(np.arange(10), 10, replace = False) # without repeating"
   ]
  },
  {
   "cell_type": "code",
   "execution_count": 174,
   "metadata": {
    "collapsed": false
   },
   "outputs": [
    {
     "data": {
      "text/plain": [
       "array([9, 1, 8, 7, 0, 2, 3, 5, 6, 4])"
      ]
     },
     "execution_count": 174,
     "metadata": {},
     "output_type": "execute_result"
    }
   ],
   "source": [
    "np.random.choice(np.arange(10), 10, replace = False) # with repetition"
   ]
  },
  {
   "cell_type": "code",
   "execution_count": 178,
   "metadata": {
    "collapsed": false
   },
   "outputs": [
    {
     "data": {
      "text/plain": [
       "[5, 5, 5, 5, 5, 5, 5, 5, 5, 5]"
      ]
     },
     "execution_count": 178,
     "metadata": {},
     "output_type": "execute_result"
    }
   ],
   "source": [
    "# [5, 5, 5, 5 ,5 ,5, 5 ,5]\n",
    "# [1, 1 ,1 ,1, 2 ,2 ,2, 2]\n",
    "# [1, 2, 1, 2, 1, 2, 1, 2]\n",
    "[5]*10"
   ]
  },
  {
   "cell_type": "code",
   "execution_count": 181,
   "metadata": {
    "collapsed": false
   },
   "outputs": [
    {
     "data": {
      "text/plain": [
       "[1, 1, 1, 1, 1, 2, 2, 2, 2, 2]"
      ]
     },
     "execution_count": 181,
     "metadata": {},
     "output_type": "execute_result"
    }
   ],
   "source": [
    "[1]*5 + [2]*5"
   ]
  },
  {
   "cell_type": "code",
   "execution_count": 180,
   "metadata": {
    "collapsed": false
   },
   "outputs": [
    {
     "data": {
      "text/plain": [
       "[1, 2, 1, 2, 1, 2, 1, 2, 1, 2]"
      ]
     },
     "execution_count": 180,
     "metadata": {},
     "output_type": "execute_result"
    }
   ],
   "source": [
    "[1,2]*5"
   ]
  },
  {
   "cell_type": "code",
   "execution_count": 183,
   "metadata": {
    "collapsed": false
   },
   "outputs": [
    {
     "data": {
      "text/plain": [
       "array([5, 5, 5, 5, 5, 5, 5, 5, 5, 5])"
      ]
     },
     "execution_count": 183,
     "metadata": {},
     "output_type": "execute_result"
    }
   ],
   "source": [
    "np.zeros(10, dtype = np.int_)+5"
   ]
  },
  {
   "cell_type": "code",
   "execution_count": 185,
   "metadata": {
    "collapsed": false
   },
   "outputs": [
    {
     "data": {
      "text/plain": [
       "array([3, 3, 3, 3, 3])"
      ]
     },
     "execution_count": 185,
     "metadata": {},
     "output_type": "execute_result"
    }
   ],
   "source": [
    "(np.zeros(5, dtype = np.int_)+1)numpy + (np.zeros(5, dtype = np.int_)+2)"
   ]
  },
  {
   "cell_type": "markdown",
   "metadata": {},
   "source": [
    "[np.repeat()](https://docs.scipy.org/doc/numpy/reference/generated/numpy.repeat.html)\n",
    "[np.tile()](https://docs.scipy.org/doc/numpy/reference/generated/numpy.tile.html)"
   ]
  },
  {
   "cell_type": "code",
   "execution_count": 186,
   "metadata": {
    "collapsed": false
   },
   "outputs": [
    {
     "data": {
      "text/plain": [
       "array([5, 5, 5, 5, 5, 5, 5, 5, 5, 5])"
      ]
     },
     "execution_count": 186,
     "metadata": {},
     "output_type": "execute_result"
    }
   ],
   "source": [
    "np.repeat(5, 10)   ## repeats "
   ]
  },
  {
   "cell_type": "code",
   "execution_count": 187,
   "metadata": {
    "collapsed": false
   },
   "outputs": [
    {
     "data": {
      "text/plain": [
       "array([1, 1, 1, 1, 1, 2, 2, 2, 2, 2])"
      ]
     },
     "execution_count": 187,
     "metadata": {},
     "output_type": "execute_result"
    }
   ],
   "source": [
    "np.repeat([1, 2], 5)"
   ]
  },
  {
   "cell_type": "code",
   "execution_count": 188,
   "metadata": {
    "collapsed": false
   },
   "outputs": [
    {
     "data": {
      "text/plain": [
       "array([1, 2, 1, 2, 1, 2, 1, 2, 1, 2])"
      ]
     },
     "execution_count": 188,
     "metadata": {},
     "output_type": "execute_result"
    }
   ],
   "source": [
    "np.tile([1,2], 5)"
   ]
  },
  {
   "cell_type": "code",
   "execution_count": 190,
   "metadata": {
    "collapsed": false
   },
   "outputs": [
    {
     "data": {
      "text/plain": [
       "array([[ 0.69646919,  0.28613933],\n",
       "       [ 0.22685145,  0.55131477],\n",
       "       [ 0.71946897,  0.42310646]])"
      ]
     },
     "execution_count": 190,
     "metadata": {},
     "output_type": "execute_result"
    }
   ],
   "source": [
    "np.random.seed(123)\n",
    "A = np.random.rand(3,2)\n",
    "A"
   ]
  },
  {
   "cell_type": "code",
   "execution_count": 191,
   "metadata": {
    "collapsed": true
   },
   "outputs": [],
   "source": [
    "# Add column == 1 at the end"
   ]
  },
  {
   "cell_type": "code",
   "execution_count": 201,
   "metadata": {
    "collapsed": false
   },
   "outputs": [
    {
     "data": {
      "text/plain": [
       "array([[ 0.69646919,  0.28613933,  1.        ],\n",
       "       [ 0.22685145,  0.55131477,  1.        ],\n",
       "       [ 0.71946897,  0.42310646,  1.        ]])"
      ]
     },
     "execution_count": 201,
     "metadata": {},
     "output_type": "execute_result"
    }
   ],
   "source": [
    "np.c_[A, np.ones(A.shape[0])]"
   ]
  },
  {
   "cell_type": "code",
   "execution_count": 202,
   "metadata": {
    "collapsed": false
   },
   "outputs": [],
   "source": [
    "# Add rom == 1 at the bottom"
   ]
  },
  {
   "cell_type": "code",
   "execution_count": 222,
   "metadata": {
    "collapsed": false
   },
   "outputs": [
    {
     "ename": "ValueError",
     "evalue": "all the input arrays must have same number of dimensions",
     "output_type": "error",
     "traceback": [
      "\u001b[0;31m---------------------------------------------------------------------------\u001b[0m",
      "\u001b[0;31mValueError\u001b[0m                                Traceback (most recent call last)",
      "\u001b[0;32m<ipython-input-222-8d071e6b74be>\u001b[0m in \u001b[0;36m<module>\u001b[0;34m()\u001b[0m\n\u001b[0;32m----> 1\u001b[0;31m \u001b[0mnp\u001b[0m\u001b[0;34m.\u001b[0m\u001b[0mr_\u001b[0m\u001b[0;34m[\u001b[0m\u001b[0mA\u001b[0m\u001b[0;34m,\u001b[0m \u001b[0mnp\u001b[0m\u001b[0;34m.\u001b[0m\u001b[0mones\u001b[0m\u001b[0;34m(\u001b[0m\u001b[0;36m2\u001b[0m\u001b[0;34m)\u001b[0m\u001b[0;34m]\u001b[0m\u001b[0;34m\u001b[0m\u001b[0m\n\u001b[0m",
      "\u001b[0;32m/home/ramya/anaconda3/lib/python3.5/site-packages/numpy/lib/index_tricks.py\u001b[0m in \u001b[0;36m__getitem__\u001b[0;34m(self, key)\u001b[0m\n\u001b[1;32m    336\u001b[0m                 \u001b[0mobjs\u001b[0m\u001b[0;34m[\u001b[0m\u001b[0mk\u001b[0m\u001b[0;34m]\u001b[0m \u001b[0;34m=\u001b[0m \u001b[0mobjs\u001b[0m\u001b[0;34m[\u001b[0m\u001b[0mk\u001b[0m\u001b[0;34m]\u001b[0m\u001b[0;34m.\u001b[0m\u001b[0mastype\u001b[0m\u001b[0;34m(\u001b[0m\u001b[0mfinal_dtype\u001b[0m\u001b[0;34m)\u001b[0m\u001b[0;34m\u001b[0m\u001b[0m\n\u001b[1;32m    337\u001b[0m \u001b[0;34m\u001b[0m\u001b[0m\n\u001b[0;32m--> 338\u001b[0;31m         \u001b[0mres\u001b[0m \u001b[0;34m=\u001b[0m \u001b[0m_nx\u001b[0m\u001b[0;34m.\u001b[0m\u001b[0mconcatenate\u001b[0m\u001b[0;34m(\u001b[0m\u001b[0mtuple\u001b[0m\u001b[0;34m(\u001b[0m\u001b[0mobjs\u001b[0m\u001b[0;34m)\u001b[0m\u001b[0;34m,\u001b[0m \u001b[0maxis\u001b[0m\u001b[0;34m=\u001b[0m\u001b[0mself\u001b[0m\u001b[0;34m.\u001b[0m\u001b[0maxis\u001b[0m\u001b[0;34m)\u001b[0m\u001b[0;34m\u001b[0m\u001b[0m\n\u001b[0m\u001b[1;32m    339\u001b[0m         \u001b[0;32mreturn\u001b[0m \u001b[0mself\u001b[0m\u001b[0;34m.\u001b[0m\u001b[0m_retval\u001b[0m\u001b[0;34m(\u001b[0m\u001b[0mres\u001b[0m\u001b[0;34m)\u001b[0m\u001b[0;34m\u001b[0m\u001b[0m\n\u001b[1;32m    340\u001b[0m \u001b[0;34m\u001b[0m\u001b[0m\n",
      "\u001b[0;31mValueError\u001b[0m: all the input arrays must have same number of dimensions"
     ]
    }
   ],
   "source": [
    "np.r_[A, np.ones(2)]"
   ]
  },
  {
   "cell_type": "code",
   "execution_count": 209,
   "metadata": {
    "collapsed": false
   },
   "outputs": [
    {
     "data": {
      "text/plain": [
       "array([[ 0.69646919,  0.28613933,  1.        ],\n",
       "       [ 0.22685145,  0.55131477,  1.        ],\n",
       "       [ 0.71946897,  0.42310646,  1.        ]])"
      ]
     },
     "execution_count": 209,
     "metadata": {},
     "output_type": "execute_result"
    }
   ],
   "source": [
    "np.append(A, np.repeat(1, A.shape[0]).reshape(-1, 1), axis = 1)"
   ]
  },
  {
   "cell_type": "code",
   "execution_count": 210,
   "metadata": {
    "collapsed": false
   },
   "outputs": [
    {
     "data": {
      "text/plain": [
       "array([[ 0.69646919,  0.28613933,  1.        ],\n",
       "       [ 0.22685145,  0.55131477,  1.        ],\n",
       "       [ 0.71946897,  0.42310646,  1.        ]])"
      ]
     },
     "execution_count": 210,
     "metadata": {},
     "output_type": "execute_result"
    }
   ],
   "source": [
    "np.append(A, [[1], [1], [1]], axis = 1)"
   ]
  },
  {
   "cell_type": "code",
   "execution_count": 212,
   "metadata": {
    "collapsed": false
   },
   "outputs": [
    {
     "data": {
      "text/plain": [
       "array([[ 0.69646919,  0.28613933,  1.        ],\n",
       "       [ 0.22685145,  0.55131477,  1.        ],\n",
       "       [ 0.71946897,  0.42310646,  1.        ]])"
      ]
     },
     "execution_count": 212,
     "metadata": {},
     "output_type": "execute_result"
    }
   ],
   "source": [
    "np.column_stack((A, [1, 1, 1]))"
   ]
  },
  {
   "cell_type": "code",
   "execution_count": 213,
   "metadata": {
    "collapsed": false
   },
   "outputs": [
    {
     "data": {
      "text/plain": [
       "array([[ 0.69646919,  0.28613933,  1.        ],\n",
       "       [ 0.22685145,  0.55131477,  1.        ],\n",
       "       [ 0.71946897,  0.42310646,  1.        ]])"
      ]
     },
     "execution_count": 213,
     "metadata": {},
     "output_type": "execute_result"
    }
   ],
   "source": [
    "np.insert(A, A.shape[1], 1, axis = 1)"
   ]
  },
  {
   "cell_type": "code",
   "execution_count": 215,
   "metadata": {
    "collapsed": false
   },
   "outputs": [
    {
     "data": {
      "text/plain": [
       "array([[ 0.69646919,  0.28613933],\n",
       "       [ 0.22685145,  0.55131477],\n",
       "       [ 0.71946897,  0.42310646],\n",
       "       [ 1.        ,  1.        ]])"
      ]
     },
     "execution_count": 215,
     "metadata": {},
     "output_type": "execute_result"
    }
   ],
   "source": [
    "np.insert(A, A.shape[0], 1, axis = 0)"
   ]
  },
  {
   "cell_type": "code",
   "execution_count": 223,
   "metadata": {
    "collapsed": false
   },
   "outputs": [
    {
     "data": {
      "text/plain": [
       "array([1, 2, 3, 4])"
      ]
     },
     "execution_count": 223,
     "metadata": {},
     "output_type": "execute_result"
    }
   ],
   "source": [
    "np.r_[1, 2, 3, 4]"
   ]
  },
  {
   "cell_type": "code",
   "execution_count": 224,
   "metadata": {
    "collapsed": false
   },
   "outputs": [
    {
     "data": {
      "text/plain": [
       "array([1, 2, 3, 4, 0, 1, 2, 3])"
      ]
     },
     "execution_count": 224,
     "metadata": {},
     "output_type": "execute_result"
    }
   ],
   "source": [
    "np.r_[1, 2, 3, 4, 0:4]"
   ]
  },
  {
   "cell_type": "code",
   "execution_count": 226,
   "metadata": {
    "collapsed": false
   },
   "outputs": [
    {
     "data": {
      "text/plain": [
       "array([0, 2, 4, 6, 8])"
      ]
     },
     "execution_count": 226,
     "metadata": {},
     "output_type": "execute_result"
    }
   ],
   "source": [
    "np.r_[0:10:2]"
   ]
  },
  {
   "cell_type": "code",
   "execution_count": 227,
   "metadata": {
    "collapsed": false
   },
   "outputs": [
    {
     "data": {
      "text/plain": [
       "array([  0. ,   2.5,   5. ,   7.5,  10. ])"
      ]
     },
     "execution_count": 227,
     "metadata": {},
     "output_type": "execute_result"
    }
   ],
   "source": [
    "np.r_[0:10:5j] #np.linspace"
   ]
  },
  {
   "cell_type": "code",
   "execution_count": 228,
   "metadata": {
    "collapsed": false
   },
   "outputs": [
    {
     "data": {
      "text/plain": [
       "array([[ 0.  ,  1.  ,  0.  ],\n",
       "       [ 1.  ,  1.  ,  1.25],\n",
       "       [ 2.  ,  1.  ,  2.5 ],\n",
       "       [ 3.  ,  1.  ,  3.75],\n",
       "       [ 4.  ,  1.  ,  5.  ]])"
      ]
     },
     "execution_count": 228,
     "metadata": {},
     "output_type": "execute_result"
    }
   ],
   "source": [
    "np.c_[0:5, [1]*5, 0:5:5j]"
   ]
  },
  {
   "cell_type": "markdown",
   "metadata": {},
   "source": [
    "## Arithmetic Operations"
   ]
  },
  {
   "cell_type": "code",
   "execution_count": 229,
   "metadata": {
    "collapsed": true
   },
   "outputs": [],
   "source": [
    "# They are vectorized: they take \"whole\" array as arguments\n",
    "# +, -, *, /, **, ..."
   ]
  },
  {
   "cell_type": "code",
   "execution_count": 230,
   "metadata": {
    "collapsed": false
   },
   "outputs": [
    {
     "data": {
      "text/plain": [
       "array([  1,  20, 300])"
      ]
     },
     "execution_count": 230,
     "metadata": {},
     "output_type": "execute_result"
    }
   ],
   "source": [
    "# 1. two arrays of identical shapes\n",
    "# c_{i, j} = a_{i, j} + b{i, j}\n",
    "np.r_[1, 2, 3]* np.r_[1, 10, 100]"
   ]
  },
  {
   "cell_type": "code",
   "execution_count": 231,
   "metadata": {
    "collapsed": false
   },
   "outputs": [
    {
     "data": {
      "text/plain": [
       "array([[ 0.69646919,  0.28613933],\n",
       "       [ 0.22685145,  0.55131477],\n",
       "       [ 0.71946897,  0.42310646]])"
      ]
     },
     "execution_count": 231,
     "metadata": {},
     "output_type": "execute_result"
    }
   ],
   "source": [
    "A"
   ]
  },
  {
   "cell_type": "code",
   "execution_count": 232,
   "metadata": {
    "collapsed": false
   },
   "outputs": [
    {
     "data": {
      "text/plain": [
       "array([[ 1.39293837,  0.57227867],\n",
       "       [ 0.45370291,  1.10262954],\n",
       "       [ 1.43893794,  0.84621292]])"
      ]
     },
     "execution_count": 232,
     "metadata": {},
     "output_type": "execute_result"
    }
   ],
   "source": [
    "A + A"
   ]
  },
  {
   "cell_type": "code",
   "execution_count": 233,
   "metadata": {
    "collapsed": false
   },
   "outputs": [
    {
     "data": {
      "text/plain": [
       "array([[ 0.48506933,  0.08187572],\n",
       "       [ 0.05146158,  0.30394797],\n",
       "       [ 0.5176356 ,  0.17901908]])"
      ]
     },
     "execution_count": 233,
     "metadata": {},
     "output_type": "execute_result"
    }
   ],
   "source": [
    "A * A"
   ]
  },
  {
   "cell_type": "code",
   "execution_count": 234,
   "metadata": {
    "collapsed": false
   },
   "outputs": [
    {
     "data": {
      "text/plain": [
       "array([[ 0.77729526,  0.69904553],\n",
       "       [ 0.71424801,  0.72016133],\n",
       "       [ 0.78908651,  0.6949418 ]])"
      ]
     },
     "execution_count": 234,
     "metadata": {},
     "output_type": "execute_result"
    }
   ],
   "source": [
    "A ** A"
   ]
  },
  {
   "cell_type": "code",
   "execution_count": 235,
   "metadata": {
    "collapsed": false
   },
   "outputs": [
    {
     "data": {
      "text/plain": [
       "array([[-0.69646919, -0.28613933],\n",
       "       [-0.22685145, -0.55131477],\n",
       "       [-0.71946897, -0.42310646]])"
      ]
     },
     "execution_count": 235,
     "metadata": {},
     "output_type": "execute_result"
    }
   ],
   "source": [
    "# 2. array + scalar\n",
    "A * (-1)"
   ]
  },
  {
   "cell_type": "code",
   "execution_count": 236,
   "metadata": {
    "collapsed": false
   },
   "outputs": [
    {
     "data": {
      "text/plain": [
       "array([[-0.69646919,  0.28613933],\n",
       "       [-0.22685145,  0.55131477],\n",
       "       [-0.71946897,  0.42310646]])"
      ]
     },
     "execution_count": 236,
     "metadata": {},
     "output_type": "execute_result"
    }
   ],
   "source": [
    "# 3. Matrix + vector\n",
    "A * np.r_[-1, 1]"
   ]
  },
  {
   "cell_type": "code",
   "execution_count": 237,
   "metadata": {
    "collapsed": false
   },
   "outputs": [
    {
     "data": {
      "text/plain": [
       "array([[-0.69646919, -0.28613933],\n",
       "       [ 0.22685145,  0.55131477],\n",
       "       [-0.71946897, -0.42310646]])"
      ]
     },
     "execution_count": 237,
     "metadata": {},
     "output_type": "execute_result"
    }
   ],
   "source": [
    "# matrix with 1 column\n",
    "A * np.r_[-1, 1, -1].reshape(3, 1)"
   ]
  },
  {
   "cell_type": "code",
   "execution_count": 239,
   "metadata": {
    "collapsed": false
   },
   "outputs": [
    {
     "data": {
      "text/plain": [
       "array([[   1,   10,  100, 1000],\n",
       "       [   2,   20,  200, 2000],\n",
       "       [   3,   30,  300, 3000]])"
      ]
     },
     "execution_count": 239,
     "metadata": {},
     "output_type": "execute_result"
    }
   ],
   "source": [
    "# 1 row * 1 column\n",
    "np.r_[1, 2, 3].reshape(3, 1) * np.r_[1, 10, 100, 1000].reshape(1, 4)"
   ]
  },
  {
   "cell_type": "markdown",
   "metadata": {},
   "source": [
    "## Aggregation functions"
   ]
  },
  {
   "cell_type": "code",
   "execution_count": 240,
   "metadata": {
    "collapsed": true
   },
   "outputs": [],
   "source": [
    "# np. sum, prod, std, mean, var, amax, amin, median, all, any\n",
    "# X.sum(), prod, std, mean, var, max, min,           all, any"
   ]
  },
  {
   "cell_type": "code",
   "execution_count": 241,
   "metadata": {
    "collapsed": false
   },
   "outputs": [
    {
     "data": {
      "text/plain": [
       "array([[ 0.69646919,  0.28613933],\n",
       "       [ 0.22685145,  0.55131477],\n",
       "       [ 0.71946897,  0.42310646]])"
      ]
     },
     "execution_count": 241,
     "metadata": {},
     "output_type": "execute_result"
    }
   ],
   "source": [
    "A"
   ]
  },
  {
   "cell_type": "code",
   "execution_count": 242,
   "metadata": {
    "collapsed": false
   },
   "outputs": [
    {
     "data": {
      "text/plain": [
       "0.48389169551755989"
      ]
     },
     "execution_count": 242,
     "metadata": {},
     "output_type": "execute_result"
    }
   ],
   "source": [
    "A.mean()"
   ]
  },
  {
   "cell_type": "code",
   "execution_count": 243,
   "metadata": {
    "collapsed": false
   },
   "outputs": [
    {
     "data": {
      "text/plain": [
       "array([ 0.54759654,  0.42018685])"
      ]
     },
     "execution_count": 243,
     "metadata": {},
     "output_type": "execute_result"
    }
   ],
   "source": [
    "A.mean(axis = 0)"
   ]
  },
  {
   "cell_type": "code",
   "execution_count": 244,
   "metadata": {
    "collapsed": false
   },
   "outputs": [
    {
     "data": {
      "text/plain": [
       "array([ 0.49130426,  0.38908311,  0.57128771])"
      ]
     },
     "execution_count": 244,
     "metadata": {},
     "output_type": "execute_result"
    }
   ],
   "source": [
    "A.mean(axis = 1)"
   ]
  },
  {
   "cell_type": "code",
   "execution_count": 245,
   "metadata": {
    "collapsed": false
   },
   "outputs": [
    {
     "data": {
      "text/plain": [
       "array([ 0.54759654,  0.42018685])"
      ]
     },
     "execution_count": 245,
     "metadata": {},
     "output_type": "execute_result"
    }
   ],
   "source": [
    "np.mean(A, axis = 0)"
   ]
  },
  {
   "cell_type": "code",
   "execution_count": 247,
   "metadata": {
    "collapsed": false
   },
   "outputs": [
    {
     "data": {
      "text/plain": [
       "0.18890131428186943"
      ]
     },
     "execution_count": 247,
     "metadata": {},
     "output_type": "execute_result"
    }
   ],
   "source": [
    "np.std(A,ddof = 0) # degrees of freedom"
   ]
  },
  {
   "cell_type": "code",
   "execution_count": 248,
   "metadata": {
    "collapsed": false
   },
   "outputs": [
    {
     "data": {
      "text/plain": [
       "0.20693102194910537"
      ]
     },
     "execution_count": 248,
     "metadata": {},
     "output_type": "execute_result"
    }
   ],
   "source": [
    "np.std(A,ddof = 1)"
   ]
  },
  {
   "cell_type": "code",
   "execution_count": 252,
   "metadata": {
    "collapsed": false
   },
   "outputs": [],
   "source": [
    "import seaborn as sns"
   ]
  },
  {
   "cell_type": "code",
   "execution_count": 253,
   "metadata": {
    "collapsed": false
   },
   "outputs": [
    {
     "data": {
      "text/plain": [
       "array([[ 5.1,  3.5,  1.4,  0.2],\n",
       "       [ 4.9,  3. ,  1.4,  0.2],\n",
       "       [ 4.7,  3.2,  1.3,  0.2],\n",
       "       [ 4.6,  3.1,  1.5,  0.2],\n",
       "       [ 5. ,  3.6,  1.4,  0.2],\n",
       "       [ 5.4,  3.9,  1.7,  0.4],\n",
       "       [ 4.6,  3.4,  1.4,  0.3],\n",
       "       [ 5. ,  3.4,  1.5,  0.2],\n",
       "       [ 4.4,  2.9,  1.4,  0.2],\n",
       "       [ 4.9,  3.1,  1.5,  0.1],\n",
       "       [ 5.4,  3.7,  1.5,  0.2],\n",
       "       [ 4.8,  3.4,  1.6,  0.2],\n",
       "       [ 4.8,  3. ,  1.4,  0.1],\n",
       "       [ 4.3,  3. ,  1.1,  0.1],\n",
       "       [ 5.8,  4. ,  1.2,  0.2],\n",
       "       [ 5.7,  4.4,  1.5,  0.4],\n",
       "       [ 5.4,  3.9,  1.3,  0.4],\n",
       "       [ 5.1,  3.5,  1.4,  0.3],\n",
       "       [ 5.7,  3.8,  1.7,  0.3],\n",
       "       [ 5.1,  3.8,  1.5,  0.3],\n",
       "       [ 5.4,  3.4,  1.7,  0.2],\n",
       "       [ 5.1,  3.7,  1.5,  0.4],\n",
       "       [ 4.6,  3.6,  1. ,  0.2],\n",
       "       [ 5.1,  3.3,  1.7,  0.5],\n",
       "       [ 4.8,  3.4,  1.9,  0.2],\n",
       "       [ 5. ,  3. ,  1.6,  0.2],\n",
       "       [ 5. ,  3.4,  1.6,  0.4],\n",
       "       [ 5.2,  3.5,  1.5,  0.2],\n",
       "       [ 5.2,  3.4,  1.4,  0.2],\n",
       "       [ 4.7,  3.2,  1.6,  0.2],\n",
       "       [ 4.8,  3.1,  1.6,  0.2],\n",
       "       [ 5.4,  3.4,  1.5,  0.4],\n",
       "       [ 5.2,  4.1,  1.5,  0.1],\n",
       "       [ 5.5,  4.2,  1.4,  0.2],\n",
       "       [ 4.9,  3.1,  1.5,  0.2],\n",
       "       [ 5. ,  3.2,  1.2,  0.2],\n",
       "       [ 5.5,  3.5,  1.3,  0.2],\n",
       "       [ 4.9,  3.6,  1.4,  0.1],\n",
       "       [ 4.4,  3. ,  1.3,  0.2],\n",
       "       [ 5.1,  3.4,  1.5,  0.2],\n",
       "       [ 5. ,  3.5,  1.3,  0.3],\n",
       "       [ 4.5,  2.3,  1.3,  0.3],\n",
       "       [ 4.4,  3.2,  1.3,  0.2],\n",
       "       [ 5. ,  3.5,  1.6,  0.6],\n",
       "       [ 5.1,  3.8,  1.9,  0.4],\n",
       "       [ 4.8,  3. ,  1.4,  0.3],\n",
       "       [ 5.1,  3.8,  1.6,  0.2],\n",
       "       [ 4.6,  3.2,  1.4,  0.2],\n",
       "       [ 5.3,  3.7,  1.5,  0.2],\n",
       "       [ 5. ,  3.3,  1.4,  0.2],\n",
       "       [ 7. ,  3.2,  4.7,  1.4],\n",
       "       [ 6.4,  3.2,  4.5,  1.5],\n",
       "       [ 6.9,  3.1,  4.9,  1.5],\n",
       "       [ 5.5,  2.3,  4. ,  1.3],\n",
       "       [ 6.5,  2.8,  4.6,  1.5],\n",
       "       [ 5.7,  2.8,  4.5,  1.3],\n",
       "       [ 6.3,  3.3,  4.7,  1.6],\n",
       "       [ 4.9,  2.4,  3.3,  1. ],\n",
       "       [ 6.6,  2.9,  4.6,  1.3],\n",
       "       [ 5.2,  2.7,  3.9,  1.4],\n",
       "       [ 5. ,  2. ,  3.5,  1. ],\n",
       "       [ 5.9,  3. ,  4.2,  1.5],\n",
       "       [ 6. ,  2.2,  4. ,  1. ],\n",
       "       [ 6.1,  2.9,  4.7,  1.4],\n",
       "       [ 5.6,  2.9,  3.6,  1.3],\n",
       "       [ 6.7,  3.1,  4.4,  1.4],\n",
       "       [ 5.6,  3. ,  4.5,  1.5],\n",
       "       [ 5.8,  2.7,  4.1,  1. ],\n",
       "       [ 6.2,  2.2,  4.5,  1.5],\n",
       "       [ 5.6,  2.5,  3.9,  1.1],\n",
       "       [ 5.9,  3.2,  4.8,  1.8],\n",
       "       [ 6.1,  2.8,  4. ,  1.3],\n",
       "       [ 6.3,  2.5,  4.9,  1.5],\n",
       "       [ 6.1,  2.8,  4.7,  1.2],\n",
       "       [ 6.4,  2.9,  4.3,  1.3],\n",
       "       [ 6.6,  3. ,  4.4,  1.4],\n",
       "       [ 6.8,  2.8,  4.8,  1.4],\n",
       "       [ 6.7,  3. ,  5. ,  1.7],\n",
       "       [ 6. ,  2.9,  4.5,  1.5],\n",
       "       [ 5.7,  2.6,  3.5,  1. ],\n",
       "       [ 5.5,  2.4,  3.8,  1.1],\n",
       "       [ 5.5,  2.4,  3.7,  1. ],\n",
       "       [ 5.8,  2.7,  3.9,  1.2],\n",
       "       [ 6. ,  2.7,  5.1,  1.6],\n",
       "       [ 5.4,  3. ,  4.5,  1.5],\n",
       "       [ 6. ,  3.4,  4.5,  1.6],\n",
       "       [ 6.7,  3.1,  4.7,  1.5],\n",
       "       [ 6.3,  2.3,  4.4,  1.3],\n",
       "       [ 5.6,  3. ,  4.1,  1.3],\n",
       "       [ 5.5,  2.5,  4. ,  1.3],\n",
       "       [ 5.5,  2.6,  4.4,  1.2],\n",
       "       [ 6.1,  3. ,  4.6,  1.4],\n",
       "       [ 5.8,  2.6,  4. ,  1.2],\n",
       "       [ 5. ,  2.3,  3.3,  1. ],\n",
       "       [ 5.6,  2.7,  4.2,  1.3],\n",
       "       [ 5.7,  3. ,  4.2,  1.2],\n",
       "       [ 5.7,  2.9,  4.2,  1.3],\n",
       "       [ 6.2,  2.9,  4.3,  1.3],\n",
       "       [ 5.1,  2.5,  3. ,  1.1],\n",
       "       [ 5.7,  2.8,  4.1,  1.3],\n",
       "       [ 6.3,  3.3,  6. ,  2.5],\n",
       "       [ 5.8,  2.7,  5.1,  1.9],\n",
       "       [ 7.1,  3. ,  5.9,  2.1],\n",
       "       [ 6.3,  2.9,  5.6,  1.8],\n",
       "       [ 6.5,  3. ,  5.8,  2.2],\n",
       "       [ 7.6,  3. ,  6.6,  2.1],\n",
       "       [ 4.9,  2.5,  4.5,  1.7],\n",
       "       [ 7.3,  2.9,  6.3,  1.8],\n",
       "       [ 6.7,  2.5,  5.8,  1.8],\n",
       "       [ 7.2,  3.6,  6.1,  2.5],\n",
       "       [ 6.5,  3.2,  5.1,  2. ],\n",
       "       [ 6.4,  2.7,  5.3,  1.9],\n",
       "       [ 6.8,  3. ,  5.5,  2.1],\n",
       "       [ 5.7,  2.5,  5. ,  2. ],\n",
       "       [ 5.8,  2.8,  5.1,  2.4],\n",
       "       [ 6.4,  3.2,  5.3,  2.3],\n",
       "       [ 6.5,  3. ,  5.5,  1.8],\n",
       "       [ 7.7,  3.8,  6.7,  2.2],\n",
       "       [ 7.7,  2.6,  6.9,  2.3],\n",
       "       [ 6. ,  2.2,  5. ,  1.5],\n",
       "       [ 6.9,  3.2,  5.7,  2.3],\n",
       "       [ 5.6,  2.8,  4.9,  2. ],\n",
       "       [ 7.7,  2.8,  6.7,  2. ],\n",
       "       [ 6.3,  2.7,  4.9,  1.8],\n",
       "       [ 6.7,  3.3,  5.7,  2.1],\n",
       "       [ 7.2,  3.2,  6. ,  1.8],\n",
       "       [ 6.2,  2.8,  4.8,  1.8],\n",
       "       [ 6.1,  3. ,  4.9,  1.8],\n",
       "       [ 6.4,  2.8,  5.6,  2.1],\n",
       "       [ 7.2,  3. ,  5.8,  1.6],\n",
       "       [ 7.4,  2.8,  6.1,  1.9],\n",
       "       [ 7.9,  3.8,  6.4,  2. ],\n",
       "       [ 6.4,  2.8,  5.6,  2.2],\n",
       "       [ 6.3,  2.8,  5.1,  1.5],\n",
       "       [ 6.1,  2.6,  5.6,  1.4],\n",
       "       [ 7.7,  3. ,  6.1,  2.3],\n",
       "       [ 6.3,  3.4,  5.6,  2.4],\n",
       "       [ 6.4,  3.1,  5.5,  1.8],\n",
       "       [ 6. ,  3. ,  4.8,  1.8],\n",
       "       [ 6.9,  3.1,  5.4,  2.1],\n",
       "       [ 6.7,  3.1,  5.6,  2.4],\n",
       "       [ 6.9,  3.1,  5.1,  2.3],\n",
       "       [ 5.8,  2.7,  5.1,  1.9],\n",
       "       [ 6.8,  3.2,  5.9,  2.3],\n",
       "       [ 6.7,  3.3,  5.7,  2.5],\n",
       "       [ 6.7,  3. ,  5.2,  2.3],\n",
       "       [ 6.3,  2.5,  5. ,  1.9],\n",
       "       [ 6.5,  3. ,  5.2,  2. ],\n",
       "       [ 6.2,  3.4,  5.4,  2.3],\n",
       "       [ 5.9,  3. ,  5.1,  1.8]])"
      ]
     },
     "execution_count": 253,
     "metadata": {},
     "output_type": "execute_result"
    }
   ],
   "source": [
    "iris = np.array(sns.load_dataset('iris').iloc[:, 0:4])\n",
    "iris"
   ]
  },
  {
   "cell_type": "markdown",
   "metadata": {},
   "source": [
    "## Excercise\n",
    " compute the z-scores in each column\n",
    " \n",
    " i.e., standardize each variable (column) \n",
    " \n",
    " x = x- x"
   ]
  },
  {
   "cell_type": "code",
   "execution_count": 262,
   "metadata": {
    "collapsed": false
   },
   "outputs": [
    {
     "data": {
      "text/plain": [
       "array([[ -9.00681170e-01,   1.01900435e+00,  -1.34022653e+00,\n",
       "         -1.31544430e+00],\n",
       "       [ -1.14301691e+00,  -1.31979479e-01,  -1.34022653e+00,\n",
       "         -1.31544430e+00],\n",
       "       [ -1.38535265e+00,   3.28414053e-01,  -1.39706395e+00,\n",
       "         -1.31544430e+00],\n",
       "       [ -1.50652052e+00,   9.82172869e-02,  -1.28338910e+00,\n",
       "         -1.31544430e+00],\n",
       "       [ -1.02184904e+00,   1.24920112e+00,  -1.34022653e+00,\n",
       "         -1.31544430e+00],\n",
       "       [ -5.37177559e-01,   1.93979142e+00,  -1.16971425e+00,\n",
       "         -1.05217993e+00],\n",
       "       [ -1.50652052e+00,   7.88807586e-01,  -1.34022653e+00,\n",
       "         -1.18381211e+00],\n",
       "       [ -1.02184904e+00,   7.88807586e-01,  -1.28338910e+00,\n",
       "         -1.31544430e+00],\n",
       "       [ -1.74885626e+00,  -3.62176246e-01,  -1.34022653e+00,\n",
       "         -1.31544430e+00],\n",
       "       [ -1.14301691e+00,   9.82172869e-02,  -1.28338910e+00,\n",
       "         -1.44707648e+00],\n",
       "       [ -5.37177559e-01,   1.47939788e+00,  -1.28338910e+00,\n",
       "         -1.31544430e+00],\n",
       "       [ -1.26418478e+00,   7.88807586e-01,  -1.22655167e+00,\n",
       "         -1.31544430e+00],\n",
       "       [ -1.26418478e+00,  -1.31979479e-01,  -1.34022653e+00,\n",
       "         -1.44707648e+00],\n",
       "       [ -1.87002413e+00,  -1.31979479e-01,  -1.51073881e+00,\n",
       "         -1.44707648e+00],\n",
       "       [ -5.25060772e-02,   2.16998818e+00,  -1.45390138e+00,\n",
       "         -1.31544430e+00],\n",
       "       [ -1.73673948e-01,   3.09077525e+00,  -1.28338910e+00,\n",
       "         -1.05217993e+00],\n",
       "       [ -5.37177559e-01,   1.93979142e+00,  -1.39706395e+00,\n",
       "         -1.05217993e+00],\n",
       "       [ -9.00681170e-01,   1.01900435e+00,  -1.34022653e+00,\n",
       "         -1.18381211e+00],\n",
       "       [ -1.73673948e-01,   1.70959465e+00,  -1.16971425e+00,\n",
       "         -1.18381211e+00],\n",
       "       [ -9.00681170e-01,   1.70959465e+00,  -1.28338910e+00,\n",
       "         -1.18381211e+00],\n",
       "       [ -5.37177559e-01,   7.88807586e-01,  -1.16971425e+00,\n",
       "         -1.31544430e+00],\n",
       "       [ -9.00681170e-01,   1.47939788e+00,  -1.28338910e+00,\n",
       "         -1.05217993e+00],\n",
       "       [ -1.50652052e+00,   1.24920112e+00,  -1.56757623e+00,\n",
       "         -1.31544430e+00],\n",
       "       [ -9.00681170e-01,   5.58610819e-01,  -1.16971425e+00,\n",
       "         -9.20547742e-01],\n",
       "       [ -1.26418478e+00,   7.88807586e-01,  -1.05603939e+00,\n",
       "         -1.31544430e+00],\n",
       "       [ -1.02184904e+00,  -1.31979479e-01,  -1.22655167e+00,\n",
       "         -1.31544430e+00],\n",
       "       [ -1.02184904e+00,   7.88807586e-01,  -1.22655167e+00,\n",
       "         -1.05217993e+00],\n",
       "       [ -7.79513300e-01,   1.01900435e+00,  -1.28338910e+00,\n",
       "         -1.31544430e+00],\n",
       "       [ -7.79513300e-01,   7.88807586e-01,  -1.34022653e+00,\n",
       "         -1.31544430e+00],\n",
       "       [ -1.38535265e+00,   3.28414053e-01,  -1.22655167e+00,\n",
       "         -1.31544430e+00],\n",
       "       [ -1.26418478e+00,   9.82172869e-02,  -1.22655167e+00,\n",
       "         -1.31544430e+00],\n",
       "       [ -5.37177559e-01,   7.88807586e-01,  -1.28338910e+00,\n",
       "         -1.05217993e+00],\n",
       "       [ -7.79513300e-01,   2.40018495e+00,  -1.28338910e+00,\n",
       "         -1.44707648e+00],\n",
       "       [ -4.16009689e-01,   2.63038172e+00,  -1.34022653e+00,\n",
       "         -1.31544430e+00],\n",
       "       [ -1.14301691e+00,   9.82172869e-02,  -1.28338910e+00,\n",
       "         -1.31544430e+00],\n",
       "       [ -1.02184904e+00,   3.28414053e-01,  -1.45390138e+00,\n",
       "         -1.31544430e+00],\n",
       "       [ -4.16009689e-01,   1.01900435e+00,  -1.39706395e+00,\n",
       "         -1.31544430e+00],\n",
       "       [ -1.14301691e+00,   1.24920112e+00,  -1.34022653e+00,\n",
       "         -1.44707648e+00],\n",
       "       [ -1.74885626e+00,  -1.31979479e-01,  -1.39706395e+00,\n",
       "         -1.31544430e+00],\n",
       "       [ -9.00681170e-01,   7.88807586e-01,  -1.28338910e+00,\n",
       "         -1.31544430e+00],\n",
       "       [ -1.02184904e+00,   1.01900435e+00,  -1.39706395e+00,\n",
       "         -1.18381211e+00],\n",
       "       [ -1.62768839e+00,  -1.74335684e+00,  -1.39706395e+00,\n",
       "         -1.18381211e+00],\n",
       "       [ -1.74885626e+00,   3.28414053e-01,  -1.39706395e+00,\n",
       "         -1.31544430e+00],\n",
       "       [ -1.02184904e+00,   1.01900435e+00,  -1.22655167e+00,\n",
       "         -7.88915558e-01],\n",
       "       [ -9.00681170e-01,   1.70959465e+00,  -1.05603939e+00,\n",
       "         -1.05217993e+00],\n",
       "       [ -1.26418478e+00,  -1.31979479e-01,  -1.34022653e+00,\n",
       "         -1.18381211e+00],\n",
       "       [ -9.00681170e-01,   1.70959465e+00,  -1.22655167e+00,\n",
       "         -1.31544430e+00],\n",
       "       [ -1.50652052e+00,   3.28414053e-01,  -1.34022653e+00,\n",
       "         -1.31544430e+00],\n",
       "       [ -6.58345429e-01,   1.47939788e+00,  -1.28338910e+00,\n",
       "         -1.31544430e+00],\n",
       "       [ -1.02184904e+00,   5.58610819e-01,  -1.34022653e+00,\n",
       "         -1.31544430e+00],\n",
       "       [  1.40150837e+00,   3.28414053e-01,   5.35408562e-01,\n",
       "          2.64141916e-01],\n",
       "       [  6.74501145e-01,   3.28414053e-01,   4.21733708e-01,\n",
       "          3.95774101e-01],\n",
       "       [  1.28034050e+00,   9.82172869e-02,   6.49083415e-01,\n",
       "          3.95774101e-01],\n",
       "       [ -4.16009689e-01,  -1.74335684e+00,   1.37546573e-01,\n",
       "          1.32509732e-01],\n",
       "       [  7.95669016e-01,  -5.92373012e-01,   4.78571135e-01,\n",
       "          3.95774101e-01],\n",
       "       [ -1.73673948e-01,  -5.92373012e-01,   4.21733708e-01,\n",
       "          1.32509732e-01],\n",
       "       [  5.53333275e-01,   5.58610819e-01,   5.35408562e-01,\n",
       "          5.27406285e-01],\n",
       "       [ -1.14301691e+00,  -1.51316008e+00,  -2.60315415e-01,\n",
       "         -2.62386821e-01],\n",
       "       [  9.16836886e-01,  -3.62176246e-01,   4.78571135e-01,\n",
       "          1.32509732e-01],\n",
       "       [ -7.79513300e-01,  -8.22569778e-01,   8.07091462e-02,\n",
       "          2.64141916e-01],\n",
       "       [ -1.02184904e+00,  -2.43394714e+00,  -1.46640561e-01,\n",
       "         -2.62386821e-01],\n",
       "       [  6.86617933e-02,  -1.31979479e-01,   2.51221427e-01,\n",
       "          3.95774101e-01],\n",
       "       [  1.89829664e-01,  -1.97355361e+00,   1.37546573e-01,\n",
       "         -2.62386821e-01],\n",
       "       [  3.10997534e-01,  -3.62176246e-01,   5.35408562e-01,\n",
       "          2.64141916e-01],\n",
       "       [ -2.94841818e-01,  -3.62176246e-01,  -8.98031345e-02,\n",
       "          1.32509732e-01],\n",
       "       [  1.03800476e+00,   9.82172869e-02,   3.64896281e-01,\n",
       "          2.64141916e-01],\n",
       "       [ -2.94841818e-01,  -1.31979479e-01,   4.21733708e-01,\n",
       "          3.95774101e-01],\n",
       "       [ -5.25060772e-02,  -8.22569778e-01,   1.94384000e-01,\n",
       "         -2.62386821e-01],\n",
       "       [  4.32165405e-01,  -1.97355361e+00,   4.21733708e-01,\n",
       "          3.95774101e-01],\n",
       "       [ -2.94841818e-01,  -1.28296331e+00,   8.07091462e-02,\n",
       "         -1.30754636e-01],\n",
       "       [  6.86617933e-02,   3.28414053e-01,   5.92245988e-01,\n",
       "          7.90670654e-01],\n",
       "       [  3.10997534e-01,  -5.92373012e-01,   1.37546573e-01,\n",
       "          1.32509732e-01],\n",
       "       [  5.53333275e-01,  -1.28296331e+00,   6.49083415e-01,\n",
       "          3.95774101e-01],\n",
       "       [  3.10997534e-01,  -5.92373012e-01,   5.35408562e-01,\n",
       "          8.77547895e-04],\n",
       "       [  6.74501145e-01,  -3.62176246e-01,   3.08058854e-01,\n",
       "          1.32509732e-01],\n",
       "       [  9.16836886e-01,  -1.31979479e-01,   3.64896281e-01,\n",
       "          2.64141916e-01],\n",
       "       [  1.15917263e+00,  -5.92373012e-01,   5.92245988e-01,\n",
       "          2.64141916e-01],\n",
       "       [  1.03800476e+00,  -1.31979479e-01,   7.05920842e-01,\n",
       "          6.59038469e-01],\n",
       "       [  1.89829664e-01,  -3.62176246e-01,   4.21733708e-01,\n",
       "          3.95774101e-01],\n",
       "       [ -1.73673948e-01,  -1.05276654e+00,  -1.46640561e-01,\n",
       "         -2.62386821e-01],\n",
       "       [ -4.16009689e-01,  -1.51316008e+00,   2.38717193e-02,\n",
       "         -1.30754636e-01],\n",
       "       [ -4.16009689e-01,  -1.51316008e+00,  -3.29657076e-02,\n",
       "         -2.62386821e-01],\n",
       "       [ -5.25060772e-02,  -8.22569778e-01,   8.07091462e-02,\n",
       "          8.77547895e-04],\n",
       "       [  1.89829664e-01,  -8.22569778e-01,   7.62758269e-01,\n",
       "          5.27406285e-01],\n",
       "       [ -5.37177559e-01,  -1.31979479e-01,   4.21733708e-01,\n",
       "          3.95774101e-01],\n",
       "       [  1.89829664e-01,   7.88807586e-01,   4.21733708e-01,\n",
       "          5.27406285e-01],\n",
       "       [  1.03800476e+00,   9.82172869e-02,   5.35408562e-01,\n",
       "          3.95774101e-01],\n",
       "       [  5.53333275e-01,  -1.74335684e+00,   3.64896281e-01,\n",
       "          1.32509732e-01],\n",
       "       [ -2.94841818e-01,  -1.31979479e-01,   1.94384000e-01,\n",
       "          1.32509732e-01],\n",
       "       [ -4.16009689e-01,  -1.28296331e+00,   1.37546573e-01,\n",
       "          1.32509732e-01],\n",
       "       [ -4.16009689e-01,  -1.05276654e+00,   3.64896281e-01,\n",
       "          8.77547895e-04],\n",
       "       [  3.10997534e-01,  -1.31979479e-01,   4.78571135e-01,\n",
       "          2.64141916e-01],\n",
       "       [ -5.25060772e-02,  -1.05276654e+00,   1.37546573e-01,\n",
       "          8.77547895e-04],\n",
       "       [ -1.02184904e+00,  -1.74335684e+00,  -2.60315415e-01,\n",
       "         -2.62386821e-01],\n",
       "       [ -2.94841818e-01,  -8.22569778e-01,   2.51221427e-01,\n",
       "          1.32509732e-01],\n",
       "       [ -1.73673948e-01,  -1.31979479e-01,   2.51221427e-01,\n",
       "          8.77547895e-04],\n",
       "       [ -1.73673948e-01,  -3.62176246e-01,   2.51221427e-01,\n",
       "          1.32509732e-01],\n",
       "       [  4.32165405e-01,  -3.62176246e-01,   3.08058854e-01,\n",
       "          1.32509732e-01],\n",
       "       [ -9.00681170e-01,  -1.28296331e+00,  -4.30827696e-01,\n",
       "         -1.30754636e-01],\n",
       "       [ -1.73673948e-01,  -5.92373012e-01,   1.94384000e-01,\n",
       "          1.32509732e-01],\n",
       "       [  5.53333275e-01,   5.58610819e-01,   1.27429511e+00,\n",
       "          1.71209594e+00],\n",
       "       [ -5.25060772e-02,  -8.22569778e-01,   7.62758269e-01,\n",
       "          9.22302838e-01],\n",
       "       [  1.52267624e+00,  -1.31979479e-01,   1.21745768e+00,\n",
       "          1.18556721e+00],\n",
       "       [  5.53333275e-01,  -3.62176246e-01,   1.04694540e+00,\n",
       "          7.90670654e-01],\n",
       "       [  7.95669016e-01,  -1.31979479e-01,   1.16062026e+00,\n",
       "          1.31719939e+00],\n",
       "       [  2.12851559e+00,  -1.31979479e-01,   1.61531967e+00,\n",
       "          1.18556721e+00],\n",
       "       [ -1.14301691e+00,  -1.28296331e+00,   4.21733708e-01,\n",
       "          6.59038469e-01],\n",
       "       [  1.76501198e+00,  -3.62176246e-01,   1.44480739e+00,\n",
       "          7.90670654e-01],\n",
       "       [  1.03800476e+00,  -1.28296331e+00,   1.16062026e+00,\n",
       "          7.90670654e-01],\n",
       "       [  1.64384411e+00,   1.24920112e+00,   1.33113254e+00,\n",
       "          1.71209594e+00],\n",
       "       [  7.95669016e-01,   3.28414053e-01,   7.62758269e-01,\n",
       "          1.05393502e+00],\n",
       "       [  6.74501145e-01,  -8.22569778e-01,   8.76433123e-01,\n",
       "          9.22302838e-01],\n",
       "       [  1.15917263e+00,  -1.31979479e-01,   9.90107977e-01,\n",
       "          1.18556721e+00],\n",
       "       [ -1.73673948e-01,  -1.28296331e+00,   7.05920842e-01,\n",
       "          1.05393502e+00],\n",
       "       [ -5.25060772e-02,  -5.92373012e-01,   7.62758269e-01,\n",
       "          1.58046376e+00],\n",
       "       [  6.74501145e-01,   3.28414053e-01,   8.76433123e-01,\n",
       "          1.44883158e+00],\n",
       "       [  7.95669016e-01,  -1.31979479e-01,   9.90107977e-01,\n",
       "          7.90670654e-01],\n",
       "       [  2.24968346e+00,   1.70959465e+00,   1.67215710e+00,\n",
       "          1.31719939e+00],\n",
       "       [  2.24968346e+00,  -1.05276654e+00,   1.78583195e+00,\n",
       "          1.44883158e+00],\n",
       "       [  1.89829664e-01,  -1.97355361e+00,   7.05920842e-01,\n",
       "          3.95774101e-01],\n",
       "       [  1.28034050e+00,   3.28414053e-01,   1.10378283e+00,\n",
       "          1.44883158e+00],\n",
       "       [ -2.94841818e-01,  -5.92373012e-01,   6.49083415e-01,\n",
       "          1.05393502e+00],\n",
       "       [  2.24968346e+00,  -5.92373012e-01,   1.67215710e+00,\n",
       "          1.05393502e+00],\n",
       "       [  5.53333275e-01,  -8.22569778e-01,   6.49083415e-01,\n",
       "          7.90670654e-01],\n",
       "       [  1.03800476e+00,   5.58610819e-01,   1.10378283e+00,\n",
       "          1.18556721e+00],\n",
       "       [  1.64384411e+00,   3.28414053e-01,   1.27429511e+00,\n",
       "          7.90670654e-01],\n",
       "       [  4.32165405e-01,  -5.92373012e-01,   5.92245988e-01,\n",
       "          7.90670654e-01],\n",
       "       [  3.10997534e-01,  -1.31979479e-01,   6.49083415e-01,\n",
       "          7.90670654e-01],\n",
       "       [  6.74501145e-01,  -5.92373012e-01,   1.04694540e+00,\n",
       "          1.18556721e+00],\n",
       "       [  1.64384411e+00,  -1.31979479e-01,   1.16062026e+00,\n",
       "          5.27406285e-01],\n",
       "       [  1.88617985e+00,  -5.92373012e-01,   1.33113254e+00,\n",
       "          9.22302838e-01],\n",
       "       [  2.49201920e+00,   1.70959465e+00,   1.50164482e+00,\n",
       "          1.05393502e+00],\n",
       "       [  6.74501145e-01,  -5.92373012e-01,   1.04694540e+00,\n",
       "          1.31719939e+00],\n",
       "       [  5.53333275e-01,  -5.92373012e-01,   7.62758269e-01,\n",
       "          3.95774101e-01],\n",
       "       [  3.10997534e-01,  -1.05276654e+00,   1.04694540e+00,\n",
       "          2.64141916e-01],\n",
       "       [  2.24968346e+00,  -1.31979479e-01,   1.33113254e+00,\n",
       "          1.44883158e+00],\n",
       "       [  5.53333275e-01,   7.88807586e-01,   1.04694540e+00,\n",
       "          1.58046376e+00],\n",
       "       [  6.74501145e-01,   9.82172869e-02,   9.90107977e-01,\n",
       "          7.90670654e-01],\n",
       "       [  1.89829664e-01,  -1.31979479e-01,   5.92245988e-01,\n",
       "          7.90670654e-01],\n",
       "       [  1.28034050e+00,   9.82172869e-02,   9.33270550e-01,\n",
       "          1.18556721e+00],\n",
       "       [  1.03800476e+00,   9.82172869e-02,   1.04694540e+00,\n",
       "          1.58046376e+00],\n",
       "       [  1.28034050e+00,   9.82172869e-02,   7.62758269e-01,\n",
       "          1.44883158e+00],\n",
       "       [ -5.25060772e-02,  -8.22569778e-01,   7.62758269e-01,\n",
       "          9.22302838e-01],\n",
       "       [  1.15917263e+00,   3.28414053e-01,   1.21745768e+00,\n",
       "          1.44883158e+00],\n",
       "       [  1.03800476e+00,   5.58610819e-01,   1.10378283e+00,\n",
       "          1.71209594e+00],\n",
       "       [  1.03800476e+00,  -1.31979479e-01,   8.19595696e-01,\n",
       "          1.44883158e+00],\n",
       "       [  5.53333275e-01,  -1.28296331e+00,   7.05920842e-01,\n",
       "          9.22302838e-01],\n",
       "       [  7.95669016e-01,  -1.31979479e-01,   8.19595696e-01,\n",
       "          1.05393502e+00],\n",
       "       [  4.32165405e-01,   7.88807586e-01,   9.33270550e-01,\n",
       "          1.44883158e+00],\n",
       "       [  6.86617933e-02,  -1.31979479e-01,   7.62758269e-01,\n",
       "          7.90670654e-01]])"
      ]
     },
     "execution_count": 262,
     "metadata": {},
     "output_type": "execute_result"
    }
   ],
   "source": [
    "(iris - np.mean(iris, axis = 0))/np.std(iris, axis = 0)\n"
   ]
  },
  {
   "cell_type": "code",
   "execution_count": 264,
   "metadata": {
    "collapsed": false
   },
   "outputs": [],
   "source": [
    "iris_std = (iris - iris.mean(axis = 0))/iris.std(axis = 0)"
   ]
  },
  {
   "cell_type": "code",
   "execution_count": 266,
   "metadata": {
    "collapsed": false
   },
   "outputs": [
    {
     "data": {
      "text/plain": [
       "array([ -4.73695157e-16,  -7.81597009e-16,  -4.26325641e-16,\n",
       "        -4.73695157e-16])"
      ]
     },
     "execution_count": 266,
     "metadata": {},
     "output_type": "execute_result"
    }
   ],
   "source": [
    "iris_std.mean(axis = 0)"
   ]
  },
  {
   "cell_type": "code",
   "execution_count": 267,
   "metadata": {
    "collapsed": false
   },
   "outputs": [
    {
     "data": {
      "text/plain": [
       "array([ 1.,  1.,  1.,  1.])"
      ]
     },
     "execution_count": 267,
     "metadata": {},
     "output_type": "execute_result"
    }
   ],
   "source": [
    "iris_std.std(axis = 0)"
   ]
  },
  {
   "cell_type": "code",
   "execution_count": 268,
   "metadata": {
    "collapsed": true
   },
   "outputs": [],
   "source": [
    "# Now mean = 0, std = 1"
   ]
  },
  {
   "cell_type": "code",
   "execution_count": 269,
   "metadata": {
    "collapsed": false
   },
   "outputs": [
    {
     "data": {
      "text/plain": [
       "array([2, 0])"
      ]
     },
     "execution_count": 269,
     "metadata": {},
     "output_type": "execute_result"
    }
   ],
   "source": [
    "np.array([True, False]) * np.array([2, 4])"
   ]
  },
  {
   "cell_type": "code",
   "execution_count": 272,
   "metadata": {
    "collapsed": false
   },
   "outputs": [
    {
     "data": {
      "text/plain": [
       "array([ True,  True,  True, False,  True,  True,  True], dtype=bool)"
      ]
     },
     "execution_count": 272,
     "metadata": {},
     "output_type": "execute_result"
    }
   ],
   "source": [
    "np.r_[-3, -2, -1, 0, 1, 2, 3].astype(np.bool_)   ## Only 0 is false"
   ]
  },
  {
   "cell_type": "code",
   "execution_count": 274,
   "metadata": {
    "collapsed": false
   },
   "outputs": [
    {
     "data": {
      "text/plain": [
       "array([4, 5, 3, 4, 5])"
      ]
     },
     "execution_count": 274,
     "metadata": {},
     "output_type": "execute_result"
    }
   ],
   "source": [
    "x = np.r_[1, 2, 3, 4, 5]\n",
    "y = np.r_[4, 5, 2, 3, 4]\n",
    "np.maximum(x, y)"
   ]
  },
  {
   "cell_type": "code",
   "execution_count": 276,
   "metadata": {
    "collapsed": false
   },
   "outputs": [
    {
     "data": {
      "text/plain": [
       "array([1, 2, 2, 3, 4])"
      ]
     },
     "execution_count": 276,
     "metadata": {},
     "output_type": "execute_result"
    }
   ],
   "source": [
    "np.minimum(x, y)  ## it's a element wise operation"
   ]
  },
  {
   "cell_type": "code",
   "execution_count": 288,
   "metadata": {
    "collapsed": true
   },
   "outputs": [],
   "source": [
    "# in iris_std, clamp each element into [-1, 1] (in the range -1 to 1)"
   ]
  },
  {
   "cell_type": "code",
   "execution_count": 285,
   "metadata": {
    "collapsed": false
   },
   "outputs": [
    {
     "data": {
      "text/plain": [
       "array([[ -9.00681170e-01,   1.00000000e+00,  -1.00000000e+00,\n",
       "         -1.00000000e+00],\n",
       "       [ -1.00000000e+00,  -1.31979479e-01,  -1.00000000e+00,\n",
       "         -1.00000000e+00],\n",
       "       [ -1.00000000e+00,   3.28414053e-01,  -1.00000000e+00,\n",
       "         -1.00000000e+00],\n",
       "       [ -1.00000000e+00,   9.82172869e-02,  -1.00000000e+00,\n",
       "         -1.00000000e+00],\n",
       "       [ -1.00000000e+00,   1.00000000e+00,  -1.00000000e+00,\n",
       "         -1.00000000e+00],\n",
       "       [ -5.37177559e-01,   1.00000000e+00,  -1.00000000e+00,\n",
       "         -1.00000000e+00],\n",
       "       [ -1.00000000e+00,   7.88807586e-01,  -1.00000000e+00,\n",
       "         -1.00000000e+00],\n",
       "       [ -1.00000000e+00,   7.88807586e-01,  -1.00000000e+00,\n",
       "         -1.00000000e+00],\n",
       "       [ -1.00000000e+00,  -3.62176246e-01,  -1.00000000e+00,\n",
       "         -1.00000000e+00],\n",
       "       [ -1.00000000e+00,   9.82172869e-02,  -1.00000000e+00,\n",
       "         -1.00000000e+00],\n",
       "       [ -5.37177559e-01,   1.00000000e+00,  -1.00000000e+00,\n",
       "         -1.00000000e+00],\n",
       "       [ -1.00000000e+00,   7.88807586e-01,  -1.00000000e+00,\n",
       "         -1.00000000e+00],\n",
       "       [ -1.00000000e+00,  -1.31979479e-01,  -1.00000000e+00,\n",
       "         -1.00000000e+00],\n",
       "       [ -1.00000000e+00,  -1.31979479e-01,  -1.00000000e+00,\n",
       "         -1.00000000e+00],\n",
       "       [ -5.25060772e-02,   1.00000000e+00,  -1.00000000e+00,\n",
       "         -1.00000000e+00],\n",
       "       [ -1.73673948e-01,   1.00000000e+00,  -1.00000000e+00,\n",
       "         -1.00000000e+00],\n",
       "       [ -5.37177559e-01,   1.00000000e+00,  -1.00000000e+00,\n",
       "         -1.00000000e+00],\n",
       "       [ -9.00681170e-01,   1.00000000e+00,  -1.00000000e+00,\n",
       "         -1.00000000e+00],\n",
       "       [ -1.73673948e-01,   1.00000000e+00,  -1.00000000e+00,\n",
       "         -1.00000000e+00],\n",
       "       [ -9.00681170e-01,   1.00000000e+00,  -1.00000000e+00,\n",
       "         -1.00000000e+00],\n",
       "       [ -5.37177559e-01,   7.88807586e-01,  -1.00000000e+00,\n",
       "         -1.00000000e+00],\n",
       "       [ -9.00681170e-01,   1.00000000e+00,  -1.00000000e+00,\n",
       "         -1.00000000e+00],\n",
       "       [ -1.00000000e+00,   1.00000000e+00,  -1.00000000e+00,\n",
       "         -1.00000000e+00],\n",
       "       [ -9.00681170e-01,   5.58610819e-01,  -1.00000000e+00,\n",
       "         -9.20547742e-01],\n",
       "       [ -1.00000000e+00,   7.88807586e-01,  -1.00000000e+00,\n",
       "         -1.00000000e+00],\n",
       "       [ -1.00000000e+00,  -1.31979479e-01,  -1.00000000e+00,\n",
       "         -1.00000000e+00],\n",
       "       [ -1.00000000e+00,   7.88807586e-01,  -1.00000000e+00,\n",
       "         -1.00000000e+00],\n",
       "       [ -7.79513300e-01,   1.00000000e+00,  -1.00000000e+00,\n",
       "         -1.00000000e+00],\n",
       "       [ -7.79513300e-01,   7.88807586e-01,  -1.00000000e+00,\n",
       "         -1.00000000e+00],\n",
       "       [ -1.00000000e+00,   3.28414053e-01,  -1.00000000e+00,\n",
       "         -1.00000000e+00],\n",
       "       [ -1.00000000e+00,   9.82172869e-02,  -1.00000000e+00,\n",
       "         -1.00000000e+00],\n",
       "       [ -5.37177559e-01,   7.88807586e-01,  -1.00000000e+00,\n",
       "         -1.00000000e+00],\n",
       "       [ -7.79513300e-01,   1.00000000e+00,  -1.00000000e+00,\n",
       "         -1.00000000e+00],\n",
       "       [ -4.16009689e-01,   1.00000000e+00,  -1.00000000e+00,\n",
       "         -1.00000000e+00],\n",
       "       [ -1.00000000e+00,   9.82172869e-02,  -1.00000000e+00,\n",
       "         -1.00000000e+00],\n",
       "       [ -1.00000000e+00,   3.28414053e-01,  -1.00000000e+00,\n",
       "         -1.00000000e+00],\n",
       "       [ -4.16009689e-01,   1.00000000e+00,  -1.00000000e+00,\n",
       "         -1.00000000e+00],\n",
       "       [ -1.00000000e+00,   1.00000000e+00,  -1.00000000e+00,\n",
       "         -1.00000000e+00],\n",
       "       [ -1.00000000e+00,  -1.31979479e-01,  -1.00000000e+00,\n",
       "         -1.00000000e+00],\n",
       "       [ -9.00681170e-01,   7.88807586e-01,  -1.00000000e+00,\n",
       "         -1.00000000e+00],\n",
       "       [ -1.00000000e+00,   1.00000000e+00,  -1.00000000e+00,\n",
       "         -1.00000000e+00],\n",
       "       [ -1.00000000e+00,  -1.00000000e+00,  -1.00000000e+00,\n",
       "         -1.00000000e+00],\n",
       "       [ -1.00000000e+00,   3.28414053e-01,  -1.00000000e+00,\n",
       "         -1.00000000e+00],\n",
       "       [ -1.00000000e+00,   1.00000000e+00,  -1.00000000e+00,\n",
       "         -7.88915558e-01],\n",
       "       [ -9.00681170e-01,   1.00000000e+00,  -1.00000000e+00,\n",
       "         -1.00000000e+00],\n",
       "       [ -1.00000000e+00,  -1.31979479e-01,  -1.00000000e+00,\n",
       "         -1.00000000e+00],\n",
       "       [ -9.00681170e-01,   1.00000000e+00,  -1.00000000e+00,\n",
       "         -1.00000000e+00],\n",
       "       [ -1.00000000e+00,   3.28414053e-01,  -1.00000000e+00,\n",
       "         -1.00000000e+00],\n",
       "       [ -6.58345429e-01,   1.00000000e+00,  -1.00000000e+00,\n",
       "         -1.00000000e+00],\n",
       "       [ -1.00000000e+00,   5.58610819e-01,  -1.00000000e+00,\n",
       "         -1.00000000e+00],\n",
       "       [  1.00000000e+00,   3.28414053e-01,   5.35408562e-01,\n",
       "          2.64141916e-01],\n",
       "       [  6.74501145e-01,   3.28414053e-01,   4.21733708e-01,\n",
       "          3.95774101e-01],\n",
       "       [  1.00000000e+00,   9.82172869e-02,   6.49083415e-01,\n",
       "          3.95774101e-01],\n",
       "       [ -4.16009689e-01,  -1.00000000e+00,   1.37546573e-01,\n",
       "          1.32509732e-01],\n",
       "       [  7.95669016e-01,  -5.92373012e-01,   4.78571135e-01,\n",
       "          3.95774101e-01],\n",
       "       [ -1.73673948e-01,  -5.92373012e-01,   4.21733708e-01,\n",
       "          1.32509732e-01],\n",
       "       [  5.53333275e-01,   5.58610819e-01,   5.35408562e-01,\n",
       "          5.27406285e-01],\n",
       "       [ -1.00000000e+00,  -1.00000000e+00,  -2.60315415e-01,\n",
       "         -2.62386821e-01],\n",
       "       [  9.16836886e-01,  -3.62176246e-01,   4.78571135e-01,\n",
       "          1.32509732e-01],\n",
       "       [ -7.79513300e-01,  -8.22569778e-01,   8.07091462e-02,\n",
       "          2.64141916e-01],\n",
       "       [ -1.00000000e+00,  -1.00000000e+00,  -1.46640561e-01,\n",
       "         -2.62386821e-01],\n",
       "       [  6.86617933e-02,  -1.31979479e-01,   2.51221427e-01,\n",
       "          3.95774101e-01],\n",
       "       [  1.89829664e-01,  -1.00000000e+00,   1.37546573e-01,\n",
       "         -2.62386821e-01],\n",
       "       [  3.10997534e-01,  -3.62176246e-01,   5.35408562e-01,\n",
       "          2.64141916e-01],\n",
       "       [ -2.94841818e-01,  -3.62176246e-01,  -8.98031345e-02,\n",
       "          1.32509732e-01],\n",
       "       [  1.00000000e+00,   9.82172869e-02,   3.64896281e-01,\n",
       "          2.64141916e-01],\n",
       "       [ -2.94841818e-01,  -1.31979479e-01,   4.21733708e-01,\n",
       "          3.95774101e-01],\n",
       "       [ -5.25060772e-02,  -8.22569778e-01,   1.94384000e-01,\n",
       "         -2.62386821e-01],\n",
       "       [  4.32165405e-01,  -1.00000000e+00,   4.21733708e-01,\n",
       "          3.95774101e-01],\n",
       "       [ -2.94841818e-01,  -1.00000000e+00,   8.07091462e-02,\n",
       "         -1.30754636e-01],\n",
       "       [  6.86617933e-02,   3.28414053e-01,   5.92245988e-01,\n",
       "          7.90670654e-01],\n",
       "       [  3.10997534e-01,  -5.92373012e-01,   1.37546573e-01,\n",
       "          1.32509732e-01],\n",
       "       [  5.53333275e-01,  -1.00000000e+00,   6.49083415e-01,\n",
       "          3.95774101e-01],\n",
       "       [  3.10997534e-01,  -5.92373012e-01,   5.35408562e-01,\n",
       "          8.77547895e-04],\n",
       "       [  6.74501145e-01,  -3.62176246e-01,   3.08058854e-01,\n",
       "          1.32509732e-01],\n",
       "       [  9.16836886e-01,  -1.31979479e-01,   3.64896281e-01,\n",
       "          2.64141916e-01],\n",
       "       [  1.00000000e+00,  -5.92373012e-01,   5.92245988e-01,\n",
       "          2.64141916e-01],\n",
       "       [  1.00000000e+00,  -1.31979479e-01,   7.05920842e-01,\n",
       "          6.59038469e-01],\n",
       "       [  1.89829664e-01,  -3.62176246e-01,   4.21733708e-01,\n",
       "          3.95774101e-01],\n",
       "       [ -1.73673948e-01,  -1.00000000e+00,  -1.46640561e-01,\n",
       "         -2.62386821e-01],\n",
       "       [ -4.16009689e-01,  -1.00000000e+00,   2.38717193e-02,\n",
       "         -1.30754636e-01],\n",
       "       [ -4.16009689e-01,  -1.00000000e+00,  -3.29657076e-02,\n",
       "         -2.62386821e-01],\n",
       "       [ -5.25060772e-02,  -8.22569778e-01,   8.07091462e-02,\n",
       "          8.77547895e-04],\n",
       "       [  1.89829664e-01,  -8.22569778e-01,   7.62758269e-01,\n",
       "          5.27406285e-01],\n",
       "       [ -5.37177559e-01,  -1.31979479e-01,   4.21733708e-01,\n",
       "          3.95774101e-01],\n",
       "       [  1.89829664e-01,   7.88807586e-01,   4.21733708e-01,\n",
       "          5.27406285e-01],\n",
       "       [  1.00000000e+00,   9.82172869e-02,   5.35408562e-01,\n",
       "          3.95774101e-01],\n",
       "       [  5.53333275e-01,  -1.00000000e+00,   3.64896281e-01,\n",
       "          1.32509732e-01],\n",
       "       [ -2.94841818e-01,  -1.31979479e-01,   1.94384000e-01,\n",
       "          1.32509732e-01],\n",
       "       [ -4.16009689e-01,  -1.00000000e+00,   1.37546573e-01,\n",
       "          1.32509732e-01],\n",
       "       [ -4.16009689e-01,  -1.00000000e+00,   3.64896281e-01,\n",
       "          8.77547895e-04],\n",
       "       [  3.10997534e-01,  -1.31979479e-01,   4.78571135e-01,\n",
       "          2.64141916e-01],\n",
       "       [ -5.25060772e-02,  -1.00000000e+00,   1.37546573e-01,\n",
       "          8.77547895e-04],\n",
       "       [ -1.00000000e+00,  -1.00000000e+00,  -2.60315415e-01,\n",
       "         -2.62386821e-01],\n",
       "       [ -2.94841818e-01,  -8.22569778e-01,   2.51221427e-01,\n",
       "          1.32509732e-01],\n",
       "       [ -1.73673948e-01,  -1.31979479e-01,   2.51221427e-01,\n",
       "          8.77547895e-04],\n",
       "       [ -1.73673948e-01,  -3.62176246e-01,   2.51221427e-01,\n",
       "          1.32509732e-01],\n",
       "       [  4.32165405e-01,  -3.62176246e-01,   3.08058854e-01,\n",
       "          1.32509732e-01],\n",
       "       [ -9.00681170e-01,  -1.00000000e+00,  -4.30827696e-01,\n",
       "         -1.30754636e-01],\n",
       "       [ -1.73673948e-01,  -5.92373012e-01,   1.94384000e-01,\n",
       "          1.32509732e-01],\n",
       "       [  5.53333275e-01,   5.58610819e-01,   1.00000000e+00,\n",
       "          1.00000000e+00],\n",
       "       [ -5.25060772e-02,  -8.22569778e-01,   7.62758269e-01,\n",
       "          9.22302838e-01],\n",
       "       [  1.00000000e+00,  -1.31979479e-01,   1.00000000e+00,\n",
       "          1.00000000e+00],\n",
       "       [  5.53333275e-01,  -3.62176246e-01,   1.00000000e+00,\n",
       "          7.90670654e-01],\n",
       "       [  7.95669016e-01,  -1.31979479e-01,   1.00000000e+00,\n",
       "          1.00000000e+00],\n",
       "       [  1.00000000e+00,  -1.31979479e-01,   1.00000000e+00,\n",
       "          1.00000000e+00],\n",
       "       [ -1.00000000e+00,  -1.00000000e+00,   4.21733708e-01,\n",
       "          6.59038469e-01],\n",
       "       [  1.00000000e+00,  -3.62176246e-01,   1.00000000e+00,\n",
       "          7.90670654e-01],\n",
       "       [  1.00000000e+00,  -1.00000000e+00,   1.00000000e+00,\n",
       "          7.90670654e-01],\n",
       "       [  1.00000000e+00,   1.00000000e+00,   1.00000000e+00,\n",
       "          1.00000000e+00],\n",
       "       [  7.95669016e-01,   3.28414053e-01,   7.62758269e-01,\n",
       "          1.00000000e+00],\n",
       "       [  6.74501145e-01,  -8.22569778e-01,   8.76433123e-01,\n",
       "          9.22302838e-01],\n",
       "       [  1.00000000e+00,  -1.31979479e-01,   9.90107977e-01,\n",
       "          1.00000000e+00],\n",
       "       [ -1.73673948e-01,  -1.00000000e+00,   7.05920842e-01,\n",
       "          1.00000000e+00],\n",
       "       [ -5.25060772e-02,  -5.92373012e-01,   7.62758269e-01,\n",
       "          1.00000000e+00],\n",
       "       [  6.74501145e-01,   3.28414053e-01,   8.76433123e-01,\n",
       "          1.00000000e+00],\n",
       "       [  7.95669016e-01,  -1.31979479e-01,   9.90107977e-01,\n",
       "          7.90670654e-01],\n",
       "       [  1.00000000e+00,   1.00000000e+00,   1.00000000e+00,\n",
       "          1.00000000e+00],\n",
       "       [  1.00000000e+00,  -1.00000000e+00,   1.00000000e+00,\n",
       "          1.00000000e+00],\n",
       "       [  1.89829664e-01,  -1.00000000e+00,   7.05920842e-01,\n",
       "          3.95774101e-01],\n",
       "       [  1.00000000e+00,   3.28414053e-01,   1.00000000e+00,\n",
       "          1.00000000e+00],\n",
       "       [ -2.94841818e-01,  -5.92373012e-01,   6.49083415e-01,\n",
       "          1.00000000e+00],\n",
       "       [  1.00000000e+00,  -5.92373012e-01,   1.00000000e+00,\n",
       "          1.00000000e+00],\n",
       "       [  5.53333275e-01,  -8.22569778e-01,   6.49083415e-01,\n",
       "          7.90670654e-01],\n",
       "       [  1.00000000e+00,   5.58610819e-01,   1.00000000e+00,\n",
       "          1.00000000e+00],\n",
       "       [  1.00000000e+00,   3.28414053e-01,   1.00000000e+00,\n",
       "          7.90670654e-01],\n",
       "       [  4.32165405e-01,  -5.92373012e-01,   5.92245988e-01,\n",
       "          7.90670654e-01],\n",
       "       [  3.10997534e-01,  -1.31979479e-01,   6.49083415e-01,\n",
       "          7.90670654e-01],\n",
       "       [  6.74501145e-01,  -5.92373012e-01,   1.00000000e+00,\n",
       "          1.00000000e+00],\n",
       "       [  1.00000000e+00,  -1.31979479e-01,   1.00000000e+00,\n",
       "          5.27406285e-01],\n",
       "       [  1.00000000e+00,  -5.92373012e-01,   1.00000000e+00,\n",
       "          9.22302838e-01],\n",
       "       [  1.00000000e+00,   1.00000000e+00,   1.00000000e+00,\n",
       "          1.00000000e+00],\n",
       "       [  6.74501145e-01,  -5.92373012e-01,   1.00000000e+00,\n",
       "          1.00000000e+00],\n",
       "       [  5.53333275e-01,  -5.92373012e-01,   7.62758269e-01,\n",
       "          3.95774101e-01],\n",
       "       [  3.10997534e-01,  -1.00000000e+00,   1.00000000e+00,\n",
       "          2.64141916e-01],\n",
       "       [  1.00000000e+00,  -1.31979479e-01,   1.00000000e+00,\n",
       "          1.00000000e+00],\n",
       "       [  5.53333275e-01,   7.88807586e-01,   1.00000000e+00,\n",
       "          1.00000000e+00],\n",
       "       [  6.74501145e-01,   9.82172869e-02,   9.90107977e-01,\n",
       "          7.90670654e-01],\n",
       "       [  1.89829664e-01,  -1.31979479e-01,   5.92245988e-01,\n",
       "          7.90670654e-01],\n",
       "       [  1.00000000e+00,   9.82172869e-02,   9.33270550e-01,\n",
       "          1.00000000e+00],\n",
       "       [  1.00000000e+00,   9.82172869e-02,   1.00000000e+00,\n",
       "          1.00000000e+00],\n",
       "       [  1.00000000e+00,   9.82172869e-02,   7.62758269e-01,\n",
       "          1.00000000e+00],\n",
       "       [ -5.25060772e-02,  -8.22569778e-01,   7.62758269e-01,\n",
       "          9.22302838e-01],\n",
       "       [  1.00000000e+00,   3.28414053e-01,   1.00000000e+00,\n",
       "          1.00000000e+00],\n",
       "       [  1.00000000e+00,   5.58610819e-01,   1.00000000e+00,\n",
       "          1.00000000e+00],\n",
       "       [  1.00000000e+00,  -1.31979479e-01,   8.19595696e-01,\n",
       "          1.00000000e+00],\n",
       "       [  5.53333275e-01,  -1.00000000e+00,   7.05920842e-01,\n",
       "          9.22302838e-01],\n",
       "       [  7.95669016e-01,  -1.31979479e-01,   8.19595696e-01,\n",
       "          1.00000000e+00],\n",
       "       [  4.32165405e-01,   7.88807586e-01,   9.33270550e-01,\n",
       "          1.00000000e+00],\n",
       "       [  6.86617933e-02,  -1.31979479e-01,   7.62758269e-01,\n",
       "          7.90670654e-01]])"
      ]
     },
     "execution_count": 285,
     "metadata": {},
     "output_type": "execute_result"
    }
   ],
   "source": [
    "np.minimum(1, np.maximum(-1, iris_std))"
   ]
  },
  {
   "cell_type": "code",
   "execution_count": 286,
   "metadata": {
    "collapsed": false
   },
   "outputs": [
    {
     "data": {
      "text/plain": [
       "array([ 1,  3,  6, 10, 15])"
      ]
     },
     "execution_count": 286,
     "metadata": {},
     "output_type": "execute_result"
    }
   ],
   "source": [
    "np.cumsum(np.r_[1, 2, 3, 4, 5])   # cumulative sum"
   ]
  },
  {
   "cell_type": "code",
   "execution_count": 287,
   "metadata": {
    "collapsed": false
   },
   "outputs": [
    {
     "data": {
      "text/plain": [
       "array([1, 2, 3, 4])"
      ]
     },
     "execution_count": 287,
     "metadata": {},
     "output_type": "execute_result"
    }
   ],
   "source": [
    "np.diff(np.r_[1, 2, 4, 7, 11])  # iterated difference"
   ]
  },
  {
   "cell_type": "code",
   "execution_count": 289,
   "metadata": {
    "collapsed": false
   },
   "outputs": [
    {
     "data": {
      "image/png": "[encoded data removed]",
      "text/plain": [
       "<matplotlib.figure.Figure at 0x7f4423b1f748>"
      ]
     },
     "metadata": {},
     "output_type": "display_data"
    }
   ],
   "source": [
    "%matplotlib inline\n",
    "import matplotlib.pyplot as plt\n",
    "x = np.random.randn(100)\n",
    "plt.plot(x, 'bo')\n",
    "plt.show()"
   ]
  },
  {
   "cell_type": "code",
   "execution_count": 290,
   "metadata": {
    "collapsed": false
   },
   "outputs": [
    {
     "data": {
      "image/png": "[encoded data removed]",
      "text/plain": [
       "<matplotlib.figure.Figure at 0x7f442280d9b0>"
      ]
     },
     "metadata": {},
     "output_type": "display_data"
    }
   ],
   "source": [
    "plt.plot(np.cumsum(x), 'bo')      \n",
    "plt.show()"
   ]
  },
  {
   "cell_type": "markdown",
   "metadata": {},
   "source": [
    "### np.cumsum() is more like integrative\n",
    "__for example, in case of stock market predictions__\n",
    "### np.diff() is more like differentiative"
   ]
  },
  {
   "cell_type": "code",
   "execution_count": 291,
   "metadata": {
    "collapsed": false
   },
   "outputs": [
    {
     "data": {
      "image/png": "[encoded data removed]",
      "text/plain": [
       "<matplotlib.figure.Figure at 0x7f44201ed550>"
      ]
     },
     "metadata": {},
     "output_type": "display_data"
    }
   ],
   "source": [
    "plt.plot(np.diff(x), 'bo')      \n",
    "plt.show()"
   ]
  },
  {
   "cell_type": "code",
   "execution_count": 320,
   "metadata": {
    "collapsed": false
   },
   "outputs": [
    {
     "data": {
      "text/plain": [
       "3.0"
      ]
     },
     "execution_count": 320,
     "metadata": {},
     "output_type": "execute_result"
    }
   ],
   "source": [
    "np.median(np.r_[3, 5, 1, 2, 4])"
   ]
  },
  {
   "cell_type": "code",
   "execution_count": 321,
   "metadata": {
    "collapsed": false
   },
   "outputs": [
    {
     "data": {
      "text/plain": [
       "3.5"
      ]
     },
     "execution_count": 321,
     "metadata": {},
     "output_type": "execute_result"
    }
   ],
   "source": [
    "np.median(np.r_[3, 5, 1, 2, 4, 6])"
   ]
  },
  {
   "cell_type": "code",
   "execution_count": 322,
   "metadata": {
    "collapsed": false
   },
   "outputs": [
    {
     "data": {
      "text/plain": [
       "2.25"
      ]
     },
     "execution_count": 322,
     "metadata": {},
     "output_type": "execute_result"
    }
   ],
   "source": [
    "np.percentile(np.r_[3, 4, 5, 1, 2, 3], 25)"
   ]
  },
  {
   "cell_type": "code",
   "execution_count": 323,
   "metadata": {
    "collapsed": false
   },
   "outputs": [
    {
     "data": {
      "text/plain": [
       "<matplotlib.axes._subplots.AxesSubplot at 0x7f442017c8d0>"
      ]
     },
     "execution_count": 323,
     "metadata": {},
     "output_type": "execute_result"
    },
    {
     "data": {
      "image/png": "[encoded data removed]",
      "text/plain": [
       "<matplotlib.figure.Figure at 0x7f44201dbb70>"
      ]
     },
     "metadata": {},
     "output_type": "display_data"
    }
   ],
   "source": [
    "sns.boxplot(iris[:,0])"
   ]
  },
  {
   "cell_type": "markdown",
   "metadata": {},
   "source": [
    "![title of Box-plot](http://www.physics.csbsju.edu/stats/simple.box.defs.gif)"
   ]
  },
  {
   "cell_type": "markdown",
   "metadata": {},
   "source": [
    "# relational & comparison operators"
   ]
  },
  {
   "cell_type": "code",
   "execution_count": 292,
   "metadata": {
    "collapsed": true
   },
   "outputs": [],
   "source": [
    "# < <= => > == != -- all elementwise operators"
   ]
  },
  {
   "cell_type": "code",
   "execution_count": 293,
   "metadata": {
    "collapsed": false
   },
   "outputs": [
    {
     "data": {
      "text/plain": [
       "array([ True,  True,  True,  True, False, False, False], dtype=bool)"
      ]
     },
     "execution_count": 293,
     "metadata": {},
     "output_type": "execute_result"
    }
   ],
   "source": [
    "np.r_[-3, -2, -1, 0, 1, 2, 3] <= 0"
   ]
  },
  {
   "cell_type": "code",
   "execution_count": 294,
   "metadata": {
    "collapsed": false
   },
   "outputs": [
    {
     "data": {
      "text/plain": [
       "True"
      ]
     },
     "execution_count": 294,
     "metadata": {},
     "output_type": "execute_result"
    }
   ],
   "source": [
    "np.any(np.r_[-3, -2, -1, 0, 1, 2, 3] <= 0)"
   ]
  },
  {
   "cell_type": "code",
   "execution_count": 295,
   "metadata": {
    "collapsed": false
   },
   "outputs": [
    {
     "data": {
      "text/plain": [
       "False"
      ]
     },
     "execution_count": 295,
     "metadata": {},
     "output_type": "execute_result"
    }
   ],
   "source": [
    "np.all(np.r_[-3, -2, -1, 0, 1, 2, 3] <= 0)"
   ]
  },
  {
   "cell_type": "code",
   "execution_count": 296,
   "metadata": {
    "collapsed": false
   },
   "outputs": [
    {
     "data": {
      "text/plain": [
       "4"
      ]
     },
     "execution_count": 296,
     "metadata": {},
     "output_type": "execute_result"
    }
   ],
   "source": [
    "np.sum(np.r_[-3, -2, -1, 0, 1, 2, 3] <= 0) # how many values are <= 0"
   ]
  },
  {
   "cell_type": "code",
   "execution_count": 298,
   "metadata": {
    "collapsed": false
   },
   "outputs": [
    {
     "data": {
      "text/plain": [
       "0.5714285714285714"
      ]
     },
     "execution_count": 298,
     "metadata": {},
     "output_type": "execute_result"
    }
   ],
   "source": [
    "np.mean(np.r_[-3, -2, -1, 0, 1, 2, 3] <= 0) # the proportion of <= 0"
   ]
  },
  {
   "cell_type": "code",
   "execution_count": 300,
   "metadata": {
    "collapsed": false
   },
   "outputs": [
    {
     "data": {
      "text/plain": [
       "True"
      ]
     },
     "execution_count": 300,
     "metadata": {},
     "output_type": "execute_result"
    }
   ],
   "source": [
    "# In standard Python, we can use operator chaining for scalar\n",
    "1<2<3"
   ]
  },
  {
   "cell_type": "code",
   "execution_count": 301,
   "metadata": {
    "collapsed": false
   },
   "outputs": [
    {
     "data": {
      "text/plain": [
       "array([[[[ True]]]], dtype=bool)"
      ]
     },
     "execution_count": 301,
     "metadata": {},
     "output_type": "execute_result"
    }
   ],
   "source": [
    "1 < np.r_[2] < np.array([[[[3]]]])"
   ]
  },
  {
   "cell_type": "code",
   "execution_count": 302,
   "metadata": {
    "collapsed": false
   },
   "outputs": [
    {
     "ename": "ValueError",
     "evalue": "The truth value of an array with more than one element is ambiguous. Use a.any() or a.all()",
     "output_type": "error",
     "traceback": [
      "\u001b[0;31m---------------------------------------------------------------------------\u001b[0m",
      "\u001b[0;31mValueError\u001b[0m                                Traceback (most recent call last)",
      "\u001b[0;32m<ipython-input-302-8cf9825e0f0d>\u001b[0m in \u001b[0;36m<module>\u001b[0;34m()\u001b[0m\n\u001b[0;32m----> 1\u001b[0;31m \u001b[0mnp\u001b[0m\u001b[0;34m.\u001b[0m\u001b[0mr_\u001b[0m\u001b[0;34m[\u001b[0m\u001b[0;36m0\u001b[0m\u001b[0;34m,\u001b[0m \u001b[0;36m1\u001b[0m\u001b[0;34m]\u001b[0m \u001b[0;34m<\u001b[0m \u001b[0mnp\u001b[0m\u001b[0;34m.\u001b[0m\u001b[0mr_\u001b[0m\u001b[0;34m[\u001b[0m\u001b[0;36m1\u001b[0m\u001b[0;34m,\u001b[0m \u001b[0;36m2\u001b[0m\u001b[0;34m]\u001b[0m \u001b[0;34m<\u001b[0m \u001b[0mnp\u001b[0m\u001b[0;34m.\u001b[0m\u001b[0mr_\u001b[0m\u001b[0;34m[\u001b[0m\u001b[0;36m2\u001b[0m\u001b[0;34m,\u001b[0m \u001b[0;36m3\u001b[0m\u001b[0;34m]\u001b[0m\u001b[0;34m\u001b[0m\u001b[0m\n\u001b[0m",
      "\u001b[0;31mValueError\u001b[0m: The truth value of an array with more than one element is ambiguous. Use a.any() or a.all()"
     ]
    }
   ],
   "source": [
    "np.r_[0, 1] < np.r_[1, 2] < np.r_[2, 3]"
   ]
  },
  {
   "cell_type": "code",
   "execution_count": 303,
   "metadata": {
    "collapsed": false
   },
   "outputs": [
    {
     "ename": "ValueError",
     "evalue": "The truth value of an array with more than one element is ambiguous. Use a.any() or a.all()",
     "output_type": "error",
     "traceback": [
      "\u001b[0;31m---------------------------------------------------------------------------\u001b[0m",
      "\u001b[0;31mValueError\u001b[0m                                Traceback (most recent call last)",
      "\u001b[0;32m<ipython-input-303-98c3aff797a1>\u001b[0m in \u001b[0;36m<module>\u001b[0;34m()\u001b[0m\n\u001b[1;32m      1\u001b[0m \u001b[0;31m# and, or, not -> & | ~\u001b[0m\u001b[0;34m\u001b[0m\u001b[0;34m\u001b[0m\u001b[0m\n\u001b[0;32m----> 2\u001b[0;31m \u001b[0mnp\u001b[0m\u001b[0;34m.\u001b[0m\u001b[0mr_\u001b[0m\u001b[0;34m[\u001b[0m\u001b[0;36m0\u001b[0m\u001b[0;34m,\u001b[0m \u001b[0;36m1\u001b[0m\u001b[0;34m]\u001b[0m \u001b[0;34m<\u001b[0m \u001b[0mnp\u001b[0m\u001b[0;34m.\u001b[0m\u001b[0mr_\u001b[0m\u001b[0;34m[\u001b[0m\u001b[0;36m1\u001b[0m\u001b[0;34m,\u001b[0m \u001b[0;36m2\u001b[0m\u001b[0;34m]\u001b[0m \u001b[0;34m&\u001b[0m \u001b[0mnp\u001b[0m\u001b[0;34m.\u001b[0m\u001b[0mr_\u001b[0m\u001b[0;34m[\u001b[0m\u001b[0;36m1\u001b[0m\u001b[0;34m,\u001b[0m \u001b[0;36m2\u001b[0m\u001b[0;34m]\u001b[0m \u001b[0;34m<\u001b[0m \u001b[0mnp\u001b[0m\u001b[0;34m.\u001b[0m\u001b[0mr_\u001b[0m\u001b[0;34m[\u001b[0m\u001b[0;36m2\u001b[0m\u001b[0;34m,\u001b[0m \u001b[0;36m3\u001b[0m\u001b[0;34m]\u001b[0m\u001b[0;34m\u001b[0m\u001b[0m\n\u001b[0m",
      "\u001b[0;31mValueError\u001b[0m: The truth value of an array with more than one element is ambiguous. Use a.any() or a.all()"
     ]
    }
   ],
   "source": [
    "# and, or, not -> & | ~\n",
    "np.r_[0, 1] < np.r_[1, 2] & np.r_[1, 2] < np.r_[2, 3]\n"
   ]
  },
  {
   "cell_type": "code",
   "execution_count": 304,
   "metadata": {
    "collapsed": false
   },
   "outputs": [
    {
     "data": {
      "text/plain": [
       "array([ True,  True], dtype=bool)"
      ]
     },
     "execution_count": 304,
     "metadata": {},
     "output_type": "execute_result"
    }
   ],
   "source": [
    "(np.r_[0, 1] < np.r_[1, 2]) & (np.r_[1, 2] < np.r_[2, 3])"
   ]
  },
  {
   "cell_type": "code",
   "execution_count": 305,
   "metadata": {
    "collapsed": false
   },
   "outputs": [
    {
     "data": {
      "text/plain": [
       "False"
      ]
     },
     "execution_count": 305,
     "metadata": {},
     "output_type": "execute_result"
    }
   ],
   "source": [
    "np.sin(np.pi) == 0.0"
   ]
  },
  {
   "cell_type": "code",
   "execution_count": 306,
   "metadata": {
    "collapsed": false
   },
   "outputs": [
    {
     "data": {
      "text/plain": [
       "1.2246467991473532e-16"
      ]
     },
     "execution_count": 306,
     "metadata": {},
     "output_type": "execute_result"
    }
   ],
   "source": [
    "np.sin(np.pi)"
   ]
  },
  {
   "cell_type": "code",
   "execution_count": 307,
   "metadata": {
    "collapsed": false
   },
   "outputs": [
    {
     "data": {
      "text/plain": [
       "True"
      ]
     },
     "execution_count": 307,
     "metadata": {},
     "output_type": "execute_result"
    }
   ],
   "source": [
    "np.abs(np.sin(np.pi) - 0.0) < 1e-12"
   ]
  },
  {
   "cell_type": "code",
   "execution_count": 308,
   "metadata": {
    "collapsed": false
   },
   "outputs": [
    {
     "data": {
      "text/plain": [
       "True"
      ]
     },
     "execution_count": 308,
     "metadata": {},
     "output_type": "execute_result"
    }
   ],
   "source": [
    "np.isclose(np.sin(np.pi), 0.0)"
   ]
  },
  {
   "cell_type": "code",
   "execution_count": 310,
   "metadata": {
    "collapsed": false
   },
   "outputs": [],
   "source": [
    "?np.isclose"
   ]
  },
  {
   "cell_type": "markdown",
   "metadata": {},
   "source": [
    "## Vectorized math funs"
   ]
  },
  {
   "cell_type": "code",
   "execution_count": 312,
   "metadata": {
    "collapsed": false
   },
   "outputs": [
    {
     "data": {
      "text/plain": [
       "2.9199999999999999"
      ]
     },
     "execution_count": 312,
     "metadata": {},
     "output_type": "execute_result"
    }
   ],
   "source": [
    "# np.sin, np.cos, np.tan\n",
    "# np.log, np.log2, np.exp\n",
    "# np.sign, np.abs, np.floor, np.ceil, np.round, np.trunc\n",
    "x = np.random.uniform(5)\n",
    "np.round(x, 2)"
   ]
  },
  {
   "cell_type": "markdown",
   "metadata": {},
   "source": [
    " $f([x_0, x_1, x_2, .... x_n]) == [f(x_0), f(x_1), f(x_2), ...... f(x_n)]$"
   ]
  },
  {
   "cell_type": "code",
   "execution_count": 313,
   "metadata": {
    "collapsed": true
   },
   "outputs": [],
   "source": [
    "x = np.r_[-2, -1.5, -1, -0.5, 0, 0.4, 0.5, 0.6, 1, 1.5, 2]"
   ]
  },
  {
   "cell_type": "code",
   "execution_count": 314,
   "metadata": {
    "collapsed": false
   },
   "outputs": [
    {
     "data": {
      "text/plain": [
       "array([-2., -1., -1., -0.,  0.,  0.,  0.,  0.,  1.,  1.,  2.])"
      ]
     },
     "execution_count": 314,
     "metadata": {},
     "output_type": "execute_result"
    }
   ],
   "source": [
    "np.trunc(x)"
   ]
  },
  {
   "cell_type": "code",
   "execution_count": 315,
   "metadata": {
    "collapsed": false
   },
   "outputs": [
    {
     "data": {
      "text/plain": [
       "array([-2., -2., -1., -1.,  0.,  0.,  0.,  0.,  1.,  1.,  2.])"
      ]
     },
     "execution_count": 315,
     "metadata": {},
     "output_type": "execute_result"
    }
   ],
   "source": [
    "np.floor(x)"
   ]
  },
  {
   "cell_type": "code",
   "execution_count": 316,
   "metadata": {
    "collapsed": false
   },
   "outputs": [
    {
     "data": {
      "text/plain": [
       "array([-2., -1., -1., -0.,  0.,  1.,  1.,  1.,  1.,  2.,  2.])"
      ]
     },
     "execution_count": 316,
     "metadata": {},
     "output_type": "execute_result"
    }
   ],
   "source": [
    "np.ceil(x)"
   ]
  },
  {
   "cell_type": "code",
   "execution_count": 318,
   "metadata": {
    "collapsed": false
   },
   "outputs": [
    {
     "data": {
      "text/plain": [
       "array([-2., -2., -1., -0.,  0.,  0.,  0.,  1.,  1.,  2.,  2.])"
      ]
     },
     "execution_count": 318,
     "metadata": {},
     "output_type": "execute_result"
    }
   ],
   "source": [
    "np.round(x)  # round half to even"
   ]
  },
  {
   "cell_type": "markdown",
   "metadata": {},
   "source": [
    "## Missing values\n",
    "\n",
    "floats -- Nan"
   ]
  },
  {
   "cell_type": "code",
   "execution_count": 326,
   "metadata": {
    "collapsed": false
   },
   "outputs": [
    {
     "data": {
      "text/plain": [
       "nan"
      ]
     },
     "execution_count": 326,
     "metadata": {},
     "output_type": "execute_result"
    }
   ],
   "source": [
    "np.inf - np.inf"
   ]
  },
  {
   "cell_type": "code",
   "execution_count": 327,
   "metadata": {
    "collapsed": true
   },
   "outputs": [],
   "source": [
    "x = np.r_[1.0, 2.0, 3.0, np.nan, 5.0]"
   ]
  },
  {
   "cell_type": "code",
   "execution_count": 328,
   "metadata": {
    "collapsed": false
   },
   "outputs": [
    {
     "data": {
      "text/plain": [
       "array([  2.,   3.,   4.,  nan,   6.])"
      ]
     },
     "execution_count": 328,
     "metadata": {},
     "output_type": "execute_result"
    }
   ],
   "source": [
    "x +1"
   ]
  },
  {
   "cell_type": "code",
   "execution_count": 329,
   "metadata": {
    "collapsed": false
   },
   "outputs": [
    {
     "data": {
      "text/plain": [
       "nan"
      ]
     },
     "execution_count": 329,
     "metadata": {},
     "output_type": "execute_result"
    }
   ],
   "source": [
    "np.mean(x)"
   ]
  },
  {
   "cell_type": "code",
   "execution_count": 330,
   "metadata": {
    "collapsed": false
   },
   "outputs": [
    {
     "data": {
      "text/plain": [
       "2.75"
      ]
     },
     "execution_count": 330,
     "metadata": {},
     "output_type": "execute_result"
    }
   ],
   "source": [
    "np.nanmean(x)"
   ]
  },
  {
   "cell_type": "code",
   "execution_count": 331,
   "metadata": {
    "collapsed": true
   },
   "outputs": [],
   "source": [
    "# nansum, nanpercentile, nanvar"
   ]
  },
  {
   "cell_type": "markdown",
   "metadata": {},
   "source": [
    "## Other operations"
   ]
  },
  {
   "cell_type": "code",
   "execution_count": 332,
   "metadata": {
    "collapsed": false
   },
   "outputs": [
    {
     "data": {
      "text/plain": [
       "array([1, 3, 4, 4, 6, 7])"
      ]
     },
     "execution_count": 332,
     "metadata": {},
     "output_type": "execute_result"
    }
   ],
   "source": [
    "np.sort(np.r_[1, 4, 6, 7, 4, 3])   # kind = \"quicksort\""
   ]
  },
  {
   "cell_type": "code",
   "execution_count": 333,
   "metadata": {
    "collapsed": false
   },
   "outputs": [
    {
     "data": {
      "text/plain": [
       "array([7, 6, 4, 4, 3, 1])"
      ]
     },
     "execution_count": 333,
     "metadata": {},
     "output_type": "execute_result"
    }
   ],
   "source": [
    "np.sort(np.r_[1, 4, 6, 7, 4, 3])[::-1]"
   ]
  },
  {
   "cell_type": "code",
   "execution_count": 334,
   "metadata": {
    "collapsed": false
   },
   "outputs": [
    {
     "data": {
      "text/plain": [
       "array([0, 3, 2, 4, 1])"
      ]
     },
     "execution_count": 334,
     "metadata": {},
     "output_type": "execute_result"
    }
   ],
   "source": [
    "np.random.permutation(np.arange(5))"
   ]
  },
  {
   "cell_type": "code",
   "execution_count": 335,
   "metadata": {
    "collapsed": false
   },
   "outputs": [
    {
     "data": {
      "text/plain": [
       "array([1, 2, 3, 4, 5, 6, 7])"
      ]
     },
     "execution_count": 335,
     "metadata": {},
     "output_type": "execute_result"
    }
   ],
   "source": [
    "np.unique(np.r_[1, 2, 3, 2, 1, 4, 5, 6, 3, 4, 7])"
   ]
  },
  {
   "cell_type": "code",
   "execution_count": 336,
   "metadata": {
    "collapsed": false
   },
   "outputs": [
    {
     "data": {
      "text/plain": [
       "array([[2, 2, 6, 1],\n",
       "       [3, 9, 6, 1],\n",
       "       [0, 1, 9, 0]])"
      ]
     },
     "execution_count": 336,
     "metadata": {},
     "output_type": "execute_result"
    }
   ],
   "source": [
    "np.random.seed(123)\n",
    "A = np.random.randint(0, 10 ,12).reshape(3, 4)\n",
    "A"
   ]
  },
  {
   "cell_type": "code",
   "execution_count": 338,
   "metadata": {
    "collapsed": true
   },
   "outputs": [],
   "source": [
    "### If the marks of 6 people are 1, 2, 3, 3, 4, 5, their ranks are 1, 2, 3.5, 3.5, 5, 6 "
   ]
  },
  {
   "cell_type": "code",
   "execution_count": 337,
   "metadata": {
    "collapsed": false
   },
   "outputs": [
    {
     "data": {
      "text/plain": [
       "array([  6.5,   6.5,   9.5,   4. ,   8. ,  11.5,   9.5,   4. ,   1.5,\n",
       "         4. ,  11.5,   1.5])"
      ]
     },
     "execution_count": 337,
     "metadata": {},
     "output_type": "execute_result"
    }
   ],
   "source": [
    "import scipy.stats\n",
    "scipy.stats.rankdata(A)"
   ]
  },
  {
   "cell_type": "code",
   "execution_count": 340,
   "metadata": {
    "collapsed": false
   },
   "outputs": [
    {
     "data": {
      "text/plain": [
       "array([[ 2.5,  2.5,  4. ,  1. ],\n",
       "       [ 2. ,  4. ,  3. ,  1. ],\n",
       "       [ 1.5,  3. ,  4. ,  1.5]])"
      ]
     },
     "execution_count": 340,
     "metadata": {},
     "output_type": "execute_result"
    }
   ],
   "source": [
    "np.apply_along_axis(scipy.stats.rankdata, 1, A) # axis = 1"
   ]
  },
  {
   "cell_type": "code",
   "execution_count": 341,
   "metadata": {
    "collapsed": false
   },
   "outputs": [
    {
     "data": {
      "text/plain": [
       "array([[1, 2, 2, 6],\n",
       "       [1, 3, 6, 9],\n",
       "       [0, 0, 1, 9]])"
      ]
     },
     "execution_count": 341,
     "metadata": {},
     "output_type": "execute_result"
    }
   ],
   "source": [
    "np.sort(A, axis = 1)"
   ]
  },
  {
   "cell_type": "markdown",
   "metadata": {},
   "source": [
    "## Vector Indexing"
   ]
  },
  {
   "cell_type": "code",
   "execution_count": 343,
   "metadata": {
    "collapsed": false
   },
   "outputs": [
    {
     "data": {
      "text/plain": [
       "array([ 0, 10, 20, 30, 40, 50, 60, 70, 80, 90])"
      ]
     },
     "execution_count": 343,
     "metadata": {},
     "output_type": "execute_result"
    }
   ],
   "source": [
    "x = np.arange(0, 100, 10)\n",
    "x"
   ]
  },
  {
   "cell_type": "code",
   "execution_count": 344,
   "metadata": {
    "collapsed": false
   },
   "outputs": [
    {
     "data": {
      "text/plain": [
       "0"
      ]
     },
     "execution_count": 344,
     "metadata": {},
     "output_type": "execute_result"
    }
   ],
   "source": [
    "x[0] # scalar-based indexing"
   ]
  },
  {
   "cell_type": "code",
   "execution_count": 345,
   "metadata": {
    "collapsed": false
   },
   "outputs": [
    {
     "data": {
      "text/plain": [
       "90"
      ]
     },
     "execution_count": 345,
     "metadata": {},
     "output_type": "execute_result"
    }
   ],
   "source": [
    "x[-1]"
   ]
  },
  {
   "cell_type": "code",
   "execution_count": 346,
   "metadata": {
    "collapsed": false
   },
   "outputs": [
    {
     "data": {
      "text/plain": [
       "array([ 0, 20, 40])"
      ]
     },
     "execution_count": 346,
     "metadata": {},
     "output_type": "execute_result"
    }
   ],
   "source": [
    "x[0:5:2] # slicing"
   ]
  },
  {
   "cell_type": "code",
   "execution_count": 348,
   "metadata": {
    "collapsed": false
   },
   "outputs": [
    {
     "data": {
      "text/plain": [
       "array([10,  0, 30])"
      ]
     },
     "execution_count": 348,
     "metadata": {},
     "output_type": "execute_result"
    }
   ],
   "source": [
    "x[[1, 0, 3]] ## This doesn't work if x is a pure python list "
   ]
  },
  {
   "cell_type": "code",
   "execution_count": 352,
   "metadata": {
    "collapsed": false
   },
   "outputs": [
    {
     "data": {
      "text/plain": [
       "array([ 0, 20, 40, 50, 70, 90])"
      ]
     },
     "execution_count": 352,
     "metadata": {},
     "output_type": "execute_result"
    }
   ],
   "source": [
    "x[np.r_[True, False, True, False, True, True, False, True, False, True]]"
   ]
  },
  {
   "cell_type": "code",
   "execution_count": 354,
   "metadata": {
    "collapsed": false
   },
   "outputs": [
    {
     "data": {
      "text/plain": [
       "array([ 0, 10, 20, 30, 40])"
      ]
     },
     "execution_count": 354,
     "metadata": {},
     "output_type": "execute_result"
    }
   ],
   "source": [
    "x[ x<50 ]"
   ]
  },
  {
   "cell_type": "code",
   "execution_count": 382,
   "metadata": {
    "collapsed": false
   },
   "outputs": [
    {
     "data": {
      "text/plain": [
       "array([-1.09,  1.  ,  0.28, -1.51, -0.58,  1.65, -2.43, -0.43,  1.27,\n",
       "       -0.87, -0.68, -0.09,  1.49, -0.64, -0.44, -0.43,  2.21,  2.19,\n",
       "        1.  ,  0.39])"
      ]
     },
     "execution_count": 382,
     "metadata": {},
     "output_type": "execute_result"
    }
   ],
   "source": [
    "np.random.seed(123)\n",
    "x = np.round(np.random.normal(size = 20), 2)\n",
    "x"
   ]
  },
  {
   "cell_type": "markdown",
   "metadata": {},
   "source": [
    "- Print all values in [-2, -1] U [1, 2]"
   ]
  },
  {
   "cell_type": "code",
   "execution_count": 398,
   "metadata": {
    "collapsed": false
   },
   "outputs": [
    {
     "data": {
      "text/plain": [
       "array([ 1.  ,  0.28, -0.58,  1.65, -0.43,  1.27, -0.87, -0.68, -0.09,\n",
       "        1.49, -0.64, -0.44, -0.43,  2.21,  2.19,  1.  ,  0.39])"
      ]
     },
     "execution_count": 398,
     "metadata": {},
     "output_type": "execute_result"
    }
   ],
   "source": [
    "x[((x>=-2) & (x>=-1)) | ((x>=2) & (x>=1))]"
   ]
  },
  {
   "cell_type": "code",
   "execution_count": 402,
   "metadata": {
    "collapsed": false
   },
   "outputs": [
    {
     "data": {
      "text/plain": [
       "array([-1.09,  1.  , -1.51,  1.65,  1.27,  1.49,  1.  ])"
      ]
     },
     "execution_count": 402,
     "metadata": {},
     "output_type": "execute_result"
    }
   ],
   "source": [
    "x[(np.abs(x) <= 2) & (np.abs(x) >=1)]"
   ]
  },
  {
   "cell_type": "markdown",
   "metadata": {},
   "source": [
    "- Print the number and the proportion of non-negative elements in x."
   ]
  },
  {
   "cell_type": "code",
   "execution_count": 401,
   "metadata": {
    "collapsed": false
   },
   "outputs": [
    {
     "data": {
      "text/plain": [
       "0.45000000000000001"
      ]
     },
     "execution_count": 401,
     "metadata": {},
     "output_type": "execute_result"
    }
   ],
   "source": [
    "np.sum(x >= 0)\n",
    "np.mean(x > 0)"
   ]
  },
  {
   "cell_type": "markdown",
   "metadata": {},
   "source": [
    "- compute the arithmetic mean of absolute values"
   ]
  },
  {
   "cell_type": "code",
   "execution_count": 369,
   "metadata": {
    "collapsed": false
   },
   "outputs": [
    {
     "data": {
      "text/plain": [
       "1.0335000000000001"
      ]
     },
     "execution_count": 369,
     "metadata": {},
     "output_type": "execute_result"
    }
   ],
   "source": [
    "np.mean(np.abs(x))"
   ]
  },
  {
   "cell_type": "markdown",
   "metadata": {},
   "source": [
    "- Determine the elements in x which are the least and most distant from 0\n"
   ]
  },
  {
   "cell_type": "code",
   "execution_count": 403,
   "metadata": {
    "collapsed": false
   },
   "outputs": [
    {
     "data": {
      "text/plain": [
       "-0.089999999999999997"
      ]
     },
     "execution_count": 403,
     "metadata": {},
     "output_type": "execute_result"
    }
   ],
   "source": [
    "x[np.argmin(np.abs(x))]"
   ]
  },
  {
   "cell_type": "code",
   "execution_count": 404,
   "metadata": {
    "collapsed": false
   },
   "outputs": [
    {
     "data": {
      "text/plain": [
       "-2.4300000000000002"
      ]
     },
     "execution_count": 404,
     "metadata": {},
     "output_type": "execute_result"
    }
   ],
   "source": [
    "x[np.argmax(np.abs(x))]"
   ]
  },
  {
   "cell_type": "code",
   "execution_count": 416,
   "metadata": {
    "collapsed": true
   },
   "outputs": [],
   "source": [
    "# argmin - where is the minimum\n",
    "# argmax - where is the maximum\n",
    "# argsort - how to sort an array"
   ]
  },
  {
   "cell_type": "code",
   "execution_count": 405,
   "metadata": {
    "collapsed": false
   },
   "outputs": [
    {
     "data": {
      "text/plain": [
       "2.21"
      ]
     },
     "execution_count": 405,
     "metadata": {},
     "output_type": "execute_result"
    }
   ],
   "source": [
    "np.max(x)"
   ]
  },
  {
   "cell_type": "markdown",
   "metadata": {},
   "source": [
    "- print the fractional part of each number"
   ]
  },
  {
   "cell_type": "code",
   "execution_count": 391,
   "metadata": {
    "collapsed": false
   },
   "outputs": [
    {
     "data": {
      "text/plain": [
       "(array([-0.09,  0.  ,  0.28, -0.51, -0.58,  0.65, -0.43, -0.43,  0.27,\n",
       "        -0.87, -0.68, -0.09,  0.49, -0.64, -0.44, -0.43,  0.21,  0.19,\n",
       "         0.  ,  0.39]),\n",
       " array([-1.,  1.,  0., -1., -0.,  1., -2., -0.,  1., -0., -0., -0.,  1.,\n",
       "        -0., -0., -0.,  2.,  2.,  1.,  0.]))"
      ]
     },
     "execution_count": 391,
     "metadata": {},
     "output_type": "execute_result"
    }
   ],
   "source": [
    "np.modf(x)   # Returns the fractional and integral parts of an array"
   ]
  },
  {
   "cell_type": "code",
   "execution_count": 406,
   "metadata": {
    "collapsed": false
   },
   "outputs": [
    {
     "data": {
      "text/plain": [
       "array([-0.09,  0.  ,  0.28, -0.51, -0.58,  0.65, -0.43, -0.43,  0.27,\n",
       "       -0.87, -0.68, -0.09,  0.49, -0.64, -0.44, -0.43,  0.21,  0.19,\n",
       "        0.  ,  0.39])"
      ]
     },
     "execution_count": 406,
     "metadata": {},
     "output_type": "execute_result"
    }
   ],
   "source": [
    "np.modf(x)[0] # gives only the fractional part"
   ]
  },
  {
   "cell_type": "code",
   "execution_count": 407,
   "metadata": {
    "collapsed": false
   },
   "outputs": [
    {
     "data": {
      "text/plain": [
       "array([ 0.09,  0.  ,  0.28,  0.51,  0.58,  0.65,  0.43,  0.43,  0.27,\n",
       "        0.87,  0.68,  0.09,  0.49,  0.64,  0.44,  0.43,  0.21,  0.19,\n",
       "        0.  ,  0.39])"
      ]
     },
     "execution_count": 407,
     "metadata": {},
     "output_type": "execute_result"
    }
   ],
   "source": [
    "np.abs(x) % 1 # mod"
   ]
  },
  {
   "cell_type": "markdown",
   "metadata": {},
   "source": [
    "- Apply a linear transformation such that the least element is mapped to 0 and the greatest is mapped to 1"
   ]
  },
  {
   "cell_type": "code",
   "execution_count": 408,
   "metadata": {
    "collapsed": false
   },
   "outputs": [
    {
     "data": {
      "text/plain": [
       "array([ 0.2887931 ,  0.73922414,  0.58405172,  0.19827586,  0.3987069 ,\n",
       "        0.87931034,  0.        ,  0.43103448,  0.79741379,  0.3362069 ,\n",
       "        0.37715517,  0.50431034,  0.84482759,  0.38577586,  0.42887931,\n",
       "        0.43103448,  1.        ,  0.99568966,  0.73922414,  0.60775862])"
      ]
     },
     "execution_count": 408,
     "metadata": {},
     "output_type": "execute_result"
    }
   ],
   "source": [
    "(x-x.min())/(x.max()-x.min())"
   ]
  },
  {
   "cell_type": "markdown",
   "metadata": {},
   "source": [
    "- Create a vector y such that y[i] is equal to \"non-negative\" if the corresponding x[i]>= 0 and \"negative\" otherwise"
   ]
  },
  {
   "cell_type": "code",
   "execution_count": 412,
   "metadata": {
    "collapsed": false
   },
   "outputs": [
    {
     "data": {
      "text/plain": [
       "array(['negative', 'non-negative', 'non-negative', 'negative', 'negative',\n",
       "       'non-negative', 'negative', 'negative', 'non-negative', 'negative',\n",
       "       'negative', 'negative', 'non-negative', 'negative', 'negative',\n",
       "       'negative', 'non-negative', 'non-negative', 'non-negative',\n",
       "       'non-negative'], dtype=object)"
      ]
     },
     "execution_count": 412,
     "metadata": {},
     "output_type": "execute_result"
    }
   ],
   "source": [
    "y = np.empty(len(x), dtype = np.object_)\n",
    "y[ x >= 0 ] = \"non-negative\"\n",
    "y[ x  < 0 ] = \"negative\"\n",
    "y"
   ]
  },
  {
   "cell_type": "markdown",
   "metadata": {},
   "source": [
    "- create a vector 'y' such that y[i] is equal to \"small\" if the corresponding x[i] < 1, \"large\" if x[i]> 1 and \"medium\" otherwise"
   ]
  },
  {
   "cell_type": "code",
   "execution_count": 415,
   "metadata": {
    "collapsed": false
   },
   "outputs": [
    {
     "data": {
      "text/plain": [
       "array(['small', 'medium', 'medium', 'small', 'medium', 'large', 'small',\n",
       "       'medium', 'large', 'medium', 'medium', 'medium', 'large', 'medium',\n",
       "       'medium', 'medium', 'large', 'large', 'medium', 'medium'], \n",
       "      dtype='<U6')"
      ]
     },
     "execution_count": 415,
     "metadata": {},
     "output_type": "execute_result"
    }
   ],
   "source": [
    "y = np.array([\"small\", \"medium\", \"large\"])\n",
    "y[np.where(x < -1, 0, np.where(x > 1, 2, 1))]\n",
    "### here is 'x < -1' is true, it will take the first value '0' else it will take the next condition\n"
   ]
  },
  {
   "cell_type": "code",
   "execution_count": 419,
   "metadata": {
    "collapsed": false
   },
   "outputs": [
    {
     "data": {
      "text/plain": [
       "array([0, 1, 2, 3, 4])"
      ]
     },
     "execution_count": 419,
     "metadata": {},
     "output_type": "execute_result"
    }
   ],
   "source": [
    "### BEWARE:::\n",
    "# indexing an array with : (slicing) gives a view on an existing array;\n",
    "# otherwise, e.g., indexing using logical vectors and integer vectors, you get a copy\n",
    "\n",
    "def test(x):\n",
    "    x *= 2\n",
    "    return x\n",
    "x = np.arange(5)\n",
    "x"
   ]
  },
  {
   "cell_type": "code",
   "execution_count": 421,
   "metadata": {
    "collapsed": false
   },
   "outputs": [
    {
     "data": {
      "text/plain": [
       "(array([0, 4, 8]), array([0, 1, 2, 3, 4]))"
      ]
     },
     "execution_count": 421,
     "metadata": {},
     "output_type": "execute_result"
    }
   ],
   "source": [
    "test(x[[0, 2, 4]]), x"
   ]
  },
  {
   "cell_type": "code",
   "execution_count": 422,
   "metadata": {
    "collapsed": false
   },
   "outputs": [
    {
     "data": {
      "text/plain": [
       "(array([0, 4, 8]), array([0, 1, 2, 3, 4]))"
      ]
     },
     "execution_count": 422,
     "metadata": {},
     "output_type": "execute_result"
    }
   ],
   "source": [
    "test(x[x % 2 ==0]), x"
   ]
  },
  {
   "cell_type": "code",
   "execution_count": 423,
   "metadata": {
    "collapsed": false
   },
   "outputs": [
    {
     "data": {
      "text/plain": [
       "(array([0, 4, 8]), array([0, 1, 4, 3, 8]))"
      ]
     },
     "execution_count": 423,
     "metadata": {},
     "output_type": "execute_result"
    }
   ],
   "source": [
    "test(x[::2]), x"
   ]
  },
  {
   "cell_type": "code",
   "execution_count": 424,
   "metadata": {
    "collapsed": false
   },
   "outputs": [
    {
     "data": {
      "text/plain": [
       "(array([ 0,  8, 16]), array([0, 1, 4, 3, 8]))"
      ]
     },
     "execution_count": 424,
     "metadata": {},
     "output_type": "execute_result"
    }
   ],
   "source": [
    "test(x[::2].copy()), x"
   ]
  },
  {
   "cell_type": "markdown",
   "metadata": {},
   "source": [
    "## Ordering algorithms"
   ]
  },
  {
   "cell_type": "code",
   "execution_count": 426,
   "metadata": {
    "collapsed": false
   },
   "outputs": [
    {
     "data": {
      "text/plain": [
       "array([5, 4, 1, 0, 3, 2])"
      ]
     },
     "execution_count": 426,
     "metadata": {},
     "output_type": "execute_result"
    }
   ],
   "source": [
    "x = np.r_[40, 30, 50, 40, 20, 10]\n",
    "np.argsort(x)   ### indices of the sorted array"
   ]
  },
  {
   "cell_type": "code",
   "execution_count": 427,
   "metadata": {
    "collapsed": false
   },
   "outputs": [
    {
     "data": {
      "text/plain": [
       "array([10, 20, 30, 40, 40, 50])"
      ]
     },
     "execution_count": 427,
     "metadata": {},
     "output_type": "execute_result"
    }
   ],
   "source": [
    "x[np.argsort(x)]"
   ]
  },
  {
   "cell_type": "code",
   "execution_count": 428,
   "metadata": {
    "collapsed": true
   },
   "outputs": [],
   "source": [
    "# np.argsort(x)[0] == np.argmin(x)\n",
    "# np.argsort(x)[-1] == np.argmax(x)"
   ]
  },
  {
   "cell_type": "code",
   "execution_count": 429,
   "metadata": {
    "collapsed": false
   },
   "outputs": [
    {
     "data": {
      "text/plain": [
       "array([[ 5.1,  3.5,  1.4,  0.2],\n",
       "       [ 4.9,  3. ,  1.4,  0.2],\n",
       "       [ 4.7,  3.2,  1.3,  0.2],\n",
       "       [ 4.6,  3.1,  1.5,  0.2],\n",
       "       [ 5. ,  3.6,  1.4,  0.2],\n",
       "       [ 5.4,  3.9,  1.7,  0.4],\n",
       "       [ 4.6,  3.4,  1.4,  0.3],\n",
       "       [ 5. ,  3.4,  1.5,  0.2],\n",
       "       [ 4.4,  2.9,  1.4,  0.2],\n",
       "       [ 4.9,  3.1,  1.5,  0.1]])"
      ]
     },
     "execution_count": 429,
     "metadata": {},
     "output_type": "execute_result"
    }
   ],
   "source": [
    "iris2 = iris[:10, :]\n",
    "iris2"
   ]
  },
  {
   "cell_type": "code",
   "execution_count": 430,
   "metadata": {
    "collapsed": true
   },
   "outputs": [],
   "source": [
    "### order the matrices based on a single column"
   ]
  },
  {
   "cell_type": "code",
   "execution_count": 431,
   "metadata": {
    "collapsed": false
   },
   "outputs": [
    {
     "data": {
      "text/plain": [
       "array([[ 4.4,  2.9,  1.4,  0.2],\n",
       "       [ 4.9,  3. ,  1.4,  0.2],\n",
       "       [ 4.6,  3.1,  1.5,  0.2],\n",
       "       [ 4.9,  3.1,  1.5,  0.1],\n",
       "       [ 4.7,  3.2,  1.3,  0.2],\n",
       "       [ 4.6,  3.4,  1.4,  0.3],\n",
       "       [ 5. ,  3.4,  1.5,  0.2],\n",
       "       [ 5.1,  3.5,  1.4,  0.2],\n",
       "       [ 5. ,  3.6,  1.4,  0.2],\n",
       "       [ 5.4,  3.9,  1.7,  0.4]])"
      ]
     },
     "execution_count": 431,
     "metadata": {},
     "output_type": "execute_result"
    }
   ],
   "source": [
    "iris2[np.argsort(iris2[:,1]), :]"
   ]
  },
  {
   "cell_type": "code",
   "execution_count": 433,
   "metadata": {
    "collapsed": false
   },
   "outputs": [
    {
     "data": {
      "text/plain": [
       "array([[ 4.4,  2.9,  1.4,  0.2],\n",
       "       [ 4.9,  3. ,  1.4,  0.2],\n",
       "       [ 4.6,  3.1,  1.5,  0.2],\n",
       "       [ 4.9,  3.1,  1.5,  0.1],\n",
       "       [ 4.7,  3.2,  1.3,  0.2],\n",
       "       [ 4.6,  3.4,  1.4,  0.3],\n",
       "       [ 5. ,  3.4,  1.5,  0.2],\n",
       "       [ 5.1,  3.5,  1.4,  0.2],\n",
       "       [ 5. ,  3.6,  1.4,  0.2],\n",
       "       [ 5.4,  3.9,  1.7,  0.4]])"
      ]
     },
     "execution_count": 433,
     "metadata": {},
     "output_type": "execute_result"
    }
   ],
   "source": [
    "iris3 = iris2[np.argsort(iris2[:,1]), :]\n",
    "iris3"
   ]
  },
  {
   "cell_type": "code",
   "execution_count": 436,
   "metadata": {
    "collapsed": false
   },
   "outputs": [
    {
     "data": {
      "text/plain": [
       "array([[ 4.9,  3.1,  1.5,  0.1],\n",
       "       [ 4.7,  3.2,  1.3,  0.2],\n",
       "       [ 5.1,  3.5,  1.4,  0.2],\n",
       "       [ 4.9,  3. ,  1.4,  0.2],\n",
       "       [ 4.6,  3.1,  1.5,  0.2],\n",
       "       [ 5. ,  3.4,  1.5,  0.2],\n",
       "       [ 4.4,  2.9,  1.4,  0.2],\n",
       "       [ 5. ,  3.6,  1.4,  0.2],\n",
       "       [ 4.6,  3.4,  1.4,  0.3],\n",
       "       [ 5.4,  3.9,  1.7,  0.4]])"
      ]
     },
     "execution_count": 436,
     "metadata": {},
     "output_type": "execute_result"
    }
   ],
   "source": [
    "iris3[np.argsort(iris3[:,3], kind = 'heapsort'), :]"
   ]
  },
  {
   "cell_type": "markdown",
   "metadata": {},
   "source": [
    "## Matrix Indexing"
   ]
  },
  {
   "cell_type": "code",
   "execution_count": 438,
   "metadata": {
    "collapsed": false
   },
   "outputs": [
    {
     "data": {
      "text/plain": [
       "array([[ 10,  20,  30,  40],\n",
       "       [ 50,  60,  70,  80],\n",
       "       [ 90, 100, 110, 120]])"
      ]
     },
     "execution_count": 438,
     "metadata": {},
     "output_type": "execute_result"
    }
   ],
   "source": [
    "A = np.arange(10, 130, 10).reshape(3, 4)\n",
    "A"
   ]
  },
  {
   "cell_type": "code",
   "execution_count": 439,
   "metadata": {
    "collapsed": true
   },
   "outputs": [],
   "source": [
    "# A[row_selector, column_selector]"
   ]
  },
  {
   "cell_type": "code",
   "execution_count": 440,
   "metadata": {
    "collapsed": true
   },
   "outputs": [],
   "source": [
    "# {scalar, slice, int_seq, bool_seq}x{scalar, slice, int_seq, bool_seq}"
   ]
  },
  {
   "cell_type": "markdown",
   "metadata": {},
   "source": [
    "   |        | Scalar | Slice    | ints        | bools       |\n",
    "   |--------------------------------------------------------|\n",
    "   | scalar | scalar | vector   | vector      | vector      |\n",
    "   | slice  |  .     | subblock | subblock    | subblock    |\n",
    "   | ints   |  .     | .        | vecctorized | vectorized  |\n",
    "   | bools  |  .     |  .       | .           | vectorized  |\n",
    "   \n",
    "   "
   ]
  },
  {
   "cell_type": "code",
   "execution_count": 442,
   "metadata": {
    "collapsed": false
   },
   "outputs": [
    {
     "data": {
      "text/plain": [
       "20"
      ]
     },
     "execution_count": 442,
     "metadata": {},
     "output_type": "execute_result"
    }
   ],
   "source": [
    "A[0, 1]"
   ]
  },
  {
   "cell_type": "code",
   "execution_count": 443,
   "metadata": {
    "collapsed": false
   },
   "outputs": [
    {
     "data": {
      "text/plain": [
       "(array([10, 30]), array([10, 30]), array([10, 30]))"
      ]
     },
     "execution_count": 443,
     "metadata": {},
     "output_type": "execute_result"
    }
   ],
   "source": [
    "A[0, ::2], A[0, [0,2]], A[0, np.r_[True, False, True, False]]"
   ]
  },
  {
   "cell_type": "code",
   "execution_count": 444,
   "metadata": {
    "collapsed": false
   },
   "outputs": [
    {
     "data": {
      "text/plain": [
       "array([[ 10,  30],\n",
       "       [ 90, 110]])"
      ]
     },
     "execution_count": 444,
     "metadata": {},
     "output_type": "execute_result"
    }
   ],
   "source": [
    "A[::2, ::2]"
   ]
  },
  {
   "cell_type": "code",
   "execution_count": 445,
   "metadata": {
    "collapsed": false
   },
   "outputs": [
    {
     "data": {
      "text/plain": [
       "array([[ 10,  30],\n",
       "       [ 90, 110]])"
      ]
     },
     "execution_count": 445,
     "metadata": {},
     "output_type": "execute_result"
    }
   ],
   "source": [
    "A[::2, [0, 2]]"
   ]
  },
  {
   "cell_type": "code",
   "execution_count": 446,
   "metadata": {
    "collapsed": false
   },
   "outputs": [
    {
     "data": {
      "text/plain": [
       "array([[ 10,  30],\n",
       "       [ 90, 110]])"
      ]
     },
     "execution_count": 446,
     "metadata": {},
     "output_type": "execute_result"
    }
   ],
   "source": [
    "A[::2, np.r_[True, False, True, False]]"
   ]
  },
  {
   "cell_type": "code",
   "execution_count": 447,
   "metadata": {
    "collapsed": false
   },
   "outputs": [
    {
     "data": {
      "text/plain": [
       "array([ 10, 110])"
      ]
     },
     "execution_count": 447,
     "metadata": {},
     "output_type": "execute_result"
    }
   ],
   "source": [
    "A[[0,2], [0,2]]"
   ]
  },
  {
   "cell_type": "code",
   "execution_count": 492,
   "metadata": {
    "collapsed": false
   },
   "outputs": [
    {
     "data": {
      "text/plain": [
       "array([ 10, 110])"
      ]
     },
     "execution_count": 492,
     "metadata": {},
     "output_type": "execute_result"
    }
   ],
   "source": [
    "A[ [0,2], np.r_[True, False, True, False] ] # :("
   ]
  },
  {
   "cell_type": "code",
   "execution_count": 493,
   "metadata": {
    "collapsed": false
   },
   "outputs": [
    {
     "data": {
      "text/plain": [
       "array([ 10, 110])"
      ]
     },
     "execution_count": 493,
     "metadata": {},
     "output_type": "execute_result"
    }
   ],
   "source": [
    "A[ np.r_[True, False, True], np.r_[True, False, True, False] ] # :("
   ]
  },
  {
   "cell_type": "code",
   "execution_count": 495,
   "metadata": {
    "collapsed": false
   },
   "outputs": [
    {
     "data": {
      "text/plain": [
       "array([[ 10,  30],\n",
       "       [ 90, 110]])"
      ]
     },
     "execution_count": 495,
     "metadata": {},
     "output_type": "execute_result"
    }
   ],
   "source": [
    "A[ np.r_[0,2].reshape(2,1), np.r_[0, 2].reshape(1,2) ]"
   ]
  },
  {
   "cell_type": "code",
   "execution_count": 496,
   "metadata": {
    "collapsed": false
   },
   "outputs": [
    {
     "data": {
      "text/plain": [
       "array([[ 10,  30],\n",
       "       [ 90, 110]])"
      ]
     },
     "execution_count": 496,
     "metadata": {},
     "output_type": "execute_result"
    }
   ],
   "source": [
    "A[ np.ix_([0,2], [0,2]) ] # the same"
   ]
  },
  {
   "cell_type": "code",
   "execution_count": 451,
   "metadata": {
    "collapsed": false
   },
   "outputs": [
    {
     "data": {
      "text/plain": [
       "(array([ 5.1,  4.9,  4.7,  4.6,  5. ,  5.4,  4.6,  5. ,  4.4,  4.9]),\n",
       " array([ 3.5,  3. ,  3.2,  3.1,  3.6,  3.9,  3.4,  3.4,  2.9,  3.1]))"
      ]
     },
     "execution_count": 451,
     "metadata": {},
     "output_type": "execute_result"
    }
   ],
   "source": [
    "x = iris[:10, 0]\n",
    "y = iris[:10, 1]\n",
    "x, y"
   ]
  },
  {
   "cell_type": "markdown",
   "metadata": {},
   "source": [
    "3. Compute the inner product of two vectors $\\mathbf{x},\\mathbf{y}\\in\\mathbb{R}^n$,\n",
    "i.e., $\\mathbf{x}^T\\mathbf{y} = \\sum_{i=1}^n x_i y_i$."
   ]
  },
  {
   "cell_type": "code",
   "execution_count": 466,
   "metadata": {
    "collapsed": false
   },
   "outputs": [
    {
     "data": {
      "text/plain": [
       "(161.5, 161.5, 161.5, 161.5)"
      ]
     },
     "execution_count": 466,
     "metadata": {},
     "output_type": "execute_result"
    }
   ],
   "source": [
    "x.dot(y), np.inner(x,y), x.T.dot(y), (x*y).sum()"
   ]
  },
  {
   "cell_type": "markdown",
   "metadata": {},
   "source": [
    "2. Compute the root-mean-squared-error between two vectors $\\mathbf{x},\\mathbf{y}\\in\\mathbb{R}^n$,\n",
    "$\\mathrm{RMSE}(\\mathbf{x},\\mathbf{y})=\\sqrt{\\frac{1}{n}\\sum_{i=1}^n (y_i-x_i)^2}$."
   ]
  },
  {
   "cell_type": "code",
   "execution_count": 467,
   "metadata": {
    "collapsed": false
   },
   "outputs": [
    {
     "data": {
      "text/plain": [
       "1.5610893632332521"
      ]
     },
     "execution_count": 467,
     "metadata": {},
     "output_type": "execute_result"
    }
   ],
   "source": [
    "np.sqrt(np.mean((y-x)**2))"
   ]
  },
  {
   "cell_type": "markdown",
   "metadata": {},
   "source": []
  },
  {
   "cell_type": "code",
   "execution_count": 469,
   "metadata": {
    "collapsed": false
   },
   "outputs": [
    {
     "data": {
      "text/plain": [
       "1.55"
      ]
     },
     "execution_count": 469,
     "metadata": {},
     "output_type": "execute_result"
    }
   ],
   "source": [
    "np.mean(np.abs(y-x))"
   ]
  },
  {
   "cell_type": "markdown",
   "metadata": {},
   "source": [
    "3. Compute the median-absolute-error between two vectors $\\mathbf{x},\\mathbf{y}\\in\\mathbb{R}^n$,\n",
    "$\\mathrm{MedAE}(\\mathbf{x},\\mathbf{y})=\\mathrm{Median}\\left( |y_1-x_1|, \\dots, |y_n-x_n| \\right)$."
   ]
  },
  {
   "cell_type": "code",
   "execution_count": 471,
   "metadata": {
    "collapsed": false
   },
   "outputs": [
    {
     "data": {
      "text/plain": [
       "1.5000000000000004"
      ]
     },
     "execution_count": 471,
     "metadata": {},
     "output_type": "execute_result"
    }
   ],
   "source": [
    "np.median(np.abs(y-x))"
   ]
  },
  {
   "cell_type": "markdown",
   "metadata": {},
   "source": [
    "4. Compute the (normalized) Hamming distance between two vectors\n",
    "$\\mathbf{x},\\mathbf{y}\\in\\mathbb{Z}^n$,\n",
    "$\\mathrm{Ham}(\\mathbf{x},\\mathbf{y})=\\frac{1}{n}\\sum_{i=1}^n \\mathbb{I}(x_i\\neq y_i)$,\n",
    "where the indicator function $\\mathbb{I}$ yields\n",
    "$\\mathbb{I}(x_i\\neq y_i)=1$ if $x_i\\neq y_i$ and $0$ otherwise."
   ]
  },
  {
   "cell_type": "code",
   "execution_count": 472,
   "metadata": {
    "collapsed": false
   },
   "outputs": [
    {
     "data": {
      "text/plain": [
       "1.0"
      ]
     },
     "execution_count": 472,
     "metadata": {},
     "output_type": "execute_result"
    }
   ],
   "source": [
    "np.mean(x!=y)"
   ]
  },
  {
   "cell_type": "code",
   "execution_count": 473,
   "metadata": {
    "collapsed": false
   },
   "outputs": [
    {
     "data": {
      "text/plain": [
       "<matplotlib.collections.PathCollection at 0x7f441ef74c50>"
      ]
     },
     "execution_count": 473,
     "metadata": {},
     "output_type": "execute_result"
    },
    {
     "data": {
      "image/png": "[encoded data removed]",
      "text/plain": [
       "<matplotlib.figure.Figure at 0x7f441ef423c8>"
      ]
     },
     "metadata": {},
     "output_type": "display_data"
    }
   ],
   "source": [
    "plt.scatter(x, y)"
   ]
  },
  {
   "cell_type": "markdown",
   "metadata": {},
   "source": [
    "1. Let `x` and `y` be two vectors of the same length, $n$.\n",
    "Compute the Pearson linear correlation coefficient, given by:\n",
    "$$\n",
    "r(\\mathtt{x}, \\mathtt{y}) =  \\frac{1}{n-1} \\sum_{i=1}^n\n",
    "   \\frac{x_i - \\bar{\\mathtt{x}}}{s_\\mathtt{x}}\n",
    "\\,\n",
    "   \\frac{y_i - \\bar{\\mathtt{y}}}{s_\\mathtt{y}}.\n",
    "$$"
   ]
  },
  {
   "cell_type": "code",
   "execution_count": 481,
   "metadata": {
    "collapsed": false
   },
   "outputs": [
    {
     "data": {
      "text/plain": [
       "0.78720661246241763"
      ]
     },
     "execution_count": 481,
     "metadata": {},
     "output_type": "execute_result"
    }
   ],
   "source": [
    "np.sum(((x - x.mean()) / (x.std(ddof=1))*(y - y.mean())/ (y.std(ddof=1))))/(len(x)-1)"
   ]
  },
  {
   "cell_type": "code",
   "execution_count": 480,
   "metadata": {
    "collapsed": false
   },
   "outputs": [
    {
     "data": {
      "text/plain": [
       "(0.78720661246241763, 0.0068766908021485771)"
      ]
     },
     "execution_count": 480,
     "metadata": {},
     "output_type": "execute_result"
    }
   ],
   "source": [
    "scipy.stats.pearsonr(x,y)"
   ]
  },
  {
   "cell_type": "markdown",
   "metadata": {},
   "source": [
    "2. Let `x` and `y` be two vectors of the same length, $n$.\n",
    "Compute the Spearman rank correlation coefficient, given by:\n",
    "$$\n",
    "\\varrho(\\mathtt{x},\\mathtt{y})\n",
    "=\n",
    "1-\\frac{6 \\sum_{i=1}^n d_i^2}{n (n^2-1)},\n",
    "$$\n",
    "where $d_i=R(\\mathtt{x})_i-R(\\mathtt{y})_i$, $i=1,\\dots,n$,\n",
    "and $R(\\mathtt{x})_i$ denotes the rank of $x_i$ in `x`."
   ]
  },
  {
   "cell_type": "code",
   "execution_count": 483,
   "metadata": {
    "collapsed": false
   },
   "outputs": [
    {
     "data": {
      "text/plain": [
       "0.76666666666666661"
      ]
     },
     "execution_count": 483,
     "metadata": {},
     "output_type": "execute_result"
    }
   ],
   "source": [
    "d = scipy.stats.rankdata(x)- scipy.stats.rankdata(y)\n",
    "1 - 6*np.sum(d**2)/(len(x))/(len(x)**2-1)"
   ]
  },
  {
   "cell_type": "markdown",
   "metadata": {},
   "source": [
    "3. Let `x` and `y` be two vectors of the same length, $n$.\n",
    "Compute the Kendall rank correlation coefficient, given by:\n",
    "$$\n",
    "\\tau = \\frac{2c}{n(n-1)/2}-1,\n",
    "$$\n",
    "where  $c$ denotes the number of concordant pairs, i.e.,\n",
    "such that for $1\\le i<j\\le n$ it eiter  holds $x_i>x_j$ and $y_i>y_j$,\n",
    "or  $x_i<x_j$ and $y_i<y_j$."
   ]
  },
  {
   "cell_type": "code",
   "execution_count": 497,
   "metadata": {
    "collapsed": false
   },
   "outputs": [
    {
     "data": {
      "text/plain": [
       "0.55555555555555558"
      ]
     },
     "execution_count": 497,
     "metadata": {},
     "output_type": "execute_result"
    }
   ],
   "source": [
    "x += np.random.rand(len(x))*0.0001\n",
    "y += np.random.rand(len(x))*0.0001\n",
    "o = np.argsort(x)\n",
    "xo = x[o]\n",
    "yo = y[o]\n",
    "#y.reshape(1,-1) < y.reshape(-1,1)\n",
    "c = np.sum([ yo[i]<yo[j] for i in range(0,len(y)-1) for j in range(i, len(y))])\n",
    "2.0*c/(len(x)*(len(x)-1.0)/2.0)-1.0"
   ]
  },
  {
   "cell_type": "code",
   "execution_count": 499,
   "metadata": {
    "collapsed": false
   },
   "outputs": [
    {
     "data": {
      "text/plain": [
       "((0.78716059434548302, 0.0068822293980339757),\n",
       " SpearmanrResult(correlation=0.70909090909090899, pvalue=0.021665923367532435),\n",
       " KendalltauResult(correlation=0.55555555555555547, pvalue=0.025347322573947593))"
      ]
     },
     "execution_count": 499,
     "metadata": {},
     "output_type": "execute_result"
    }
   ],
   "source": [
    "scipy.stats.pearsonr(x,y), scipy.stats.spearmanr(x,y), scipy.stats.kendalltau(x,y)"
   ]
  },
  {
   "cell_type": "code",
   "execution_count": 500,
   "metadata": {
    "collapsed": false
   },
   "outputs": [
    {
     "data": {
      "text/plain": [
       "array([ 4.40010134,  4.60013122,  4.60014983,  4.70033562,  4.90020895,\n",
       "        4.90031407,  5.00019659,  5.00022145,  5.1002221 ,  5.40015011])"
      ]
     },
     "execution_count": 500,
     "metadata": {},
     "output_type": "execute_result"
    }
   ],
   "source": [
    "xo"
   ]
  },
  {
   "cell_type": "code",
   "execution_count": 501,
   "metadata": {
    "collapsed": false
   },
   "outputs": [
    {
     "data": {
      "text/plain": [
       "array([ 2.90021252,  3.40022135,  3.10019025,  3.20013779,  3.00025247,\n",
       "        3.10020601,  3.60015513,  3.40020512,  3.50020171,  3.90021325])"
      ]
     },
     "execution_count": 501,
     "metadata": {},
     "output_type": "execute_result"
    }
   ],
   "source": [
    "yo"
   ]
  },
  {
   "cell_type": "code",
   "execution_count": null,
   "metadata": {
    "collapsed": true
   },
   "outputs": [],
   "source": []
  },
  {
   "cell_type": "code",
   "execution_count": null,
   "metadata": {
    "collapsed": true
   },
   "outputs": [],
   "source": []
  }
 ],
 "metadata": {
  "anaconda-cloud": {},
  "kernelspec": {
   "display_name": "Python [default]",
   "language": "python",
   "name": "python3"
  },
  "language_info": {
   "codemirror_mode": {
    "name": "ipython",
    "version": 3
   },
   "file_extension": ".py",
   "mimetype": "text/x-python",
   "name": "python",
   "nbconvert_exporter": "python",
   "pygments_lexer": "ipython3",
   "version": "3.5.2"
  }
 },
 "nbformat": 4,
 "nbformat_minor": 1
}
