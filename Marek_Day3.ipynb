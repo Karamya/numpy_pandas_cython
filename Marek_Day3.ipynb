{
 "cells": [
  {
   "cell_type": "markdown",
   "metadata": {},
   "source": [
    "# Pandas\n",
    "    80% of data analysis is spent on the process of cleaning and preparing the data (Dasu and Johnson, Exploratory data mining and data cleaning, Wiley, 2003)"
   ]
  },
  {
   "cell_type": "code",
   "execution_count": 1,
   "metadata": {
    "collapsed": false
   },
   "outputs": [
    {
     "data": {
      "text/plain": [
       "'0.19.2'"
      ]
     },
     "execution_count": 1,
     "metadata": {},
     "output_type": "execute_result"
    }
   ],
   "source": [
    "import numpy as np\n",
    "import pandas as pd\n",
    "pd.set_option(\"display.notebook_repr_html\", False)\n",
    "pd.__version__"
   ]
  },
  {
   "cell_type": "markdown",
   "metadata": {},
   "source": [
    "Pandas package define 3 classes: \n",
    "    - Series    - wrappers around numpy vectors, represent columns (variables)\n",
    "    - Index     - Similar to Series, but used to store row/column names\n",
    "    - DataFrame - sequences/dictionaries (container) of Series - represent tabular data"
   ]
  },
  {
   "cell_type": "code",
   "execution_count": 2,
   "metadata": {
    "collapsed": false
   },
   "outputs": [
    {
     "data": {
      "text/plain": [
       "      A     B      C\n",
       "0  0.70     f  False\n",
       "1  0.29  None  False\n",
       "2  0.23     f  False\n",
       "3  0.55     m  False\n",
       "4  0.72     f   True"
      ]
     },
     "execution_count": 2,
     "metadata": {},
     "output_type": "execute_result"
    }
   ],
   "source": [
    "np.random.seed(123)\n",
    "pd.DataFrame({ # a dict\n",
    "        # key-column names, value-column values\n",
    "        \"A\": np.round(np.random.uniform(0, 1, 5), 2),\n",
    "        \"B\": [\"f\", None, \"f\", \"m\", \"f\"],\n",
    "        \"C\": np.random.choice([True, False], 5, True, [0.4, 0.6])\n",
    "    })\n",
    "# lengths are identical"
   ]
  },
  {
   "cell_type": "code",
   "execution_count": 3,
   "metadata": {
    "collapsed": false
   },
   "outputs": [
    {
     "data": {
      "text/plain": [
       "array([[ 0,  1,  2],\n",
       "       [ 3,  4,  5],\n",
       "       [ 6,  7,  8],\n",
       "       [ 9, 10, 11]])"
      ]
     },
     "execution_count": 3,
     "metadata": {},
     "output_type": "execute_result"
    }
   ],
   "source": [
    "A = np.r_[:12].reshape(4,3)\n",
    "A"
   ]
  },
  {
   "cell_type": "code",
   "execution_count": 4,
   "metadata": {
    "collapsed": false
   },
   "outputs": [
    {
     "data": {
      "text/plain": [
       "   0   1   2\n",
       "0  0   1   2\n",
       "1  3   4   5\n",
       "2  6   7   8\n",
       "3  9  10  11"
      ]
     },
     "execution_count": 4,
     "metadata": {},
     "output_type": "execute_result"
    }
   ],
   "source": [
    "pd.DataFrame(A)"
   ]
  },
  {
   "cell_type": "code",
   "execution_count": 5,
   "metadata": {
    "collapsed": false
   },
   "outputs": [
    {
     "data": {
      "text/plain": [
       "   A   B   C\n",
       "0  0   1   2\n",
       "1  3   4   5\n",
       "2  6   7   8\n",
       "3  9  10  11"
      ]
     },
     "execution_count": 5,
     "metadata": {},
     "output_type": "execute_result"
    }
   ],
   "source": [
    "pd.DataFrame(A, columns = ['A', 'B', 'C'])  ## assign column names"
   ]
  },
  {
   "cell_type": "code",
   "execution_count": 6,
   "metadata": {
    "collapsed": true
   },
   "outputs": [],
   "source": [
    "pairs = [\n",
    "    (\"A\", np.r_[8, 3, 4]),\n",
    "    ('B', range(3)),\n",
    "    ('C', ['aaa', 'bbb', 'ccccc'])\n",
    "]"
   ]
  },
  {
   "cell_type": "code",
   "execution_count": 7,
   "metadata": {
    "collapsed": false
   },
   "outputs": [
    {
     "data": {
      "text/plain": [
       "   A  B      C\n",
       "0  8  0    aaa\n",
       "1  3  1    bbb\n",
       "2  4  2  ccccc"
      ]
     },
     "execution_count": 7,
     "metadata": {},
     "output_type": "execute_result"
    }
   ],
   "source": [
    "pd.DataFrame.from_items(pairs)"
   ]
  },
  {
   "cell_type": "code",
   "execution_count": 8,
   "metadata": {
    "collapsed": false
   },
   "outputs": [
    {
     "data": {
      "text/plain": [
       "   0                  1\n",
       "0  A          [8, 3, 4]\n",
       "1  B          (0, 1, 2)\n",
       "2  C  [aaa, bbb, ccccc]"
      ]
     },
     "execution_count": 8,
     "metadata": {},
     "output_type": "execute_result"
    }
   ],
   "source": [
    "pd.DataFrame(pairs)"
   ]
  },
  {
   "cell_type": "code",
   "execution_count": 9,
   "metadata": {
    "collapsed": false
   },
   "outputs": [
    {
     "data": {
      "text/plain": [
       "               Name   BirthDate\n",
       "0    Hung Hyun-Seok  12.06.2000\n",
       "1  Benno Blumenthal  31.12.1918\n",
       "2  Paitoon Ornwimol  26.06.1958\n",
       "3    P'yon Yong-Sun  10.07.1947\n",
       "4    Étienne Chaney  04.09.1983"
      ]
     },
     "execution_count": 9,
     "metadata": {},
     "output_type": "execute_result"
    }
   ],
   "source": [
    "birth_dates = pd.read_csv(\"http://www.gagolewski.com/resources/data/birth_dates.csv\", comment = '#')\n",
    "birth_dates.head()"
   ]
  },
  {
   "cell_type": "markdown",
   "metadata": {},
   "source": [
    "**useful args: **\n",
    "\n",
    "    decimal : str, default '.'    - Character to recognize as decimal point(e.g., use ',' for european data).\n",
    "    sep: str, default = ','       - Delimiter to use\n",
    "    \n",
    "    birth_dates.to_csv()          - A method that writes a csv file"
   ]
  },
  {
   "cell_type": "code",
   "execution_count": 10,
   "metadata": {
    "collapsed": false
   },
   "outputs": [
    {
     "name": "stdout",
     "output_type": "stream",
     "text": [
      "      A     B      C\n",
      "0  0.70     f  False\n",
      "1  0.29  None  False\n",
      "2  0.23     f  False\n",
      "3  0.55     m  False\n",
      "4  0.72     f   True\n"
     ]
    }
   ],
   "source": [
    "np.random.seed(123)\n",
    "x = pd.DataFrame({ # a dict\n",
    "        # key-column names, value-column values\n",
    "        \"A\": np.round(np.random.uniform(0, 1, 5), 2),\n",
    "        \"B\": [\"f\", None, \"f\", \"m\", \"f\"],\n",
    "        \"C\": np.random.choice([True, False], 5, True, [0.4, 0.6])\n",
    "    })\n",
    "print(x)"
   ]
  },
  {
   "cell_type": "code",
   "execution_count": 11,
   "metadata": {
    "collapsed": false
   },
   "outputs": [
    {
     "data": {
      "text/plain": [
       "(5, 3)"
      ]
     },
     "execution_count": 11,
     "metadata": {},
     "output_type": "execute_result"
    }
   ],
   "source": [
    "x.shape"
   ]
  },
  {
   "cell_type": "code",
   "execution_count": 12,
   "metadata": {
    "collapsed": false
   },
   "outputs": [
    {
     "data": {
      "text/plain": [
       "5"
      ]
     },
     "execution_count": 12,
     "metadata": {},
     "output_type": "execute_result"
    }
   ],
   "source": [
    "len(x)  ## length of the dataframes is the number of rows"
   ]
  },
  {
   "cell_type": "code",
   "execution_count": 13,
   "metadata": {
    "collapsed": false
   },
   "outputs": [
    {
     "name": "stdout",
     "output_type": "stream",
     "text": [
      "A\n",
      "B\n",
      "C\n"
     ]
    }
   ],
   "source": [
    "for e in x:\n",
    "    # iterating over dataframes - iterating over column names\n",
    "    print(e)"
   ]
  },
  {
   "cell_type": "code",
   "execution_count": 14,
   "metadata": {
    "collapsed": false
   },
   "outputs": [
    {
     "data": {
      "text/plain": [
       "               Name   BirthDate\n",
       "0    Hung Hyun-Seok  12.06.2000\n",
       "1  Benno Blumenthal  31.12.1918\n",
       "2  Paitoon Ornwimol  26.06.1958"
      ]
     },
     "execution_count": 14,
     "metadata": {},
     "output_type": "execute_result"
    }
   ],
   "source": [
    "birth_dates.head(3) # default is 5"
   ]
  },
  {
   "cell_type": "code",
   "execution_count": 15,
   "metadata": {
    "collapsed": false
   },
   "outputs": [
    {
     "data": {
      "text/plain": [
       "                 Name   BirthDate\n",
       "128    Romualdo Marin  04.09.1982\n",
       "129   Felicita Wilbur  07.06.1982\n",
       "130  Kaminaga Ichibei  28.03.1996\n",
       "131       Vania Toler  28.02.2000"
      ]
     },
     "execution_count": 15,
     "metadata": {},
     "output_type": "execute_result"
    }
   ],
   "source": [
    "birth_dates.tail(4)"
   ]
  },
  {
   "cell_type": "code",
   "execution_count": 16,
   "metadata": {
    "collapsed": false
   },
   "outputs": [
    {
     "data": {
      "text/plain": [
       "A    float64\n",
       "B     object\n",
       "C       bool\n",
       "dtype: object"
      ]
     },
     "execution_count": 16,
     "metadata": {},
     "output_type": "execute_result"
    }
   ],
   "source": [
    "x.dtypes"
   ]
  },
  {
   "cell_type": "code",
   "execution_count": 17,
   "metadata": {
    "collapsed": false
   },
   "outputs": [
    {
     "name": "stdout",
     "output_type": "stream",
     "text": [
      "<class 'pandas.core.frame.DataFrame'>\n",
      "RangeIndex: 5 entries, 0 to 4\n",
      "Data columns (total 3 columns):\n",
      "A    5 non-null float64\n",
      "B    4 non-null object\n",
      "C    5 non-null bool\n",
      "dtypes: bool(1), float64(1), object(1)\n",
      "memory usage: 165.0+ bytes\n"
     ]
    }
   ],
   "source": [
    "x.info()"
   ]
  },
  {
   "cell_type": "markdown",
   "metadata": {},
   "source": [
    "# Series"
   ]
  },
  {
   "cell_type": "code",
   "execution_count": 18,
   "metadata": {
    "collapsed": false
   },
   "outputs": [
    {
     "data": {
      "text/plain": [
       "0    0.70\n",
       "1    0.29\n",
       "2    0.23\n",
       "3    0.55\n",
       "4    0.72\n",
       "Name: A, dtype: float64"
      ]
     },
     "execution_count": 18,
     "metadata": {},
     "output_type": "execute_result"
    }
   ],
   "source": [
    "x[\"A\"] # equivalently x.get('A')"
   ]
  },
  {
   "cell_type": "code",
   "execution_count": 19,
   "metadata": {
    "collapsed": false
   },
   "outputs": [
    {
     "data": {
      "text/plain": [
       "pandas.core.series.Series"
      ]
     },
     "execution_count": 19,
     "metadata": {},
     "output_type": "execute_result"
    }
   ],
   "source": [
    "type(x['A'])"
   ]
  },
  {
   "cell_type": "code",
   "execution_count": 20,
   "metadata": {
    "collapsed": false
   },
   "outputs": [
    {
     "data": {
      "text/plain": [
       "0    0.70\n",
       "1    0.29\n",
       "2    0.23\n",
       "3    0.55\n",
       "4    0.72\n",
       "Name: A, dtype: float64"
      ]
     },
     "execution_count": 20,
     "metadata": {},
     "output_type": "execute_result"
    }
   ],
   "source": [
    "x.A"
   ]
  },
  {
   "cell_type": "code",
   "execution_count": 21,
   "metadata": {
    "collapsed": false
   },
   "outputs": [
    {
     "data": {
      "text/plain": [
       "      A\n",
       "0  0.70\n",
       "1  0.29\n",
       "2  0.23\n",
       "3  0.55\n",
       "4  0.72"
      ]
     },
     "execution_count": 21,
     "metadata": {},
     "output_type": "execute_result"
    }
   ],
   "source": [
    "pd.DataFrame(x.A)"
   ]
  },
  {
   "cell_type": "code",
   "execution_count": 22,
   "metadata": {
    "collapsed": false
   },
   "outputs": [
    {
     "data": {
      "text/plain": [
       "0         NaN\n",
       "1    0.000000\n",
       "2    0.333333\n",
       "3    0.666667\n",
       "4    1.000000\n",
       "dtype: float64"
      ]
     },
     "execution_count": 22,
     "metadata": {},
     "output_type": "execute_result"
    }
   ],
   "source": [
    "pd.Series(np.r_[np.nan, 0:1:4j])"
   ]
  },
  {
   "cell_type": "code",
   "execution_count": 23,
   "metadata": {
    "collapsed": false
   },
   "outputs": [
    {
     "data": {
      "text/plain": [
       "array([ 0.7 ,  0.29,  0.23,  0.55,  0.72])"
      ]
     },
     "execution_count": 23,
     "metadata": {},
     "output_type": "execute_result"
    }
   ],
   "source": [
    "x.A.values"
   ]
  },
  {
   "cell_type": "code",
   "execution_count": 24,
   "metadata": {
    "collapsed": false
   },
   "outputs": [
    {
     "data": {
      "text/plain": [
       "<bound method IndexOpsMixin.value_counts of 0    0.70\n",
       "1    0.29\n",
       "2    0.23\n",
       "3    0.55\n",
       "4    0.72\n",
       "Name: A, dtype: float64>"
      ]
     },
     "execution_count": 24,
     "metadata": {},
     "output_type": "execute_result"
    }
   ],
   "source": [
    "x.A.value_counts"
   ]
  },
  {
   "cell_type": "code",
   "execution_count": 25,
   "metadata": {
    "collapsed": false
   },
   "outputs": [
    {
     "data": {
      "text/plain": [
       "array(['f', None, 'f', 'm', 'f'], dtype=object)"
      ]
     },
     "execution_count": 25,
     "metadata": {},
     "output_type": "execute_result"
    }
   ],
   "source": [
    "x.B.values"
   ]
  },
  {
   "cell_type": "code",
   "execution_count": 26,
   "metadata": {
    "collapsed": false
   },
   "outputs": [
    {
     "data": {
      "text/plain": [
       "array([False, False, False, False,  True], dtype=bool)"
      ]
     },
     "execution_count": 26,
     "metadata": {},
     "output_type": "execute_result"
    }
   ],
   "source": [
    "x.C.values"
   ]
  },
  {
   "cell_type": "markdown",
   "metadata": {},
   "source": [
    "## date-time data"
   ]
  },
  {
   "cell_type": "code",
   "execution_count": 27,
   "metadata": {
    "collapsed": false
   },
   "outputs": [
    {
     "data": {
      "text/plain": [
       "0   2017-01-30\n",
       "1   2017-01-31\n",
       "2   2017-02-01\n",
       "dtype: datetime64[ns]"
      ]
     },
     "execution_count": 27,
     "metadata": {},
     "output_type": "execute_result"
    }
   ],
   "source": [
    "pd.Series(pd.date_range(\"2017-01-30\", periods = 3)) # freq = 'D'"
   ]
  },
  {
   "cell_type": "code",
   "execution_count": 28,
   "metadata": {
    "collapsed": false
   },
   "outputs": [
    {
     "data": {
      "text/plain": [
       "0   2017-01-30 10:30:00\n",
       "1   2017-01-30 10:31:00\n",
       "2   2017-01-30 10:32:00\n",
       "3   2017-01-30 10:33:00\n",
       "4   2017-01-30 10:34:00\n",
       "dtype: datetime64[ns]"
      ]
     },
     "execution_count": 28,
     "metadata": {},
     "output_type": "execute_result"
    }
   ],
   "source": [
    "pd.Series(pd.date_range(\"2017-01-30 10:30\", periods = 5, freq = '60S'))"
   ]
  },
  {
   "cell_type": "code",
   "execution_count": 29,
   "metadata": {
    "collapsed": false
   },
   "outputs": [
    {
     "data": {
      "text/plain": [
       "0   2017-01-31\n",
       "1   2017-04-30\n",
       "2   2017-07-31\n",
       "3   2017-10-31\n",
       "dtype: datetime64[ns]"
      ]
     },
     "execution_count": 29,
     "metadata": {},
     "output_type": "execute_result"
    }
   ],
   "source": [
    "pd.Series(pd.date_range(\"2017\", \"2018\", freq = '3M'))"
   ]
  },
  {
   "cell_type": "code",
   "execution_count": 30,
   "metadata": {
    "collapsed": false
   },
   "outputs": [
    {
     "data": {
      "text/plain": [
       "0    12.06.2000\n",
       "1    31.12.1918\n",
       "2    26.06.1958\n",
       "3    10.07.1947\n",
       "4    04.09.1983\n",
       "Name: BirthDate, dtype: object"
      ]
     },
     "execution_count": 30,
     "metadata": {},
     "output_type": "execute_result"
    }
   ],
   "source": [
    "birth_dates['BirthDate'].head()"
   ]
  },
  {
   "cell_type": "code",
   "execution_count": 31,
   "metadata": {
    "collapsed": false
   },
   "outputs": [
    {
     "data": {
      "text/plain": [
       "0   2000-12-06\n",
       "1   1918-12-31\n",
       "2   1958-06-26\n",
       "3   1947-10-07\n",
       "4   1983-04-09\n",
       "Name: BirthDate, dtype: datetime64[ns]"
      ]
     },
     "execution_count": 31,
     "metadata": {},
     "output_type": "execute_result"
    }
   ],
   "source": [
    "# convert birth_dates[\"BirthDate\"] to datetime\n",
    "pd.to_datetime(birth_dates['BirthDate']).head()"
   ]
  },
  {
   "cell_type": "markdown",
   "metadata": {},
   "source": [
    "## Categorical data\n",
    "    on nominal (qualitative) or ordinal(ordered) scales\n",
    "    \n",
    "    in R: factors"
   ]
  },
  {
   "cell_type": "code",
   "execution_count": 32,
   "metadata": {
    "collapsed": false
   },
   "outputs": [
    {
     "data": {
      "text/plain": [
       "0       f\n",
       "1    None\n",
       "2       f\n",
       "3       m\n",
       "4       f\n",
       "Name: B, dtype: object"
      ]
     },
     "execution_count": 32,
     "metadata": {},
     "output_type": "execute_result"
    }
   ],
   "source": [
    "x.B"
   ]
  },
  {
   "cell_type": "code",
   "execution_count": 33,
   "metadata": {
    "collapsed": false
   },
   "outputs": [
    {
     "data": {
      "text/plain": [
       "0      f\n",
       "1    NaN\n",
       "2      f\n",
       "3      m\n",
       "4      f\n",
       "Name: B, dtype: category\n",
       "Categories (2, object): [f, m]"
      ]
     },
     "execution_count": 33,
     "metadata": {},
     "output_type": "execute_result"
    }
   ],
   "source": [
    "x['B'] = pd.Series(x['B'], dtype =\"category\")\n",
    "x['B']"
   ]
  },
  {
   "cell_type": "code",
   "execution_count": 34,
   "metadata": {
    "collapsed": false
   },
   "outputs": [
    {
     "data": {
      "text/plain": [
       "0    0\n",
       "1   -1\n",
       "2    0\n",
       "3    1\n",
       "4    0\n",
       "dtype: int8"
      ]
     },
     "execution_count": 34,
     "metadata": {},
     "output_type": "execute_result"
    }
   ],
   "source": [
    "x.B.cat.codes ## -1 to missing values"
   ]
  },
  {
   "cell_type": "code",
   "execution_count": 35,
   "metadata": {
    "collapsed": false
   },
   "outputs": [
    {
     "data": {
      "text/plain": [
       "Index(['f', 'm'], dtype='object')"
      ]
     },
     "execution_count": 35,
     "metadata": {},
     "output_type": "execute_result"
    }
   ],
   "source": [
    "x.B.cat.categories"
   ]
  },
  {
   "cell_type": "code",
   "execution_count": 36,
   "metadata": {
    "collapsed": false
   },
   "outputs": [
    {
     "data": {
      "text/plain": [
       "0    a\n",
       "1    c\n",
       "2    b\n",
       "3    a\n",
       "4    a\n",
       "5    c\n",
       "dtype: category\n",
       "Categories (3, object): [c < b < a]"
      ]
     },
     "execution_count": 36,
     "metadata": {},
     "output_type": "execute_result"
    }
   ],
   "source": [
    "p = pd.Series(pd.Categorical(\n",
    "    [\"a\", \"c\", \"b\", \"a\", \"a\", \"c\"],\n",
    "        categories = [\"c\", \"b\", \"a\"],\n",
    "        ordered = True\n",
    "    ))\n",
    "p"
   ]
  },
  {
   "cell_type": "code",
   "execution_count": 37,
   "metadata": {
    "collapsed": false
   },
   "outputs": [
    {
     "data": {
      "text/plain": [
       "1    c\n",
       "5    c\n",
       "2    b\n",
       "0    a\n",
       "3    a\n",
       "4    a\n",
       "dtype: category\n",
       "Categories (3, object): [c < b < a]"
      ]
     },
     "execution_count": 37,
     "metadata": {},
     "output_type": "execute_result"
    }
   ],
   "source": [
    "p.sort_values()"
   ]
  },
  {
   "cell_type": "code",
   "execution_count": 38,
   "metadata": {
    "collapsed": false
   },
   "outputs": [
    {
     "data": {
      "text/plain": [
       "0    L\n",
       "1    S\n",
       "2    M\n",
       "3    L\n",
       "4    L\n",
       "5    S\n",
       "dtype: category\n",
       "Categories (3, object): [S < M < L]"
      ]
     },
     "execution_count": 38,
     "metadata": {},
     "output_type": "execute_result"
    }
   ],
   "source": [
    "p.cat.categories = [\"S\", \"M\", \"L\"]\n",
    "p"
   ]
  },
  {
   "cell_type": "code",
   "execution_count": 39,
   "metadata": {
    "collapsed": false
   },
   "outputs": [
    {
     "data": {
      "text/plain": [
       "0    0.70\n",
       "1    0.29\n",
       "2    0.23\n",
       "3    0.55\n",
       "4    0.72\n",
       "Name: A, dtype: float64"
      ]
     },
     "execution_count": 39,
     "metadata": {},
     "output_type": "execute_result"
    }
   ],
   "source": [
    "x.A"
   ]
  },
  {
   "cell_type": "code",
   "execution_count": 40,
   "metadata": {
    "collapsed": false
   },
   "outputs": [
    {
     "data": {
      "text/plain": [
       "0    [0.5, 1)\n",
       "1    [0, 0.5)\n",
       "2    [0, 0.5)\n",
       "3    [0.5, 1)\n",
       "4    [0.5, 1)\n",
       "Name: A, dtype: category\n",
       "Categories (2, object): [[0, 0.5) < [0.5, 1)]"
      ]
     },
     "execution_count": 40,
     "metadata": {},
     "output_type": "execute_result"
    }
   ],
   "source": [
    "## numerical values can be also changed to categorical values\n",
    "pd.cut(x.A, np.r_[0, 0.5, 1], right = False)"
   ]
  },
  {
   "cell_type": "code",
   "execution_count": 41,
   "metadata": {
    "collapsed": false
   },
   "outputs": [
    {
     "data": {
      "text/plain": [
       "0    large\n",
       "1    small\n",
       "2    small\n",
       "3    large\n",
       "4    large\n",
       "Name: A, dtype: category\n",
       "Categories (2, object): [small < large]"
      ]
     },
     "execution_count": 41,
     "metadata": {},
     "output_type": "execute_result"
    }
   ],
   "source": [
    "pd.cut(x.A, np.r_[0, 0.5, 1], right = False, labels = ['small', 'large'])"
   ]
  },
  {
   "cell_type": "markdown",
   "metadata": {},
   "source": [
    "___\n",
    "**categorical variables are used if we have #unique values << #observations**\n",
    "**Advantages**\n",
    "    1. we save space\n",
    "    2. we save time(processing ints is faster than processing strings)\n",
    "    3. int representation might be convenient\n",
    "___"
   ]
  },
  {
   "cell_type": "code",
   "execution_count": 42,
   "metadata": {
    "collapsed": false
   },
   "outputs": [
    {
     "data": {
      "text/plain": [
       "   total_bill   tip     sex smoker  day    time  size\n",
       "0       16.99  1.01  Female     No  Sun  Dinner     2\n",
       "1       10.34  1.66    Male     No  Sun  Dinner     3\n",
       "2       21.01  3.50    Male     No  Sun  Dinner     3\n",
       "3       23.68  3.31    Male     No  Sun  Dinner     2\n",
       "4       24.59  3.61  Female     No  Sun  Dinner     4"
      ]
     },
     "execution_count": 42,
     "metadata": {},
     "output_type": "execute_result"
    }
   ],
   "source": [
    "tips = pd.read_csv(\"http://gagolewski.com/resources/data/tips.csv\", comment = '#')\n",
    "tips.head()"
   ]
  },
  {
   "cell_type": "code",
   "execution_count": 43,
   "metadata": {
    "collapsed": false
   },
   "outputs": [
    {
     "data": {
      "text/plain": [
       "0    Female\n",
       "1      Male\n",
       "2      Male\n",
       "3      Male\n",
       "4    Female\n",
       "Name: sex, dtype: object"
      ]
     },
     "execution_count": 43,
     "metadata": {},
     "output_type": "execute_result"
    }
   ],
   "source": [
    "tips.sex.head()"
   ]
  },
  {
   "cell_type": "code",
   "execution_count": 44,
   "metadata": {
    "collapsed": true
   },
   "outputs": [],
   "source": [
    "tips[\"sex\"] = tips[\"sex\"].astype('category')"
   ]
  },
  {
   "cell_type": "code",
   "execution_count": 45,
   "metadata": {
    "collapsed": false
   },
   "outputs": [
    {
     "data": {
      "text/plain": [
       "<matplotlib.collections.PathCollection at 0x7f961c46ac50>"
      ]
     },
     "execution_count": 45,
     "metadata": {},
     "output_type": "execute_result"
    },
    {
     "data": {
      "image/png": "[encoded data removed]",
      "text/plain": [
       "<matplotlib.figure.Figure at 0x7f961e8ca358>"
      ]
     },
     "metadata": {},
     "output_type": "display_data"
    }
   ],
   "source": [
    "% matplotlib inline\n",
    "import matplotlib.pyplot as plt\n",
    "plt.scatter(tips.tip.values, tips.total_bill.values, c=tips.sex.cat.codes.values, cmap = 'flag')"
   ]
  },
  {
   "cell_type": "markdown",
   "metadata": {},
   "source": [
    "# Index"
   ]
  },
  {
   "cell_type": "code",
   "execution_count": 46,
   "metadata": {
    "collapsed": false
   },
   "outputs": [
    {
     "data": {
      "text/plain": [
       "      A    B      C\n",
       "0  0.70    f  False\n",
       "1  0.29  NaN  False\n",
       "2  0.23    f  False\n",
       "3  0.55    m  False\n",
       "4  0.72    f   True"
      ]
     },
     "execution_count": 46,
     "metadata": {},
     "output_type": "execute_result"
    }
   ],
   "source": [
    "x"
   ]
  },
  {
   "cell_type": "code",
   "execution_count": 47,
   "metadata": {
    "collapsed": false
   },
   "outputs": [
    {
     "data": {
      "text/plain": [
       "RangeIndex(start=0, stop=5, step=1)"
      ]
     },
     "execution_count": 47,
     "metadata": {},
     "output_type": "execute_result"
    }
   ],
   "source": [
    "x.index"
   ]
  },
  {
   "cell_type": "code",
   "execution_count": 48,
   "metadata": {
    "collapsed": false
   },
   "outputs": [
    {
     "data": {
      "text/plain": [
       "Index(['A', 'B', 'C'], dtype='object')"
      ]
     },
     "execution_count": 48,
     "metadata": {},
     "output_type": "execute_result"
    }
   ],
   "source": [
    "x.columns"
   ]
  },
  {
   "cell_type": "code",
   "execution_count": 49,
   "metadata": {
    "collapsed": false
   },
   "outputs": [
    {
     "data": {
      "text/plain": [
       "         A    B      C\n",
       "0.00  0.70    f  False\n",
       "0.25  0.29  NaN  False\n",
       "0.50  0.23    f  False\n",
       "0.75  0.55    m  False\n",
       "1.00  0.72    f   True"
      ]
     },
     "execution_count": 49,
     "metadata": {},
     "output_type": "execute_result"
    }
   ],
   "source": [
    "y = x.set_index(np.linspace(0, 1, 5))\n",
    "y"
   ]
  },
  {
   "cell_type": "code",
   "execution_count": 50,
   "metadata": {
    "collapsed": false
   },
   "outputs": [
    {
     "data": {
      "text/plain": [
       "Float64Index([0.0, 0.25, 0.5, 0.75, 1.0], dtype='float64')"
      ]
     },
     "execution_count": 50,
     "metadata": {},
     "output_type": "execute_result"
    }
   ],
   "source": [
    "y.index"
   ]
  },
  {
   "cell_type": "code",
   "execution_count": 51,
   "metadata": {
    "collapsed": false
   },
   "outputs": [
    {
     "data": {
      "text/plain": [
       "       A    B      C\n",
       "a1  0.70    f  False\n",
       "b1  0.29  NaN  False\n",
       "c1  0.23    f  False\n",
       "d1  0.55    m  False\n",
       "e1  0.72    f   True"
      ]
     },
     "execution_count": 51,
     "metadata": {},
     "output_type": "execute_result"
    }
   ],
   "source": [
    "y.index = ['a1', 'b1', 'c1', 'd1', 'e1']\n",
    "y"
   ]
  },
  {
   "cell_type": "code",
   "execution_count": 52,
   "metadata": {
    "collapsed": false
   },
   "outputs": [
    {
     "data": {
      "text/plain": [
       "Index(['a1', 'b1', 'c1', 'd1', 'e1'], dtype='object')"
      ]
     },
     "execution_count": 52,
     "metadata": {},
     "output_type": "execute_result"
    }
   ],
   "source": [
    "y.index"
   ]
  },
  {
   "cell_type": "code",
   "execution_count": 53,
   "metadata": {
    "collapsed": false
   },
   "outputs": [
    {
     "data": {
      "text/plain": [
       "      A    B      C\n",
       "a  0.70    f  False\n",
       "b  0.29  NaN  False\n",
       "c  0.23    f  False\n",
       "a  0.55    m  False\n",
       "d  0.72    f   True"
      ]
     },
     "execution_count": 53,
     "metadata": {},
     "output_type": "execute_result"
    }
   ],
   "source": [
    "y.index = ['a', 'b', 'c', 'a', 'd']\n",
    "y"
   ]
  },
  {
   "cell_type": "code",
   "execution_count": 54,
   "metadata": {
    "collapsed": false
   },
   "outputs": [
    {
     "data": {
      "text/plain": [
       "(False, False)"
      ]
     },
     "execution_count": 54,
     "metadata": {},
     "output_type": "execute_result"
    }
   ],
   "source": [
    "# so these are labels, not identifiers\n",
    "y.index.is_monotonic, y.index.is_unique"
   ]
  },
  {
   "cell_type": "code",
   "execution_count": 55,
   "metadata": {
    "collapsed": false
   },
   "outputs": [
    {
     "data": {
      "text/plain": [
       "(True, True)"
      ]
     },
     "execution_count": 55,
     "metadata": {},
     "output_type": "execute_result"
    }
   ],
   "source": [
    "x.index.is_monotonic, x.index.is_unique"
   ]
  },
  {
   "cell_type": "code",
   "execution_count": 56,
   "metadata": {
    "collapsed": false
   },
   "outputs": [
    {
     "data": {
      "text/plain": [
       "COLS     A    B      C\n",
       "ROWS                  \n",
       "0     0.70    f  False\n",
       "1     0.29  NaN  False\n",
       "2     0.23    f  False\n",
       "3     0.55    m  False\n",
       "4     0.72    f   True"
      ]
     },
     "execution_count": 56,
     "metadata": {},
     "output_type": "execute_result"
    }
   ],
   "source": [
    "# each index can be named\n",
    "x.index.name = 'ROWS'\n",
    "x.columns.name = 'COLS'\n",
    "x"
   ]
  },
  {
   "cell_type": "code",
   "execution_count": 57,
   "metadata": {
    "collapsed": false
   },
   "outputs": [
    {
     "data": {
      "text/plain": [
       "               A\n",
       "top bottom      \n",
       "x   1       0.34\n",
       "    2       0.73\n",
       "    4       0.44\n",
       "y   1       0.06\n",
       "    2       0.40\n",
       "z   3       0.74"
      ]
     },
     "execution_count": 57,
     "metadata": {},
     "output_type": "execute_result"
    }
   ],
   "source": [
    "# hierarchial indexes\n",
    "y = pd.DataFrame({\n",
    "        \"A\": np.round(np.random.uniform(0, 1, 6), 2)\n",
    "    })\n",
    "\n",
    "y.index = pd.MultiIndex(\n",
    "    levels = [['x', 'y', 'z'], [1, 2, 3, 4]],\n",
    "    labels = [\n",
    "            [0, 0, 0, 1, 1, 2],\n",
    "            [0, 1, 3, 0, 1, 2]\n",
    "    ],\n",
    "    names = ['top', 'bottom']\n",
    ")\n",
    "y"
   ]
  },
  {
   "cell_type": "code",
   "execution_count": 58,
   "metadata": {
    "collapsed": false
   },
   "outputs": [
    {
     "data": {
      "text/plain": [
       "    year      month  passengers\n",
       "0   1949    January         112\n",
       "1   1949   February         118\n",
       "2   1949      March         132\n",
       "3   1949      April         129\n",
       "4   1949        May         121\n",
       "5   1949       June         135\n",
       "6   1949       July         148\n",
       "7   1949     August         148\n",
       "8   1949  September         136\n",
       "9   1949    October         119\n",
       "10  1949   November         104\n",
       "11  1949   December         118\n",
       "12  1950    January         115\n",
       "13  1950   February         126"
      ]
     },
     "execution_count": 58,
     "metadata": {},
     "output_type": "execute_result"
    }
   ],
   "source": [
    "flights = pd.read_csv(\"http://gagolewski.com/resources/data/flights.csv\", comment = '#')\n",
    "flights.head(14)"
   ]
  },
  {
   "cell_type": "code",
   "execution_count": 59,
   "metadata": {
    "collapsed": false
   },
   "outputs": [
    {
     "data": {
      "text/plain": [
       "                passengers\n",
       "year month                \n",
       "1949 January           112\n",
       "     February          118\n",
       "     March             132\n",
       "     April             129\n",
       "     May               121\n",
       "     June              135\n",
       "     July              148\n",
       "     August            148\n",
       "     September         136\n",
       "     October           119\n",
       "     November          104\n",
       "     December          118\n",
       "1950 January           115\n",
       "     February          126"
      ]
     },
     "execution_count": 59,
     "metadata": {},
     "output_type": "execute_result"
    }
   ],
   "source": [
    "# set index to consist of years and months\n",
    "flights.set_index(['year', 'month']).head(14)"
   ]
  },
  {
   "cell_type": "code",
   "execution_count": 60,
   "metadata": {
    "collapsed": false
   },
   "outputs": [
    {
     "data": {
      "text/plain": [
       "[(1949, 'January'), (1949, 'February'), (1949, 'March'), (1949, 'April')]"
      ]
     },
     "execution_count": 60,
     "metadata": {},
     "output_type": "execute_result"
    }
   ],
   "source": [
    "# list of pairs like(year, month)\n",
    "# tuples = [(1949, 'january'), (1949, 'February')......]\n",
    "tuples = list(zip(flights.year, flights.month))\n",
    "tuples[:4]"
   ]
  },
  {
   "cell_type": "code",
   "execution_count": 61,
   "metadata": {
    "collapsed": false
   },
   "outputs": [
    {
     "data": {
      "text/plain": [
       "                year      month  passengers\n",
       "year month                                 \n",
       "1949 January    1949    January         112\n",
       "     February   1949   February         118\n",
       "     March      1949      March         132\n",
       "     April      1949      April         129\n",
       "     May        1949        May         121\n",
       "     June       1949       June         135\n",
       "     July       1949       July         148\n",
       "     August     1949     August         148\n",
       "     September  1949  September         136\n",
       "     October    1949    October         119\n",
       "     November   1949   November         104\n",
       "     December   1949   December         118\n",
       "1950 January    1950    January         115\n",
       "     February   1950   February         126"
      ]
     },
     "execution_count": 61,
     "metadata": {},
     "output_type": "execute_result"
    }
   ],
   "source": [
    "flights2 = flights.copy()\n",
    "flights2.index = pd.MultiIndex.from_tuples(\n",
    "    tuples\n",
    ")\n",
    "flights2.index.names = ['year', 'month']\n",
    "flights2.head(14)"
   ]
  },
  {
   "cell_type": "markdown",
   "metadata": {},
   "source": [
    "## Indexing (subsetting) Series and DataFrame objects\n"
   ]
  },
  {
   "cell_type": "code",
   "execution_count": 62,
   "metadata": {
    "collapsed": false
   },
   "outputs": [
    {
     "data": {
      "text/plain": [
       "2    0.70\n",
       "1    0.29\n",
       "8    0.23\n",
       "7    0.55\n",
       "9    0.72\n",
       "4    0.42\n",
       "5    0.98\n",
       "6    0.68\n",
       "3    0.48\n",
       "0    0.39\n",
       "dtype: float64"
      ]
     },
     "execution_count": 62,
     "metadata": {},
     "output_type": "execute_result"
    }
   ],
   "source": [
    "np.random.seed(123)\n",
    "b = pd.Series(np.round(np.random.uniform(0, 1, 10), 2))\n",
    "i = np.r_[0:10]\n",
    "np.random.shuffle(i)\n",
    "b.index = i\n",
    "b"
   ]
  },
  {
   "cell_type": "code",
   "execution_count": 63,
   "metadata": {
    "collapsed": false
   },
   "outputs": [
    {
     "data": {
      "text/plain": [
       "a    0.70\n",
       "b    0.29\n",
       "c    0.23\n",
       "d    0.55\n",
       "e    0.72\n",
       "f    0.42\n",
       "g    0.98\n",
       "h    0.68\n",
       "i    0.48\n",
       "j    0.39\n",
       "dtype: float64"
      ]
     },
     "execution_count": 63,
     "metadata": {},
     "output_type": "execute_result"
    }
   ],
   "source": [
    "c = b.copy()\n",
    "c.index = ['a', 'b', 'c', 'd', 'e', 'f', 'g', 'h', 'i', 'j']\n",
    "c"
   ]
  },
  {
   "cell_type": "code",
   "execution_count": 64,
   "metadata": {
    "collapsed": false
   },
   "outputs": [
    {
     "data": {
      "text/plain": [
       "2    0.7\n",
       "dtype: float64"
      ]
     },
     "execution_count": 64,
     "metadata": {},
     "output_type": "execute_result"
    }
   ],
   "source": [
    "# never do this:\n",
    "b[0:1]  ## position based indexing"
   ]
  },
  {
   "cell_type": "code",
   "execution_count": 65,
   "metadata": {
    "collapsed": false
   },
   "outputs": [
    {
     "data": {
      "text/plain": [
       "2    0.70\n",
       "8    0.23\n",
       "9    0.72\n",
       "dtype: float64"
      ]
     },
     "execution_count": 65,
     "metadata": {},
     "output_type": "execute_result"
    }
   ],
   "source": [
    "b[0:5:2]   ## position based indexing"
   ]
  },
  {
   "cell_type": "code",
   "execution_count": 66,
   "metadata": {
    "collapsed": false
   },
   "outputs": [
    {
     "data": {
      "text/plain": [
       "9    0.72\n",
       "5    0.98\n",
       "dtype: float64"
      ]
     },
     "execution_count": 66,
     "metadata": {},
     "output_type": "execute_result"
    }
   ],
   "source": [
    "b[b.values > 0.7] "
   ]
  },
  {
   "cell_type": "code",
   "execution_count": 67,
   "metadata": {
    "collapsed": false
   },
   "outputs": [
    {
     "data": {
      "text/plain": [
       "0.39000000000000001"
      ]
     },
     "execution_count": 67,
     "metadata": {},
     "output_type": "execute_result"
    }
   ],
   "source": [
    "b[0]  ## label based indexing"
   ]
  },
  {
   "cell_type": "code",
   "execution_count": 68,
   "metadata": {
    "collapsed": false
   },
   "outputs": [
    {
     "data": {
      "text/plain": [
       "0    0.39\n",
       "1    0.29\n",
       "dtype: float64"
      ]
     },
     "execution_count": 68,
     "metadata": {},
     "output_type": "execute_result"
    }
   ],
   "source": [
    "b[[0, 1]] ## label based indexing"
   ]
  },
  {
   "cell_type": "code",
   "execution_count": 69,
   "metadata": {
    "collapsed": false
   },
   "outputs": [
    {
     "data": {
      "text/plain": [
       "0.39000000000000001"
      ]
     },
     "execution_count": 69,
     "metadata": {},
     "output_type": "execute_result"
    }
   ],
   "source": [
    "### This is a bit confusing (label and position based indexing)\n",
    "### that is why we use loc and iloc\n",
    "\n",
    "# loc (label) and iloc(positional) attributes\n",
    "b.loc[0]"
   ]
  },
  {
   "cell_type": "code",
   "execution_count": 70,
   "metadata": {
    "collapsed": false
   },
   "outputs": [
    {
     "data": {
      "text/plain": [
       "0.69999999999999996"
      ]
     },
     "execution_count": 70,
     "metadata": {},
     "output_type": "execute_result"
    }
   ],
   "source": [
    "b.iloc[0]"
   ]
  },
  {
   "cell_type": "code",
   "execution_count": 71,
   "metadata": {
    "collapsed": false
   },
   "outputs": [
    {
     "data": {
      "text/plain": [
       "1    0.29\n",
       "8    0.23\n",
       "7    0.55\n",
       "9    0.72\n",
       "4    0.42\n",
       "5    0.98\n",
       "dtype: float64"
      ]
     },
     "execution_count": 71,
     "metadata": {},
     "output_type": "execute_result"
    }
   ],
   "source": [
    "b.iloc[1:7]"
   ]
  },
  {
   "cell_type": "code",
   "execution_count": 72,
   "metadata": {
    "collapsed": false
   },
   "outputs": [
    {
     "data": {
      "text/plain": [
       "1    0.29\n",
       "8    0.23\n",
       "7    0.55\n",
       "dtype: float64"
      ]
     },
     "execution_count": 72,
     "metadata": {},
     "output_type": "execute_result"
    }
   ],
   "source": [
    "b.loc[1:7]  ## labels from 1:7 based on their appearance"
   ]
  },
  {
   "cell_type": "code",
   "execution_count": 73,
   "metadata": {
    "collapsed": false
   },
   "outputs": [
    {
     "data": {
      "text/plain": [
       "c    0.23\n",
       "d    0.55\n",
       "e    0.72\n",
       "f    0.42\n",
       "g    0.98\n",
       "dtype: float64"
      ]
     },
     "execution_count": 73,
     "metadata": {},
     "output_type": "execute_result"
    }
   ],
   "source": [
    "c.loc['c': 'g']"
   ]
  },
  {
   "cell_type": "code",
   "execution_count": 74,
   "metadata": {
    "collapsed": false
   },
   "outputs": [
    {
     "data": {
      "text/plain": [
       "c    0.23\n",
       "b    0.29\n",
       "a    0.70\n",
       "dtype: float64"
      ]
     },
     "execution_count": 74,
     "metadata": {},
     "output_type": "execute_result"
    }
   ],
   "source": [
    "c.loc[\"c\":'a': -1]"
   ]
  },
  {
   "cell_type": "code",
   "execution_count": 75,
   "metadata": {
    "collapsed": false
   },
   "outputs": [
    {
     "data": {
      "text/plain": [
       "e    0.72\n",
       "g    0.98\n",
       "dtype: float64"
      ]
     },
     "execution_count": 75,
     "metadata": {},
     "output_type": "execute_result"
    }
   ],
   "source": [
    "c.loc[c.values > 0.7] # bool vector subsetting"
   ]
  },
  {
   "cell_type": "code",
   "execution_count": 76,
   "metadata": {
    "collapsed": false
   },
   "outputs": [
    {
     "data": {
      "text/plain": [
       "e    0.72\n",
       "g    0.98\n",
       "dtype: float64"
      ]
     },
     "execution_count": 76,
     "metadata": {},
     "output_type": "execute_result"
    }
   ],
   "source": [
    "c.iloc[c.values > 0.7] # equivalent"
   ]
  },
  {
   "cell_type": "code",
   "execution_count": 77,
   "metadata": {
    "collapsed": false
   },
   "outputs": [
    {
     "data": {
      "text/plain": [
       "1    0.29\n",
       "3    0.48\n",
       "5    0.98\n",
       "dtype: float64"
      ]
     },
     "execution_count": 77,
     "metadata": {},
     "output_type": "execute_result"
    }
   ],
   "source": [
    "b.loc[[1, 3, 5]]"
   ]
  },
  {
   "cell_type": "code",
   "execution_count": 78,
   "metadata": {
    "collapsed": false
   },
   "outputs": [
    {
     "data": {
      "text/plain": [
       "1    0.29\n",
       "7    0.55\n",
       "4    0.42\n",
       "dtype: float64"
      ]
     },
     "execution_count": 78,
     "metadata": {},
     "output_type": "execute_result"
    }
   ],
   "source": [
    "b.iloc[[1, 3, 5]]"
   ]
  },
  {
   "cell_type": "code",
   "execution_count": 79,
   "metadata": {
    "collapsed": false
   },
   "outputs": [
    {
     "data": {
      "text/plain": [
       "a    0.70\n",
       "b    0.29\n",
       "c    0.23\n",
       "dtype: float64"
      ]
     },
     "execution_count": 79,
     "metadata": {},
     "output_type": "execute_result"
    }
   ],
   "source": [
    "c.loc[['a', 'b', 'c']]"
   ]
  },
  {
   "cell_type": "code",
   "execution_count": 80,
   "metadata": {
    "collapsed": false
   },
   "outputs": [
    {
     "data": {
      "text/plain": [
       "                        Name\n",
       "BirthDate                   \n",
       "2000-12-06    Hung Hyun-Seok\n",
       "1918-12-31  Benno Blumenthal\n",
       "1958-06-26  Paitoon Ornwimol\n",
       "1947-10-07    P'yon Yong-Sun\n",
       "1983-04-09    Étienne Chaney"
      ]
     },
     "execution_count": 80,
     "metadata": {},
     "output_type": "execute_result"
    }
   ],
   "source": [
    "birth_dates.BirthDate = pd.to_datetime(birth_dates['BirthDate'])\n",
    "birth_dates2 = birth_dates.copy()\n",
    "\n",
    "birth_dates2 = birth_dates.set_index('BirthDate')\n",
    "birth_dates2.head()"
   ]
  },
  {
   "cell_type": "code",
   "execution_count": 81,
   "metadata": {
    "collapsed": false
   },
   "outputs": [
    {
     "data": {
      "text/plain": [
       "                        Name\n",
       "BirthDate                   \n",
       "1918-12-31  Benno Blumenthal"
      ]
     },
     "execution_count": 81,
     "metadata": {},
     "output_type": "execute_result"
    }
   ],
   "source": [
    "birth_dates2.loc[\"1918-12-31\"]"
   ]
  },
  {
   "cell_type": "code",
   "execution_count": 82,
   "metadata": {
    "collapsed": false
   },
   "outputs": [
    {
     "data": {
      "text/plain": [
       "                          Name\n",
       "BirthDate                     \n",
       "1918-12-31    Benno Blumenthal\n",
       "1921-12-19       Nedeljko Bukv\n",
       "1923-03-30  Gordan Mislopoljac\n",
       "1921-11-06    Eufebio Mascioli\n",
       "1924-07-31       Sawa Mobumasu\n",
       "1922-11-10     Nishioka Nissho"
      ]
     },
     "execution_count": 82,
     "metadata": {},
     "output_type": "execute_result"
    }
   ],
   "source": [
    "birth_dates2.loc[\"1918-12-31\":\"1925-01-01\"]"
   ]
  },
  {
   "cell_type": "code",
   "execution_count": 83,
   "metadata": {
    "collapsed": false
   },
   "outputs": [
    {
     "data": {
      "text/plain": [
       "                            Name\n",
       "BirthDate                       \n",
       "1918-12-31      Benno Blumenthal\n",
       "1958-06-26      Paitoon Ornwimol\n",
       "1947-10-07        P'yon Yong-Sun\n",
       "1983-04-09        Étienne Chaney\n",
       "1951-06-04     Marinko Stoilović\n",
       "1911-01-11     Eckehard Grünfeld\n",
       "1990-12-30          Spano Moresi\n",
       "1926-04-10    Lothar Spiegelmann\n",
       "1916-03-05    Adrianna Skoczylas\n",
       "1937-04-23     Natanaël Barrande\n",
       "1949-06-10          Muk Young-Su\n",
       "1917-10-07      Alexandr Povýšil\n",
       "1930-07-01           Ding Zexian\n",
       "1929-10-25          Aurora Botín\n",
       "1916-04-09            Aline Rush\n",
       "1990-12-03          Tilman Baade\n",
       "1975-01-04             Nae U-Jin\n",
       "1966-03-29         Zbyněk Slavík\n",
       "1931-11-23          Nico Erlbaum\n",
       "1921-12-19         Nedeljko Bukv\n",
       "1947-10-15    El Madani al-Fassi\n",
       "1952-06-19   Duchanee Panomyaong\n",
       "1962-01-12        Ewelina Musial\n",
       "1938-04-24      Didier Cuvillier\n",
       "1982-10-28          Ryom Woo-Jin\n",
       "1964-11-02      Edouard Boissieu\n",
       "1928-08-24       Benjamin Lahaye\n",
       "1934-08-13        Michael Bohlen\n",
       "1927-10-13  Ziaul-Haq Benjelloun\n",
       "1975-12-27   Christophe Girardot\n",
       "...                          ...\n",
       "1959-02-25         Sung Dong-Sun\n",
       "1912-05-23      Graciela Valerio\n",
       "1970-07-08              Um Kwang\n",
       "1947-06-23               Gong Li\n",
       "1985-02-12       Chun Byung-Hoon\n",
       "1993-05-23   Kazimiera Samborska\n",
       "1917-09-04             Hu Guanyu\n",
       "1941-01-16    Nintau Limthongkul\n",
       "1979-07-27           Koide Konyo\n",
       "1986-12-04    Svatopluk Suchánek\n",
       "1926-02-08        Onorio Spiezio\n",
       "1930-05-15        Dragoje Zarkov\n",
       "1961-12-17   undefined Cesljević\n",
       "1926-11-04         Lamija Osmond\n",
       "1931-11-22          Ghali Toufiq\n",
       "1924-07-31         Sawa Mobumasu\n",
       "1964-10-09    Theesud Jurangkool\n",
       "1975-11-16              Zhen Wei\n",
       "1972-08-17     Bertoldo Mallozzi\n",
       "1952-07-20         Wiktoria Wilk\n",
       "1929-07-31        Juba Kunimatsu\n",
       "1935-05-20          Antónia Lata\n",
       "1952-02-21               Du Yang\n",
       "1922-11-10       Nishioka Nissho\n",
       "1943-07-01         Phanouel Anxo\n",
       "1956-07-02        Szűts Valentin\n",
       "1931-05-15        Theodor Waxman\n",
       "1982-04-09        Romualdo Marin\n",
       "1982-07-06       Felicita Wilbur\n",
       "1996-03-28      Kaminaga Ichibei\n",
       "\n",
       "[99 rows x 1 columns]"
      ]
     },
     "execution_count": 83,
     "metadata": {},
     "output_type": "execute_result"
    }
   ],
   "source": [
    "def old_enough(d, today, y):\n",
    "    # d - data frame like birth_dates2\n",
    "    # today - a string like '2017-01-30'\n",
    "    # y - e.g. 16\n",
    "    which = d.index <= pd.to_datetime(today) - pd.tseries.offsets.DateOffset(years = y)\n",
    "    return d.iloc[which]\n",
    "old_enough(birth_dates2, \"2016-02-29\", 18)"
   ]
  },
  {
   "cell_type": "code",
   "execution_count": 84,
   "metadata": {
    "collapsed": false
   },
   "outputs": [
    {
     "ename": "NameError",
     "evalue": "name 'periods' is not defined",
     "output_type": "error",
     "traceback": [
      "\u001b[0;31m---------------------------------------------------------------------------\u001b[0m",
      "\u001b[0;31mNameError\u001b[0m                                 Traceback (most recent call last)",
      "\u001b[0;32m<ipython-input-84-6a9fc8d9a426>\u001b[0m in \u001b[0;36m<module>\u001b[0;34m()\u001b[0m\n\u001b[1;32m      2\u001b[0m d = pd.DataFrame(\n\u001b[1;32m      3\u001b[0m     \u001b[0;34m{\u001b[0m\u001b[0;34m\"Name\"\u001b[0m\u001b[0;34m:\u001b[0m \u001b[0;34m[\u001b[0m\u001b[0;34m'A'\u001b[0m\u001b[0;34m,\u001b[0m \u001b[0;34m'B'\u001b[0m\u001b[0;34m,\u001b[0m \u001b[0;34m'C'\u001b[0m\u001b[0;34m,\u001b[0m \u001b[0;34m'D'\u001b[0m\u001b[0;34m,\u001b[0m \u001b[0;34m'E'\u001b[0m\u001b[0;34m]\u001b[0m\u001b[0;34m}\u001b[0m\u001b[0;34m,\u001b[0m\u001b[0;34m\u001b[0m\u001b[0m\n\u001b[0;32m----> 4\u001b[0;31m     \u001b[0mindex\u001b[0m \u001b[0;34m=\u001b[0m \u001b[0mpd\u001b[0m\u001b[0;34m.\u001b[0m\u001b[0mdate_range\u001b[0m\u001b[0;34m(\u001b[0m\u001b[0mdates\u001b[0m\u001b[0;34m,\u001b[0m \u001b[0mperiods\u001b[0m\u001b[0;34m,\u001b[0m \u001b[0mrange\u001b[0m \u001b[0;34m=\u001b[0m \u001b[0;36m5\u001b[0m\u001b[0;34m)\u001b[0m\u001b[0;34m\u001b[0m\u001b[0m\n\u001b[0m\u001b[1;32m      5\u001b[0m )\n",
      "\u001b[0;31mNameError\u001b[0m: name 'periods' is not defined"
     ]
    }
   ],
   "source": [
    "dates = \"2000-02-27\"\n",
    "d = pd.DataFrame(\n",
    "    {\"Name\": ['A', 'B', 'C', 'D', 'E']},\n",
    "    index = pd.date_range(dates, periods, range = 5)\n",
    ")"
   ]
  },
  {
   "cell_type": "code",
   "execution_count": 86,
   "metadata": {
    "collapsed": false
   },
   "outputs": [
    {
     "data": {
      "text/plain": [
       "top  bottom\n",
       "x    1         0.34\n",
       "     2         0.73\n",
       "     4         0.44\n",
       "y    1         0.06\n",
       "     2         0.40\n",
       "z    3         0.74\n",
       "Name: A, dtype: float64"
      ]
     },
     "execution_count": 86,
     "metadata": {},
     "output_type": "execute_result"
    }
   ],
   "source": [
    "y.A"
   ]
  },
  {
   "cell_type": "code",
   "execution_count": 87,
   "metadata": {
    "collapsed": false
   },
   "outputs": [
    {
     "data": {
      "text/plain": [
       "bottom\n",
       "1    0.34\n",
       "2    0.73\n",
       "4    0.44\n",
       "Name: A, dtype: float64"
      ]
     },
     "execution_count": 87,
     "metadata": {},
     "output_type": "execute_result"
    }
   ],
   "source": [
    "y.A.loc['x']"
   ]
  },
  {
   "cell_type": "code",
   "execution_count": 88,
   "metadata": {
    "collapsed": false
   },
   "outputs": [
    {
     "data": {
      "text/plain": [
       "top  bottom\n",
       "x    1         0.34\n",
       "     2         0.73\n",
       "     4         0.44\n",
       "y    1         0.06\n",
       "     2         0.40\n",
       "Name: A, dtype: float64"
      ]
     },
     "execution_count": 88,
     "metadata": {},
     "output_type": "execute_result"
    }
   ],
   "source": [
    "y.A.loc[['y', 'x']]"
   ]
  },
  {
   "cell_type": "code",
   "execution_count": 89,
   "metadata": {
    "collapsed": false
   },
   "outputs": [
    {
     "data": {
      "text/plain": [
       "top  bottom\n",
       "x    1         0.34\n",
       "     2         0.73\n",
       "y    1         0.06\n",
       "     2         0.40\n",
       "Name: A, dtype: float64"
      ]
     },
     "execution_count": 89,
     "metadata": {},
     "output_type": "execute_result"
    }
   ],
   "source": [
    "y.A.loc[['y', 'x'], [2, 1]]"
   ]
  },
  {
   "cell_type": "code",
   "execution_count": 90,
   "metadata": {
    "collapsed": false
   },
   "outputs": [
    {
     "data": {
      "text/plain": [
       "top  bottom\n",
       "x    2         0.73\n",
       "Name: A, dtype: float64"
      ]
     },
     "execution_count": 90,
     "metadata": {},
     "output_type": "execute_result"
    }
   ],
   "source": [
    "y.A.loc[('x', 1), ('y', 2)]"
   ]
  },
  {
   "cell_type": "code",
   "execution_count": 91,
   "metadata": {
    "collapsed": false
   },
   "outputs": [
    {
     "data": {
      "text/plain": [
       "0    1949\n",
       "1    1949\n",
       "2    1949\n",
       "3    1949\n",
       "Name: year, dtype: int64"
      ]
     },
     "execution_count": 91,
     "metadata": {},
     "output_type": "execute_result"
    }
   ],
   "source": [
    "# flights[rows, cols] ---- don't use it\n",
    "flights.iloc[:4, 0] # first 4 rows, first column"
   ]
  },
  {
   "cell_type": "code",
   "execution_count": 92,
   "metadata": {
    "collapsed": false
   },
   "outputs": [
    {
     "data": {
      "text/plain": [
       "0      January\n",
       "12     January\n",
       "24     January\n",
       "36     January\n",
       "48     January\n",
       "60     January\n",
       "72     January\n",
       "84     January\n",
       "96     January\n",
       "108    January\n",
       "120    January\n",
       "132    January\n",
       "Name: month, dtype: object"
      ]
     },
     "execution_count": 92,
     "metadata": {},
     "output_type": "execute_result"
    }
   ],
   "source": [
    "flights.loc[:,'month'].iloc[::12]"
   ]
  },
  {
   "cell_type": "code",
   "execution_count": 93,
   "metadata": {
    "collapsed": false
   },
   "outputs": [
    {
     "data": {
      "text/plain": [
       "0      1949\n",
       "12     1950\n",
       "24     1951\n",
       "36     1952\n",
       "48     1953\n",
       "60     1954\n",
       "72     1955\n",
       "84     1956\n",
       "96     1957\n",
       "108    1958\n",
       "120    1959\n",
       "132    1960\n",
       "Name: year, dtype: int64"
      ]
     },
     "execution_count": 93,
     "metadata": {},
     "output_type": "execute_result"
    }
   ],
   "source": [
    "flights.loc[:,'year'].iloc[::12]"
   ]
  },
  {
   "cell_type": "code",
   "execution_count": 94,
   "metadata": {
    "collapsed": false
   },
   "outputs": [
    {
     "data": {
      "text/plain": [
       "   total_bill   tip     sex smoker  day    time  size\n",
       "0       16.99  1.01  Female     No  Sun  Dinner     2\n",
       "1       10.34  1.66    Male     No  Sun  Dinner     3\n",
       "2       21.01  3.50    Male     No  Sun  Dinner     3\n",
       "3       23.68  3.31    Male     No  Sun  Dinner     2\n",
       "4       24.59  3.61  Female     No  Sun  Dinner     4"
      ]
     },
     "execution_count": 94,
     "metadata": {},
     "output_type": "execute_result"
    }
   ],
   "source": [
    "tips.head()"
   ]
  },
  {
   "cell_type": "code",
   "execution_count": 95,
   "metadata": {
    "collapsed": false
   },
   "outputs": [
    {
     "data": {
      "text/plain": [
       "      sex smoker  day\n",
       "0  Female     No  Sun\n",
       "1    Male     No  Sun\n",
       "2    Male     No  Sun\n",
       "3    Male     No  Sun\n",
       "4  Female     No  Sun"
      ]
     },
     "execution_count": 95,
     "metadata": {},
     "output_type": "execute_result"
    }
   ],
   "source": [
    "tips.loc[:, \"sex\":'day'].head()"
   ]
  },
  {
   "cell_type": "code",
   "execution_count": 96,
   "metadata": {
    "collapsed": false
   },
   "outputs": [
    {
     "data": {
      "text/plain": [
       "(244, 196, 48)"
      ]
     },
     "execution_count": 96,
     "metadata": {},
     "output_type": "execute_result"
    }
   ],
   "source": [
    "# partition tips randomly \n",
    "# create two data frames: tips_train (80%) and tips_test (20%)\n",
    "sa = np.r_[0: len(tips)]\n",
    "np.random.shuffle(sa)\n",
    "indices = sa\n",
    "tips_train = tips.loc[indices[len(tips)//5:]]\n",
    "tips_test = tips.loc[indices[:len(tips)//5]]\n",
    "len(tips), len(tips_train), len(tips_test)"
   ]
  },
  {
   "cell_type": "code",
   "execution_count": 97,
   "metadata": {
    "collapsed": false
   },
   "outputs": [
    {
     "data": {
      "text/plain": [
       "     total_bill   tip     sex smoker  day    time  size\n",
       "208       24.27  2.03    Male    Yes  Sat  Dinner     2\n",
       "230       24.01  2.00    Male    Yes  Sat  Dinner     4\n",
       "61        13.81  2.00    Male    Yes  Sat  Dinner     2\n",
       "33        20.69  2.45  Female     No  Sat  Dinner     4\n",
       "37        16.93  3.07  Female     No  Sat  Dinner     3"
      ]
     },
     "execution_count": 97,
     "metadata": {},
     "output_type": "execute_result"
    }
   ],
   "source": [
    "tips_train.head()"
   ]
  },
  {
   "cell_type": "code",
   "execution_count": 98,
   "metadata": {
    "collapsed": false
   },
   "outputs": [
    {
     "data": {
      "text/plain": [
       "     total_bill   tip     sex smoker   day    time  size\n",
       "30         9.55  1.45    Male     No   Sat  Dinner     2\n",
       "239       29.03  5.92    Male     No   Sat  Dinner     3\n",
       "120       11.69  2.31    Male     No  Thur   Lunch     2\n",
       "29        19.65  3.00  Female     No   Sat  Dinner     2\n",
       "196       10.34  2.00    Male    Yes  Thur   Lunch     2"
      ]
     },
     "execution_count": 98,
     "metadata": {},
     "output_type": "execute_result"
    }
   ],
   "source": [
    "tips_test.head()"
   ]
  },
  {
   "cell_type": "code",
   "execution_count": 99,
   "metadata": {
    "collapsed": false
   },
   "outputs": [
    {
     "data": {
      "text/plain": [
       "(244, 195, 49)"
      ]
     },
     "execution_count": 99,
     "metadata": {},
     "output_type": "execute_result"
    }
   ],
   "source": [
    "# partition tips randomly \n",
    "# create two data frames: tips_train (80%) and tips_test (20%)\n",
    "i = np.random.permutation(np.arange(tips.shape[0]))\n",
    "k = int(len(i)*0.8)\n",
    "tips_train = tips.iloc[i[:k]]\n",
    "tips_test = tips.iloc[i[k:]]\n",
    "len(tips), len(tips_train), len(tips_test)"
   ]
  },
  {
   "cell_type": "code",
   "execution_count": 100,
   "metadata": {
    "collapsed": false
   },
   "outputs": [
    {
     "data": {
      "text/plain": [
       "(244, 195, 49)"
      ]
     },
     "execution_count": 100,
     "metadata": {},
     "output_type": "execute_result"
    }
   ],
   "source": [
    "tips_train = tips.sample(frac = 0.8, random_state=123)  # setting seed with random state\n",
    "tips_trst = tips.iloc[~tips.index.isin(tips_train.index), :]\n",
    "len(tips), len(tips_train), len(tips_test)"
   ]
  },
  {
   "cell_type": "code",
   "execution_count": 101,
   "metadata": {
    "collapsed": false
   },
   "outputs": [
    {
     "data": {
      "text/plain": [
       "     total_bill    tip     sex smoker   day    time  size\n",
       "23        39.42   7.58    Male     No   Sat  Dinner     4\n",
       "44        30.40   5.60    Male     No   Sun  Dinner     4\n",
       "47        32.40   6.00    Male     No   Sun  Dinner     4\n",
       "52        34.81   5.20  Female     No   Sun  Dinner     4\n",
       "59        48.27   6.73    Male     No   Sat  Dinner     4\n",
       "85        34.83   5.17  Female     No  Thur   Lunch     4\n",
       "88        24.71   5.85    Male     No  Thur   Lunch     2\n",
       "116       29.93   5.07    Male     No   Sun  Dinner     4\n",
       "141       34.30   6.70    Male     No  Thur   Lunch     6\n",
       "155       29.85   5.14  Female     No   Sun  Dinner     5\n",
       "170       50.81  10.00    Male    Yes   Sat  Dinner     3\n",
       "172        7.25   5.15    Male    Yes   Sun  Dinner     2\n",
       "181       23.33   5.65    Male    Yes   Sun  Dinner     2\n",
       "183       23.17   6.50    Male    Yes   Sun  Dinner     4\n",
       "211       25.89   5.16    Male    Yes   Sat  Dinner     4\n",
       "212       48.33   9.00    Male     No   Sat  Dinner     4\n",
       "214       28.17   6.50  Female    Yes   Sat  Dinner     3\n",
       "239       29.03   5.92    Male     No   Sat  Dinner     3"
      ]
     },
     "execution_count": 101,
     "metadata": {},
     "output_type": "execute_result"
    }
   ],
   "source": [
    "tips.loc[tips.tip>5]"
   ]
  },
  {
   "cell_type": "markdown",
   "metadata": {},
   "source": [
    "    1. Choose only Male data\n"
   ]
  },
  {
   "cell_type": "code",
   "execution_count": 102,
   "metadata": {
    "collapsed": false
   },
   "outputs": [
    {
     "data": {
      "text/plain": [
       "     total_bill   tip   sex smoker   day    time  size\n",
       "1         10.34  1.66  Male     No   Sun  Dinner     3\n",
       "2         21.01  3.50  Male     No   Sun  Dinner     3\n",
       "3         23.68  3.31  Male     No   Sun  Dinner     2\n",
       "5         25.29  4.71  Male     No   Sun  Dinner     4\n",
       "6          8.77  2.00  Male     No   Sun  Dinner     2\n",
       "7         26.88  3.12  Male     No   Sun  Dinner     4\n",
       "8         15.04  1.96  Male     No   Sun  Dinner     2\n",
       "9         14.78  3.23  Male     No   Sun  Dinner     2\n",
       "10        10.27  1.71  Male     No   Sun  Dinner     2\n",
       "12        15.42  1.57  Male     No   Sun  Dinner     2\n",
       "13        18.43  3.00  Male     No   Sun  Dinner     4\n",
       "15        21.58  3.92  Male     No   Sun  Dinner     2\n",
       "17        16.29  3.71  Male     No   Sun  Dinner     3\n",
       "19        20.65  3.35  Male     No   Sat  Dinner     3\n",
       "20        17.92  4.08  Male     No   Sat  Dinner     2\n",
       "23        39.42  7.58  Male     No   Sat  Dinner     4\n",
       "24        19.82  3.18  Male     No   Sat  Dinner     2\n",
       "25        17.81  2.34  Male     No   Sat  Dinner     4\n",
       "26        13.37  2.00  Male     No   Sat  Dinner     2\n",
       "27        12.69  2.00  Male     No   Sat  Dinner     2\n",
       "28        21.70  4.30  Male     No   Sat  Dinner     2\n",
       "30         9.55  1.45  Male     No   Sat  Dinner     2\n",
       "31        18.35  2.50  Male     No   Sat  Dinner     4\n",
       "34        17.78  3.27  Male     No   Sat  Dinner     2\n",
       "35        24.06  3.60  Male     No   Sat  Dinner     3\n",
       "36        16.31  2.00  Male     No   Sat  Dinner     3\n",
       "38        18.69  2.31  Male     No   Sat  Dinner     3\n",
       "39        31.27  5.00  Male     No   Sat  Dinner     3\n",
       "40        16.04  2.24  Male     No   Sat  Dinner     3\n",
       "41        17.46  2.54  Male     No   Sun  Dinner     2\n",
       "..          ...   ...   ...    ...   ...     ...   ...\n",
       "195        7.56  1.44  Male     No  Thur   Lunch     2\n",
       "196       10.34  2.00  Male    Yes  Thur   Lunch     2\n",
       "199       13.51  2.00  Male    Yes  Thur   Lunch     2\n",
       "200       18.71  4.00  Male    Yes  Thur   Lunch     3\n",
       "204       20.53  4.00  Male    Yes  Thur   Lunch     4\n",
       "206       26.59  3.41  Male    Yes   Sat  Dinner     3\n",
       "207       38.73  3.00  Male    Yes   Sat  Dinner     4\n",
       "208       24.27  2.03  Male    Yes   Sat  Dinner     2\n",
       "210       30.06  2.00  Male    Yes   Sat  Dinner     3\n",
       "211       25.89  5.16  Male    Yes   Sat  Dinner     4\n",
       "212       48.33  9.00  Male     No   Sat  Dinner     4\n",
       "216       28.15  3.00  Male    Yes   Sat  Dinner     5\n",
       "217       11.59  1.50  Male    Yes   Sat  Dinner     2\n",
       "218        7.74  1.44  Male    Yes   Sat  Dinner     2\n",
       "220       12.16  2.20  Male    Yes   Fri   Lunch     2\n",
       "222        8.58  1.92  Male    Yes   Fri   Lunch     1\n",
       "224       13.42  1.58  Male    Yes   Fri   Lunch     2\n",
       "227       20.45  3.00  Male     No   Sat  Dinner     4\n",
       "228       13.28  2.72  Male     No   Sat  Dinner     2\n",
       "230       24.01  2.00  Male    Yes   Sat  Dinner     4\n",
       "231       15.69  3.00  Male    Yes   Sat  Dinner     3\n",
       "232       11.61  3.39  Male     No   Sat  Dinner     2\n",
       "233       10.77  1.47  Male     No   Sat  Dinner     2\n",
       "234       15.53  3.00  Male    Yes   Sat  Dinner     2\n",
       "235       10.07  1.25  Male     No   Sat  Dinner     2\n",
       "236       12.60  1.00  Male    Yes   Sat  Dinner     2\n",
       "237       32.83  1.17  Male    Yes   Sat  Dinner     2\n",
       "239       29.03  5.92  Male     No   Sat  Dinner     3\n",
       "241       22.67  2.00  Male    Yes   Sat  Dinner     2\n",
       "242       17.82  1.75  Male     No   Sat  Dinner     2\n",
       "\n",
       "[157 rows x 7 columns]"
      ]
     },
     "execution_count": 102,
     "metadata": {},
     "output_type": "execute_result"
    }
   ],
   "source": [
    "tips[tips.sex == 'Male']"
   ]
  },
  {
   "cell_type": "markdown",
   "metadata": {},
   "source": [
    "    2. Choose only total_bill in interval [10, 20]\n",
    "\n"
   ]
  },
  {
   "cell_type": "code",
   "execution_count": 103,
   "metadata": {
    "collapsed": false
   },
   "outputs": [
    {
     "data": {
      "text/plain": [
       "     total_bill   tip     sex smoker   day    time  size\n",
       "0         16.99  1.01  Female     No   Sun  Dinner     2\n",
       "1         10.34  1.66    Male     No   Sun  Dinner     3\n",
       "8         15.04  1.96    Male     No   Sun  Dinner     2\n",
       "9         14.78  3.23    Male     No   Sun  Dinner     2\n",
       "10        10.27  1.71    Male     No   Sun  Dinner     2\n",
       "12        15.42  1.57    Male     No   Sun  Dinner     2\n",
       "13        18.43  3.00    Male     No   Sun  Dinner     4\n",
       "14        14.83  3.02  Female     No   Sun  Dinner     2\n",
       "16        10.33  1.67  Female     No   Sun  Dinner     3\n",
       "17        16.29  3.71    Male     No   Sun  Dinner     3\n",
       "18        16.97  3.50  Female     No   Sun  Dinner     3\n",
       "20        17.92  4.08    Male     No   Sat  Dinner     2\n",
       "22        15.77  2.23  Female     No   Sat  Dinner     2\n",
       "24        19.82  3.18    Male     No   Sat  Dinner     2\n",
       "25        17.81  2.34    Male     No   Sat  Dinner     4\n",
       "26        13.37  2.00    Male     No   Sat  Dinner     2\n",
       "27        12.69  2.00    Male     No   Sat  Dinner     2\n",
       "29        19.65  3.00  Female     No   Sat  Dinner     2\n",
       "31        18.35  2.50    Male     No   Sat  Dinner     4\n",
       "32        15.06  3.00  Female     No   Sat  Dinner     2\n",
       "34        17.78  3.27    Male     No   Sat  Dinner     2\n",
       "36        16.31  2.00    Male     No   Sat  Dinner     3\n",
       "37        16.93  3.07  Female     No   Sat  Dinner     3\n",
       "38        18.69  2.31    Male     No   Sat  Dinner     3\n",
       "40        16.04  2.24    Male     No   Sat  Dinner     3\n",
       "41        17.46  2.54    Male     No   Sun  Dinner     2\n",
       "42        13.94  3.06    Male     No   Sun  Dinner     2\n",
       "45        18.29  3.00    Male     No   Sun  Dinner     2\n",
       "49        18.04  3.00    Male     No   Sun  Dinner     2\n",
       "50        12.54  2.50    Male     No   Sun  Dinner     2\n",
       "..          ...   ...     ...    ...   ...     ...   ...\n",
       "191       19.81  4.19  Female    Yes  Thur   Lunch     2\n",
       "193       15.48  2.02    Male    Yes  Thur   Lunch     2\n",
       "194       16.58  4.00    Male    Yes  Thur   Lunch     2\n",
       "196       10.34  2.00    Male    Yes  Thur   Lunch     2\n",
       "198       13.00  2.00  Female    Yes  Thur   Lunch     2\n",
       "199       13.51  2.00    Male    Yes  Thur   Lunch     2\n",
       "200       18.71  4.00    Male    Yes  Thur   Lunch     3\n",
       "201       12.74  2.01  Female    Yes  Thur   Lunch     2\n",
       "202       13.00  2.00  Female    Yes  Thur   Lunch     2\n",
       "203       16.40  2.50  Female    Yes  Thur   Lunch     2\n",
       "205       16.47  3.23  Female    Yes  Thur   Lunch     3\n",
       "209       12.76  2.23  Female    Yes   Sat  Dinner     2\n",
       "213       13.27  2.50  Female    Yes   Sat  Dinner     2\n",
       "215       12.90  1.10  Female    Yes   Sat  Dinner     2\n",
       "217       11.59  1.50    Male    Yes   Sat  Dinner     2\n",
       "220       12.16  2.20    Male    Yes   Fri   Lunch     2\n",
       "221       13.42  3.48  Female    Yes   Fri   Lunch     2\n",
       "223       15.98  3.00  Female     No   Fri   Lunch     3\n",
       "224       13.42  1.58    Male    Yes   Fri   Lunch     2\n",
       "225       16.27  2.50  Female    Yes   Fri   Lunch     2\n",
       "226       10.09  2.00  Female    Yes   Fri   Lunch     2\n",
       "228       13.28  2.72    Male     No   Sat  Dinner     2\n",
       "231       15.69  3.00    Male    Yes   Sat  Dinner     3\n",
       "232       11.61  3.39    Male     No   Sat  Dinner     2\n",
       "233       10.77  1.47    Male     No   Sat  Dinner     2\n",
       "234       15.53  3.00    Male    Yes   Sat  Dinner     2\n",
       "235       10.07  1.25    Male     No   Sat  Dinner     2\n",
       "236       12.60  1.00    Male    Yes   Sat  Dinner     2\n",
       "242       17.82  1.75    Male     No   Sat  Dinner     2\n",
       "243       18.78  3.00  Female     No  Thur  Dinner     2\n",
       "\n",
       "[130 rows x 7 columns]"
      ]
     },
     "execution_count": 103,
     "metadata": {},
     "output_type": "execute_result"
    }
   ],
   "source": [
    "tips[(tips.total_bill >= 10) & (tips.total_bill <=20)]"
   ]
  },
  {
   "cell_type": "markdown",
   "metadata": {},
   "source": [
    "___\n",
    "**3. Choose sat and sun data with tip > 5**\n",
    "___"
   ]
  },
  {
   "cell_type": "code",
   "execution_count": 104,
   "metadata": {
    "collapsed": false
   },
   "outputs": [
    {
     "data": {
      "text/plain": [
       "     total_bill    tip     sex smoker  day    time  size\n",
       "23        39.42   7.58    Male     No  Sat  Dinner     4\n",
       "44        30.40   5.60    Male     No  Sun  Dinner     4\n",
       "47        32.40   6.00    Male     No  Sun  Dinner     4\n",
       "52        34.81   5.20  Female     No  Sun  Dinner     4\n",
       "59        48.27   6.73    Male     No  Sat  Dinner     4\n",
       "116       29.93   5.07    Male     No  Sun  Dinner     4\n",
       "155       29.85   5.14  Female     No  Sun  Dinner     5\n",
       "170       50.81  10.00    Male    Yes  Sat  Dinner     3\n",
       "172        7.25   5.15    Male    Yes  Sun  Dinner     2\n",
       "181       23.33   5.65    Male    Yes  Sun  Dinner     2\n",
       "183       23.17   6.50    Male    Yes  Sun  Dinner     4\n",
       "211       25.89   5.16    Male    Yes  Sat  Dinner     4\n",
       "212       48.33   9.00    Male     No  Sat  Dinner     4\n",
       "214       28.17   6.50  Female    Yes  Sat  Dinner     3\n",
       "239       29.03   5.92    Male     No  Sat  Dinner     3"
      ]
     },
     "execution_count": 104,
     "metadata": {},
     "output_type": "execute_result"
    }
   ],
   "source": [
    "tips[((tips.day == 'Sat') | (tips.day == 'Sun')) & (tips.tip > 5)]"
   ]
  },
  {
   "cell_type": "code",
   "execution_count": 105,
   "metadata": {
    "collapsed": false
   },
   "outputs": [
    {
     "data": {
      "text/plain": [
       "     total_bill    tip     sex smoker  day    time  size\n",
       "23        39.42   7.58    Male     No  Sat  Dinner     4\n",
       "44        30.40   5.60    Male     No  Sun  Dinner     4\n",
       "47        32.40   6.00    Male     No  Sun  Dinner     4\n",
       "52        34.81   5.20  Female     No  Sun  Dinner     4\n",
       "59        48.27   6.73    Male     No  Sat  Dinner     4\n",
       "116       29.93   5.07    Male     No  Sun  Dinner     4\n",
       "155       29.85   5.14  Female     No  Sun  Dinner     5\n",
       "170       50.81  10.00    Male    Yes  Sat  Dinner     3\n",
       "172        7.25   5.15    Male    Yes  Sun  Dinner     2\n",
       "181       23.33   5.65    Male    Yes  Sun  Dinner     2\n",
       "183       23.17   6.50    Male    Yes  Sun  Dinner     4\n",
       "211       25.89   5.16    Male    Yes  Sat  Dinner     4\n",
       "212       48.33   9.00    Male     No  Sat  Dinner     4\n",
       "214       28.17   6.50  Female    Yes  Sat  Dinner     3\n",
       "239       29.03   5.92    Male     No  Sat  Dinner     3"
      ]
     },
     "execution_count": 105,
     "metadata": {},
     "output_type": "execute_result"
    }
   ],
   "source": [
    "tips[tips.day.isin([\"Sun\", \"Sat\"]) & (tips.tip > 5)]"
   ]
  },
  {
   "cell_type": "code",
   "execution_count": 106,
   "metadata": {
    "collapsed": false
   },
   "outputs": [
    {
     "data": {
      "text/plain": [
       "COLS     A    B      C     D\n",
       "ROWS                        \n",
       "0     0.70    f  False  0.40\n",
       "1     0.29  NaN  False -0.42\n",
       "2     0.23    f  False -0.54\n",
       "3     0.55    m  False  0.10\n",
       "4     0.72    f   True  0.44"
      ]
     },
     "execution_count": 106,
     "metadata": {},
     "output_type": "execute_result"
    }
   ],
   "source": [
    "# Adding new columns\n",
    "x['D'] = x['A']* 2.0 -1\n",
    "x"
   ]
  },
  {
   "cell_type": "code",
   "execution_count": 107,
   "metadata": {
    "collapsed": false
   },
   "outputs": [
    {
     "data": {
      "text/plain": [
       "COLS     A    B      C     D\n",
       "ROWS                        \n",
       "0     0.70    f  False  0.40\n",
       "1     0.29  NaN  False -0.42\n",
       "2     0.23    f  False -0.54\n",
       "3     0.55    m  False  0.10\n",
       "4     0.72    f   True  0.44"
      ]
     },
     "execution_count": 107,
     "metadata": {},
     "output_type": "execute_result"
    }
   ],
   "source": [
    "x.E = x['A']*2.0 -1   ### This doesnot work \n",
    "x"
   ]
  },
  {
   "cell_type": "code",
   "execution_count": 108,
   "metadata": {
    "collapsed": false
   },
   "outputs": [
    {
     "data": {
      "text/plain": [
       "COLS     A     E    B      C     D\n",
       "ROWS                              \n",
       "0     0.70  0.40    f  False  0.40\n",
       "1     0.29 -0.42  NaN  False -0.42\n",
       "2     0.23 -0.54    f  False -0.54\n",
       "3     0.55  0.10    m  False  0.10\n",
       "4     0.72  0.44    f   True  0.44"
      ]
     },
     "execution_count": 108,
     "metadata": {},
     "output_type": "execute_result"
    }
   ],
   "source": [
    "x.insert(1, 'E', x['A']*2.0 -1)\n",
    "x"
   ]
  },
  {
   "cell_type": "code",
   "execution_count": 109,
   "metadata": {
    "collapsed": false
   },
   "outputs": [
    {
     "data": {
      "text/plain": [
       "COLS     A    B      C     D\n",
       "ROWS                        \n",
       "0     0.70    f  False  0.40\n",
       "1     0.29  NaN  False -0.42\n",
       "2     0.23    f  False -0.54\n",
       "3     0.55    m  False  0.10\n",
       "4     0.72    f   True  0.44"
      ]
     },
     "execution_count": 109,
     "metadata": {},
     "output_type": "execute_result"
    }
   ],
   "source": [
    "x = x.drop(['E'], axis = 1)\n",
    "x"
   ]
  },
  {
   "cell_type": "code",
   "execution_count": 110,
   "metadata": {
    "collapsed": false
   },
   "outputs": [
    {
     "data": {
      "text/plain": [
       "COLS     A     E    B      C     D\n",
       "ROWS                              \n",
       "0     0.70  0.40    f  False  0.40\n",
       "1     0.29 -0.42  NaN  False -0.42\n",
       "2     0.23 -0.54    f  False -0.54\n",
       "3     0.55  0.10    m  False  0.10\n",
       "4     0.72  0.44    f   True  0.44"
      ]
     },
     "execution_count": 110,
     "metadata": {},
     "output_type": "execute_result"
    }
   ],
   "source": [
    "x.insert(1, 'E', x['A']*2.0 -1)\n",
    "x"
   ]
  },
  {
   "cell_type": "code",
   "execution_count": 111,
   "metadata": {
    "collapsed": false
   },
   "outputs": [
    {
     "data": {
      "text/plain": [
       "COLS     A    B      C\n",
       "ROWS                  \n",
       "0     0.70    f  False\n",
       "1     0.29  NaN  False\n",
       "2     0.23    f  False\n",
       "3     0.55    m  False\n",
       "4     0.72    f   True"
      ]
     },
     "execution_count": 111,
     "metadata": {},
     "output_type": "execute_result"
    }
   ],
   "source": [
    "x = x.drop(['D', 'E'], axis = 1)\n",
    "x"
   ]
  },
  {
   "cell_type": "code",
   "execution_count": 112,
   "metadata": {
    "collapsed": true
   },
   "outputs": [],
   "source": [
    "x.loc[9] = [0.4, 'm', True]"
   ]
  },
  {
   "cell_type": "code",
   "execution_count": 113,
   "metadata": {
    "collapsed": false
   },
   "outputs": [
    {
     "data": {
      "text/plain": [
       "COLS     A    B      C\n",
       "ROWS                  \n",
       "0     0.70    f  False\n",
       "1     0.29  NaN  False\n",
       "2     0.23    f  False\n",
       "3     0.55    m  False\n",
       "4     0.72    f   True\n",
       "9     0.40    m   True"
      ]
     },
     "execution_count": 113,
     "metadata": {},
     "output_type": "execute_result"
    }
   ],
   "source": [
    "x"
   ]
  },
  {
   "cell_type": "code",
   "execution_count": 114,
   "metadata": {
    "collapsed": false
   },
   "outputs": [
    {
     "data": {
      "text/plain": [
       "COLS     A    B      C\n",
       "ROWS                  \n",
       "0     0.70    f  False\n",
       "1     0.29  NaN  False\n",
       "2     0.23    f  False\n",
       "3     0.55    m  False\n",
       "4     0.72    f   True"
      ]
     },
     "execution_count": 114,
     "metadata": {},
     "output_type": "execute_result"
    }
   ],
   "source": [
    "x = x.drop([9], axis = 0)\n",
    "x"
   ]
  },
  {
   "cell_type": "code",
   "execution_count": 115,
   "metadata": {
    "collapsed": false
   },
   "outputs": [
    {
     "data": {
      "text/plain": [
       "ROWS\n",
       "0    1.40\n",
       "1    0.58\n",
       "2    0.46\n",
       "3    1.10\n",
       "4    1.44\n",
       "Name: A, dtype: float64"
      ]
     },
     "execution_count": 115,
     "metadata": {},
     "output_type": "execute_result"
    }
   ],
   "source": [
    "2*x.A"
   ]
  },
  {
   "cell_type": "code",
   "execution_count": 116,
   "metadata": {
    "collapsed": false
   },
   "outputs": [
    {
     "data": {
      "text/plain": [
       "ROWS\n",
       "0    1.40\n",
       "1    0.58\n",
       "2    0.46\n",
       "3    1.10\n",
       "4    1.44\n",
       "Name: A, dtype: float64"
      ]
     },
     "execution_count": 116,
     "metadata": {},
     "output_type": "execute_result"
    }
   ],
   "source": [
    "x.A + x.A.iloc[[3, 2, 1, 0, 4]]  # label-wise operation!!!!"
   ]
  },
  {
   "cell_type": "code",
   "execution_count": 117,
   "metadata": {
    "collapsed": false
   },
   "outputs": [
    {
     "data": {
      "text/plain": [
       "array([ 1.25,  0.52,  0.52,  1.25,  1.44])"
      ]
     },
     "execution_count": 117,
     "metadata": {},
     "output_type": "execute_result"
    }
   ],
   "source": [
    "x.A.values + x.A.iloc[[3, 2, 1, 0, 4]].values"
   ]
  },
  {
   "cell_type": "code",
   "execution_count": 118,
   "metadata": {
    "collapsed": false
   },
   "outputs": [
    {
     "data": {
      "text/plain": [
       "ROWS\n",
       "0    0.70\n",
       "1    0.29\n",
       "2    0.23\n",
       "3    0.55\n",
       "4    0.72\n",
       "Name: A, dtype: float64"
      ]
     },
     "execution_count": 118,
     "metadata": {},
     "output_type": "execute_result"
    }
   ],
   "source": [
    "x.A"
   ]
  },
  {
   "cell_type": "code",
   "execution_count": 119,
   "metadata": {
    "collapsed": false
   },
   "outputs": [
    {
     "data": {
      "text/plain": [
       "ROWS\n",
       "0     NaN\n",
       "1    0.58\n",
       "2    0.46\n",
       "3    1.10\n",
       "4     NaN\n",
       "Name: A, dtype: float64"
      ]
     },
     "execution_count": 119,
     "metadata": {},
     "output_type": "execute_result"
    }
   ],
   "source": [
    "x.A.iloc[1:] + x.A.iloc[:-1]    "
   ]
  },
  {
   "cell_type": "code",
   "execution_count": 120,
   "metadata": {
    "collapsed": false
   },
   "outputs": [
    {
     "data": {
      "text/plain": [
       "array([ 0.99,  0.52,  0.78,  1.27])"
      ]
     },
     "execution_count": 120,
     "metadata": {},
     "output_type": "execute_result"
    }
   ],
   "source": [
    "x.A.iloc[1:].values + x.A.iloc[:-1].values   "
   ]
  },
  {
   "cell_type": "code",
   "execution_count": 121,
   "metadata": {
    "collapsed": false
   },
   "outputs": [
    {
     "data": {
      "text/plain": [
       "ROWS\n",
       "0    1.4\n",
       "0    1.4\n",
       "0    1.4\n",
       "1    NaN\n",
       "2    NaN\n",
       "3    NaN\n",
       "4    NaN\n",
       "Name: A, dtype: float64"
      ]
     },
     "execution_count": 121,
     "metadata": {},
     "output_type": "execute_result"
    }
   ],
   "source": [
    "x.A + x.A.loc[[0, 0, 0]]"
   ]
  },
  {
   "cell_type": "code",
   "execution_count": 122,
   "metadata": {
    "collapsed": false
   },
   "outputs": [
    {
     "data": {
      "text/plain": [
       "0      10.7\n",
       "0     100.7\n",
       "0    1000.7\n",
       "1       NaN\n",
       "2       NaN\n",
       "3       NaN\n",
       "4       NaN\n",
       "dtype: float64"
      ]
     },
     "execution_count": 122,
     "metadata": {},
     "output_type": "execute_result"
    }
   ],
   "source": [
    "x.A + pd.Series([10, 100, 1000], index = [0, 0, 0])"
   ]
  },
  {
   "cell_type": "code",
   "execution_count": 123,
   "metadata": {
    "collapsed": false
   },
   "outputs": [
    {
     "data": {
      "text/plain": [
       "ROWS\n",
       "0    2.013753\n",
       "1    1.336427\n",
       "2    1.258600\n",
       "3    1.733253\n",
       "4    2.054433\n",
       "Name: A, dtype: float64"
      ]
     },
     "execution_count": 123,
     "metadata": {},
     "output_type": "execute_result"
    }
   ],
   "source": [
    "np.exp(x.A)"
   ]
  },
  {
   "cell_type": "code",
   "execution_count": 124,
   "metadata": {
    "collapsed": false
   },
   "outputs": [
    {
     "data": {
      "text/plain": [
       "0.49800000000000005"
      ]
     },
     "execution_count": 124,
     "metadata": {},
     "output_type": "execute_result"
    }
   ],
   "source": [
    "np.mean(x.A)"
   ]
  },
  {
   "cell_type": "code",
   "execution_count": 125,
   "metadata": {
    "collapsed": false
   },
   "outputs": [
    {
     "data": {
      "text/plain": [
       "0.49800000000000005"
      ]
     },
     "execution_count": 125,
     "metadata": {},
     "output_type": "execute_result"
    }
   ],
   "source": [
    "x.A.mean()"
   ]
  },
  {
   "cell_type": "code",
   "execution_count": 126,
   "metadata": {
    "collapsed": false
   },
   "outputs": [
    {
     "data": {
      "text/plain": [
       "COLS          A\n",
       "count  5.000000\n",
       "mean   0.498000\n",
       "std    0.227969\n",
       "min    0.230000\n",
       "25%    0.290000\n",
       "50%    0.550000\n",
       "75%    0.700000\n",
       "max    0.720000"
      ]
     },
     "execution_count": 126,
     "metadata": {},
     "output_type": "execute_result"
    }
   ],
   "source": [
    "# std(ddof = 1), var, min max, median\n",
    "x.describe()"
   ]
  },
  {
   "cell_type": "code",
   "execution_count": 127,
   "metadata": {
    "collapsed": false
   },
   "outputs": [
    {
     "data": {
      "text/plain": [
       "count     4\n",
       "unique    2\n",
       "top       f\n",
       "freq      3\n",
       "Name: B, dtype: object"
      ]
     },
     "execution_count": 127,
     "metadata": {},
     "output_type": "execute_result"
    }
   ],
   "source": [
    "x.B.describe()"
   ]
  },
  {
   "cell_type": "code",
   "execution_count": 128,
   "metadata": {
    "collapsed": false
   },
   "outputs": [
    {
     "data": {
      "text/plain": [
       "        total_bill       tip      size\n",
       "sex                                   \n",
       "Female   18.056897  2.833448  2.459770\n",
       "Male     20.744076  3.089618  2.630573"
      ]
     },
     "execution_count": 128,
     "metadata": {},
     "output_type": "execute_result"
    }
   ],
   "source": [
    "tips.groupby([\"sex\"]).mean()"
   ]
  },
  {
   "cell_type": "code",
   "execution_count": 129,
   "metadata": {
    "collapsed": false
   },
   "outputs": [
    {
     "data": {
      "text/plain": [
       "               total_bill       tip      size\n",
       "sex    smoker                                \n",
       "Female No       18.105185  2.773519  2.592593\n",
       "       Yes      17.977879  2.931515  2.242424\n",
       "Male   No       19.791237  3.113402  2.711340\n",
       "       Yes      22.284500  3.051167  2.500000"
      ]
     },
     "execution_count": 129,
     "metadata": {},
     "output_type": "execute_result"
    }
   ],
   "source": [
    "tips.groupby([\"sex\", \"smoker\"]).mean()"
   ]
  },
  {
   "cell_type": "code",
   "execution_count": 130,
   "metadata": {
    "collapsed": false
   },
   "outputs": [
    {
     "data": {
      "text/plain": [
       "Male      157\n",
       "Female     87\n",
       "Name: sex, dtype: int64"
      ]
     },
     "execution_count": 130,
     "metadata": {},
     "output_type": "execute_result"
    }
   ],
   "source": [
    "tips.sex.value_counts()"
   ]
  },
  {
   "cell_type": "code",
   "execution_count": 131,
   "metadata": {
    "collapsed": false
   },
   "outputs": [
    {
     "data": {
      "text/plain": [
       "               tip  total_bill\n",
       "day  sex                      \n",
       "Fri  Female  3.000      15.380\n",
       "     Male    2.600      17.215\n",
       "Sat  Female  2.625      18.360\n",
       "     Male    3.000      18.240\n",
       "Sun  Female  3.500      17.410\n",
       "     Male    3.085      20.725\n",
       "Thur Female  2.005      13.785\n",
       "     Male    2.530      16.975"
      ]
     },
     "execution_count": 131,
     "metadata": {},
     "output_type": "execute_result"
    }
   ],
   "source": [
    "pd.pivot_table(tips, values = ['total_bill', 'tip'], index = ['day', 'sex'], aggfunc = 'median')"
   ]
  },
  {
   "cell_type": "code",
   "execution_count": 132,
   "metadata": {
    "collapsed": false
   },
   "outputs": [
    {
     "data": {
      "text/plain": [
       "sex     Female  Male\n",
       "smoker              \n",
       "No          54    97\n",
       "Yes         33    60"
      ]
     },
     "execution_count": 132,
     "metadata": {},
     "output_type": "execute_result"
    }
   ],
   "source": [
    "pd.crosstab(tips.smoker, tips.sex)"
   ]
  },
  {
   "cell_type": "code",
   "execution_count": null,
   "metadata": {
    "collapsed": true
   },
   "outputs": [],
   "source": []
  },
  {
   "cell_type": "code",
   "execution_count": null,
   "metadata": {
    "collapsed": true
   },
   "outputs": [],
   "source": []
  },
  {
   "cell_type": "markdown",
   "metadata": {},
   "source": [
    "1. nycflights13::weather - convert temperature to Celsius. Compute daily mean temperatures. Choose days with greater temperature than in the preceding day. Also find 5 hottest days"
   ]
  },
  {
   "cell_type": "code",
   "execution_count": 133,
   "metadata": {
    "collapsed": false
   },
   "outputs": [
    {
     "data": {
      "text/plain": [
       "  origin  year  month  day  hour   temp   dewp  humid  wind_dir  wind_speed  \\\n",
       "0    EWR  2013      1    1     0  37.04  21.92  53.97     230.0    10.35702   \n",
       "1    EWR  2013      1    1     1  37.04  21.92  53.97     230.0    13.80936   \n",
       "2    EWR  2013      1    1     2  37.94  21.92  52.09     230.0    12.65858   \n",
       "3    EWR  2013      1    1     3  37.94  23.00  54.51     230.0    13.80936   \n",
       "4    EWR  2013      1    1     4  37.94  24.08  57.04     240.0    14.96014   \n",
       "\n",
       "   wind_gust  precip  pressure  visib            time_hour  \n",
       "0  11.918651     0.0    1013.9   10.0  2013-01-01 01:00:00  \n",
       "1  15.891535     0.0    1013.0   10.0  2013-01-01 02:00:00  \n",
       "2  14.567241     0.0    1012.6   10.0  2013-01-01 03:00:00  \n",
       "3  15.891535     0.0    1012.7   10.0  2013-01-01 04:00:00  \n",
       "4  17.215830     0.0    1012.8   10.0  2013-01-01 05:00:00  "
      ]
     },
     "execution_count": 133,
     "metadata": {},
     "output_type": "execute_result"
    }
   ],
   "source": [
    "weather = pd.read_csv(\"weather.csv\", comment = '#')\n",
    "weather.head()"
   ]
  },
  {
   "cell_type": "code",
   "execution_count": 134,
   "metadata": {
    "collapsed": false
   },
   "outputs": [
    {
     "data": {
      "text/plain": [
       "  origin  year  month  day  hour   temp   dewp  humid  wind_dir  wind_speed  \\\n",
       "0    EWR  2013      1    1     0  37.04  21.92  53.97     230.0    10.35702   \n",
       "1    EWR  2013      1    1     1  37.04  21.92  53.97     230.0    13.80936   \n",
       "2    EWR  2013      1    1     2  37.94  21.92  52.09     230.0    12.65858   \n",
       "3    EWR  2013      1    1     3  37.94  23.00  54.51     230.0    13.80936   \n",
       "4    EWR  2013      1    1     4  37.94  24.08  57.04     240.0    14.96014   \n",
       "\n",
       "   wind_gust  precip  pressure  visib            time_hour  \n",
       "0  11.918651     0.0    1013.9   10.0  2013-01-01 01:00:00  \n",
       "1  15.891535     0.0    1013.0   10.0  2013-01-01 02:00:00  \n",
       "2  14.567241     0.0    1012.6   10.0  2013-01-01 03:00:00  \n",
       "3  15.891535     0.0    1012.7   10.0  2013-01-01 04:00:00  \n",
       "4  17.215830     0.0    1012.8   10.0  2013-01-01 05:00:00  "
      ]
     },
     "execution_count": 134,
     "metadata": {},
     "output_type": "execute_result"
    }
   ],
   "source": [
    "weather.head()"
   ]
  },
  {
   "cell_type": "code",
   "execution_count": 135,
   "metadata": {
    "collapsed": false
   },
   "outputs": [
    {
     "data": {
      "text/plain": [
       "  origin  year  month  day  hour  temp   dewp  humid  wind_dir  wind_speed  \\\n",
       "0    EWR  2013      1    1     0   2.8  21.92  53.97     230.0    10.35702   \n",
       "1    EWR  2013      1    1     1   2.8  21.92  53.97     230.0    13.80936   \n",
       "2    EWR  2013      1    1     2   3.3  21.92  52.09     230.0    12.65858   \n",
       "3    EWR  2013      1    1     3   3.3  23.00  54.51     230.0    13.80936   \n",
       "4    EWR  2013      1    1     4   3.3  24.08  57.04     240.0    14.96014   \n",
       "\n",
       "   wind_gust  precip  pressure  visib            time_hour  \n",
       "0  11.918651     0.0    1013.9   10.0  2013-01-01 01:00:00  \n",
       "1  15.891535     0.0    1013.0   10.0  2013-01-01 02:00:00  \n",
       "2  14.567241     0.0    1012.6   10.0  2013-01-01 03:00:00  \n",
       "3  15.891535     0.0    1012.7   10.0  2013-01-01 04:00:00  \n",
       "4  17.215830     0.0    1012.8   10.0  2013-01-01 05:00:00  "
      ]
     },
     "execution_count": 135,
     "metadata": {},
     "output_type": "execute_result"
    }
   ],
   "source": [
    "weather.temp = weather['temp'].apply(lambda x: (x - 32)/1.8) \n",
    "weather.head()"
   ]
  },
  {
   "cell_type": "code",
   "execution_count": null,
   "metadata": {
    "collapsed": false
   },
   "outputs": [],
   "source": []
  },
  {
   "cell_type": "code",
   "execution_count": 136,
   "metadata": {
    "collapsed": false
   },
   "outputs": [
    {
     "data": {
      "text/plain": [
       "year  month  day\n",
       "2013  1      1       3.813043\n",
       "             2      -1.833333\n",
       "             3      -1.308333\n",
       "             4       1.254167\n",
       "             5       2.845833\n",
       "             6       3.541667\n",
       "             7       5.425000\n",
       "             8       4.162500\n",
       "             9       5.450000\n",
       "             10      7.236111\n",
       "             11      4.695833\n",
       "             12      7.288889\n",
       "             13      7.069444\n",
       "             14     10.415278\n",
       "             15      3.958333\n",
       "             16      1.800000\n",
       "             17      4.533333\n",
       "             18     -0.286111\n",
       "             19      3.233333\n",
       "             20      7.684722\n",
       "             21     -0.713889\n",
       "             22     -4.652778\n",
       "             23     -9.036111\n",
       "             24     -7.723611\n",
       "             25     -7.629167\n",
       "             26     -6.126389\n",
       "             27     -3.536111\n",
       "             28     -0.436111\n",
       "             29      4.380556\n",
       "             30      7.598611\n",
       "                      ...    \n",
       "      12     1       5.290278\n",
       "             2       6.775000\n",
       "             3       6.773611\n",
       "             4       6.554167\n",
       "             5      10.465278\n",
       "             6      10.462500\n",
       "             7       3.555556\n",
       "             8      -0.215278\n",
       "             9       1.686111\n",
       "             10      1.748611\n",
       "             11     -1.262500\n",
       "             12     -2.879167\n",
       "             13     -2.394444\n",
       "             14     -2.352778\n",
       "             15      1.597222\n",
       "             16     -0.883333\n",
       "             17     -2.640845\n",
       "             18     -1.677778\n",
       "             19      1.700000\n",
       "             20      6.315278\n",
       "             21     10.419444\n",
       "             22     15.037500\n",
       "             23     13.862500\n",
       "             24      3.976389\n",
       "             25     -3.568056\n",
       "             26     -0.054167\n",
       "             27      1.866667\n",
       "             28      4.988889\n",
       "             29      6.600000\n",
       "             30      4.302778\n",
       "Name: temp, dtype: float64"
      ]
     },
     "execution_count": 136,
     "metadata": {},
     "output_type": "execute_result"
    }
   ],
   "source": [
    "weather.groupby(['year', 'month', 'day']).temp.mean()"
   ]
  },
  {
   "cell_type": "code",
   "execution_count": 137,
   "metadata": {
    "collapsed": false
   },
   "outputs": [
    {
     "data": {
      "text/plain": [
       "      origin  year  month  day  hour  temp   dewp  humid  wind_dir  \\\n",
       "4789     EWR  2013      7   19    20  37.8  71.06  39.51     230.0   \n",
       "4764     EWR  2013      7   18    19  37.8  66.02  33.23     300.0   \n",
       "4788     EWR  2013      7   19    19  37.2  71.96  42.09     240.0   \n",
       "4787     EWR  2013      7   19    18  37.2  71.06  40.82     250.0   \n",
       "22210    LGA  2013      7   19    20  37.2  69.08  38.16     230.0   \n",
       "\n",
       "       wind_speed  wind_gust  precip  pressure  visib            time_hour  \n",
       "4789     20.71404  23.837303     0.0    1009.4   10.0  2013-07-19 21:00:00  \n",
       "4764      9.20624  10.594357     0.0    1015.0   10.0  2013-07-18 20:00:00  \n",
       "4788     16.11092  18.540125     0.0    1010.1    9.0  2013-07-19 20:00:00  \n",
       "4787     20.71404  23.837303     0.0    1011.0   10.0  2013-07-19 19:00:00  \n",
       "22210    14.96014  17.215830     0.0    1009.1   10.0  2013-07-19 21:00:00  "
      ]
     },
     "execution_count": 137,
     "metadata": {},
     "output_type": "execute_result"
    }
   ],
   "source": [
    "weather.sort_values(['temp'], ascending = False).head(5)"
   ]
  },
  {
   "cell_type": "code",
   "execution_count": 138,
   "metadata": {
    "collapsed": false
   },
   "outputs": [
    {
     "data": {
      "text/plain": [
       "year  month  day\n",
       "2013  1      1      3.813043\n",
       "             2     -1.833333\n",
       "             3     -1.308333\n",
       "             4      1.254167\n",
       "             5      2.845833\n",
       "Name: temp, dtype: float64"
      ]
     },
     "execution_count": 138,
     "metadata": {},
     "output_type": "execute_result"
    }
   ],
   "source": [
    "weather1 = weather.groupby(['year', 'month', 'day']).temp.mean()\n",
    "weather1.head()"
   ]
  },
  {
   "cell_type": "code",
   "execution_count": 139,
   "metadata": {
    "collapsed": false
   },
   "outputs": [
    {
     "data": {
      "text/plain": [
       "year  month  day\n",
       "2013  1      1       3.813043\n",
       "             2      -1.833333\n",
       "             3      -1.308333\n",
       "             4       1.254167\n",
       "             5       2.845833\n",
       "             6       3.541667\n",
       "             7       5.425000\n",
       "             8       4.162500\n",
       "             9       5.450000\n",
       "             10      7.236111\n",
       "             11      4.695833\n",
       "             12      7.288889\n",
       "             13      7.069444\n",
       "             14     10.415278\n",
       "             15      3.958333\n",
       "             16      1.800000\n",
       "             17      4.533333\n",
       "             18     -0.286111\n",
       "             19      3.233333\n",
       "             20      7.684722\n",
       "             21     -0.713889\n",
       "             22     -4.652778\n",
       "             23     -9.036111\n",
       "             24     -7.723611\n",
       "             25     -7.629167\n",
       "             26     -6.126389\n",
       "             27     -3.536111\n",
       "             28     -0.436111\n",
       "             29      4.380556\n",
       "             30      7.598611\n",
       "                      ...    \n",
       "      12     1       5.290278\n",
       "             2       6.775000\n",
       "             3       6.773611\n",
       "             4       6.554167\n",
       "             5      10.465278\n",
       "             6      10.462500\n",
       "             7       3.555556\n",
       "             8      -0.215278\n",
       "             9       1.686111\n",
       "             10      1.748611\n",
       "             11     -1.262500\n",
       "             12     -2.879167\n",
       "             13     -2.394444\n",
       "             14     -2.352778\n",
       "             15      1.597222\n",
       "             16     -0.883333\n",
       "             17     -2.640845\n",
       "             18     -1.677778\n",
       "             19      1.700000\n",
       "             20      6.315278\n",
       "             21     10.419444\n",
       "             22     15.037500\n",
       "             23     13.862500\n",
       "             24      3.976389\n",
       "             25     -3.568056\n",
       "             26     -0.054167\n",
       "             27      1.866667\n",
       "             28      4.988889\n",
       "             29      6.600000\n",
       "             30      4.302778\n",
       "Name: temp, dtype: float64"
      ]
     },
     "execution_count": 139,
     "metadata": {},
     "output_type": "execute_result"
    }
   ],
   "source": [
    "weather1[:]"
   ]
  },
  {
   "cell_type": "code",
   "execution_count": 140,
   "metadata": {
    "collapsed": false
   },
   "outputs": [
    {
     "data": {
      "text/plain": [
       "  origin  year  month  day  hour  temp   dewp  humid  wind_dir  wind_speed  \\\n",
       "0    EWR  2013      1    1     0   2.8  21.92  53.97     230.0    10.35702   \n",
       "1    EWR  2013      1    1     1   2.8  21.92  53.97     230.0    13.80936   \n",
       "2    EWR  2013      1    1     2   3.3  21.92  52.09     230.0    12.65858   \n",
       "3    EWR  2013      1    1     3   3.3  23.00  54.51     230.0    13.80936   \n",
       "4    EWR  2013      1    1     4   3.3  24.08  57.04     240.0    14.96014   \n",
       "\n",
       "   wind_gust  precip  pressure  visib            time_hour      tempC  \n",
       "0  11.918651     0.0    1013.9   10.0  2013-01-01 01:00:00 -16.222222  \n",
       "1  15.891535     0.0    1013.0   10.0  2013-01-01 02:00:00 -16.222222  \n",
       "2  14.567241     0.0    1012.6   10.0  2013-01-01 03:00:00 -15.944444  \n",
       "3  15.891535     0.0    1012.7   10.0  2013-01-01 04:00:00 -15.944444  \n",
       "4  17.215830     0.0    1012.8   10.0  2013-01-01 05:00:00 -15.944444  "
      ]
     },
     "execution_count": 140,
     "metadata": {},
     "output_type": "execute_result"
    }
   ],
   "source": [
    "## Convert temperature to celsius\n",
    "weather['tempC'] = weather['temp'].apply(lambda x: (x - 32)/1.8) \n",
    "weather.head()"
   ]
  },
  {
   "cell_type": "code",
   "execution_count": 141,
   "metadata": {
    "collapsed": false
   },
   "outputs": [
    {
     "data": {
      "text/plain": [
       "               tempC\n",
       "month day           \n",
       "1     1   -15.659420\n",
       "      2   -18.796296\n",
       "      3   -18.504630\n",
       "      4   -17.081019\n",
       "      5   -16.196759"
      ]
     },
     "execution_count": 141,
     "metadata": {},
     "output_type": "execute_result"
    }
   ],
   "source": [
    "# Compute daily mean temperatures\n",
    "daily_means = weather.loc[:, ['tempC', 'month', 'day']].groupby(['month', 'day']).mean()\n",
    "daily_means.head()"
   ]
  },
  {
   "cell_type": "code",
   "execution_count": 142,
   "metadata": {
    "collapsed": false
   },
   "outputs": [
    {
     "data": {
      "text/plain": [
       "              tempC\n",
       "month day          \n",
       "7     19   0.129630\n",
       "      18  -0.335648\n",
       "      20  -0.604167\n",
       "      17  -0.711420\n",
       "      16  -0.806327"
      ]
     },
     "execution_count": 142,
     "metadata": {},
     "output_type": "execute_result"
    }
   ],
   "source": [
    "# Find 5 hottest days\n",
    "daily_means.sort_values(ascending = False, by = 'tempC').iloc[:5]"
   ]
  },
  {
   "cell_type": "code",
   "execution_count": 143,
   "metadata": {
    "collapsed": false
   },
   "outputs": [
    {
     "data": {
      "text/plain": [
       "              tempC\n",
       "month day          \n",
       "7     19   0.129630\n",
       "      18  -0.335648\n",
       "      20  -0.604167\n",
       "      17  -0.711420\n",
       "      16  -0.806327"
      ]
     },
     "execution_count": 143,
     "metadata": {},
     "output_type": "execute_result"
    }
   ],
   "source": [
    "daily_means.nlargest(5, columns = 'tempC')"
   ]
  },
  {
   "cell_type": "code",
   "execution_count": 144,
   "metadata": {
    "collapsed": false
   },
   "outputs": [
    {
     "data": {
      "text/plain": [
       "<matplotlib.axes._subplots.AxesSubplot at 0x7f96169d9588>"
      ]
     },
     "execution_count": 144,
     "metadata": {},
     "output_type": "execute_result"
    },
    {
     "data": {
      "image/png": "[encoded data removed]",
      "text/plain": [
       "<matplotlib.figure.Figure at 0x7f9616a8c5f8>"
      ]
     },
     "metadata": {},
     "output_type": "display_data"
    }
   ],
   "source": [
    "# Choose days with greater mean temperature than in the preceding day\n",
    "diffs = daily_means.tempC.diff(1)\n",
    "daily_means.tempC.loc[diffs>0.0]\n",
    "daily_means.tempC.plot()"
   ]
  },
  {
   "cell_type": "code",
   "execution_count": 145,
   "metadata": {
    "collapsed": false
   },
   "outputs": [
    {
     "data": {
      "text/plain": [
       "  carrier                    name\n",
       "0      9E       Endeavor Air Inc.\n",
       "1      AA  American Airlines Inc.\n",
       "2      AS    Alaska Airlines Inc.\n",
       "3      B6         JetBlue Airways\n",
       "4      DL    Delta Air Lines Inc."
      ]
     },
     "execution_count": 145,
     "metadata": {},
     "output_type": "execute_result"
    }
   ],
   "source": [
    "airlines = pd.read_csv(\"nycflights13_airlines.csv.gz\", comment = '#')\n",
    "airlines.head()"
   ]
  },
  {
   "cell_type": "code",
   "execution_count": 146,
   "metadata": {
    "collapsed": false
   },
   "outputs": [
    {
     "data": {
      "text/plain": [
       "  tailnum    year                     type      manufacturer      model  \\\n",
       "0  N10156  2004.0  Fixed wing multi engine           EMBRAER  EMB-145XR   \n",
       "1  N102UW  1998.0  Fixed wing multi engine  AIRBUS INDUSTRIE   A320-214   \n",
       "2  N103US  1999.0  Fixed wing multi engine  AIRBUS INDUSTRIE   A320-214   \n",
       "3  N104UW  1999.0  Fixed wing multi engine  AIRBUS INDUSTRIE   A320-214   \n",
       "4  N10575  2002.0  Fixed wing multi engine           EMBRAER  EMB-145LR   \n",
       "\n",
       "   engines  seats  speed     engine  \n",
       "0        2     55    NaN  Turbo-fan  \n",
       "1        2    182    NaN  Turbo-fan  \n",
       "2        2    182    NaN  Turbo-fan  \n",
       "3        2    182    NaN  Turbo-fan  \n",
       "4        2     55    NaN  Turbo-fan  "
      ]
     },
     "execution_count": 146,
     "metadata": {},
     "output_type": "execute_result"
    }
   ],
   "source": [
    "planes = pd.read_csv(\"nycflights13_planes.csv.gz\", comment = '#')\n",
    "planes.head()"
   ]
  },
  {
   "cell_type": "code",
   "execution_count": 147,
   "metadata": {
    "collapsed": false
   },
   "outputs": [
    {
     "data": {
      "text/plain": [
       "   year  month  day  dep_time  sched_dep_time  dep_delay  arr_time  \\\n",
       "0  2013      1    1     517.0             515        2.0     830.0   \n",
       "1  2013      1    1     533.0             529        4.0     850.0   \n",
       "2  2013      1    1     542.0             540        2.0     923.0   \n",
       "3  2013      1    1     544.0             545       -1.0    1004.0   \n",
       "4  2013      1    1     554.0             600       -6.0     812.0   \n",
       "\n",
       "   sched_arr_time  arr_delay carrier  flight tailnum origin dest  air_time  \\\n",
       "0             819       11.0      UA    1545  N14228    EWR  IAH     227.0   \n",
       "1             830       20.0      UA    1714  N24211    LGA  IAH     227.0   \n",
       "2             850       33.0      AA    1141  N619AA    JFK  MIA     160.0   \n",
       "3            1022      -18.0      B6     725  N804JB    JFK  BQN     183.0   \n",
       "4             837      -25.0      DL     461  N668DN    LGA  ATL     116.0   \n",
       "\n",
       "   distance  hour  minute            time_hour  \n",
       "0      1400     5      15  2013-01-01 05:00:00  \n",
       "1      1416     5      29  2013-01-01 05:00:00  \n",
       "2      1089     5      40  2013-01-01 05:00:00  \n",
       "3      1576     5      45  2013-01-01 05:00:00  \n",
       "4       762     6       0  2013-01-01 06:00:00  "
      ]
     },
     "execution_count": 147,
     "metadata": {},
     "output_type": "execute_result"
    }
   ],
   "source": [
    "flights = pd.read_csv(\"nycflights13_flights.csv.gz\", comment = '#')\n",
    "flights.head()"
   ]
  },
  {
   "cell_type": "code",
   "execution_count": 148,
   "metadata": {
    "collapsed": false
   },
   "outputs": [
    {
     "data": {
      "text/plain": [
       "   faa                           name        lat        lon   alt  tz dst  \\\n",
       "0  04G              Lansdowne Airport  41.130472 -80.619583  1044  -5   A   \n",
       "1  06A  Moton Field Municipal Airport  32.460572 -85.680028   264  -6   A   \n",
       "2  06C            Schaumburg Regional  41.989341 -88.101243   801  -6   A   \n",
       "3  06N                Randall Airport  41.431912 -74.391561   523  -5   A   \n",
       "4  09J          Jekyll Island Airport  31.074472 -81.427778    11  -5   A   \n",
       "\n",
       "              tzone  \n",
       "0  America/New_York  \n",
       "1   America/Chicago  \n",
       "2   America/Chicago  \n",
       "3  America/New_York  \n",
       "4  America/New_York  "
      ]
     },
     "execution_count": 148,
     "metadata": {},
     "output_type": "execute_result"
    }
   ],
   "source": [
    "airports = pd.read_csv(\"nycflights13_airports.csv.gz\", comment = '#')\n",
    "airports.head()"
   ]
  },
  {
   "cell_type": "code",
   "execution_count": 149,
   "metadata": {
    "collapsed": false
   },
   "outputs": [
    {
     "data": {
      "text/plain": [
       "  origin  year  month  day  hour   temp   dewp  humid  wind_dir  wind_speed  \\\n",
       "0    EWR  2013      1    1     0  37.04  21.92  53.97     230.0    10.35702   \n",
       "1    EWR  2013      1    1     1  37.04  21.92  53.97     230.0    13.80936   \n",
       "2    EWR  2013      1    1     2  37.94  21.92  52.09     230.0    12.65858   \n",
       "3    EWR  2013      1    1     3  37.94  23.00  54.51     230.0    13.80936   \n",
       "4    EWR  2013      1    1     4  37.94  24.08  57.04     240.0    14.96014   \n",
       "\n",
       "   wind_gust  precip  pressure  visib            time_hour  \n",
       "0  11.918651     0.0    1013.9   10.0  2013-01-01 01:00:00  \n",
       "1  15.891535     0.0    1013.0   10.0  2013-01-01 02:00:00  \n",
       "2  14.567241     0.0    1012.6   10.0  2013-01-01 03:00:00  \n",
       "3  15.891535     0.0    1012.7   10.0  2013-01-01 04:00:00  \n",
       "4  17.215830     0.0    1012.8   10.0  2013-01-01 05:00:00  "
      ]
     },
     "execution_count": 149,
     "metadata": {},
     "output_type": "execute_result"
    }
   ],
   "source": [
    "weather = pd.read_csv(\"nycflights13_weather.csv.gz\", comment = '#')\n",
    "weather.head()"
   ]
  },
  {
   "cell_type": "markdown",
   "metadata": {},
   "source": [
    "____\n",
    "1. `SELECT DISTINCT engine FROM planes`\n",
    "2. `SELECT DISTINCT type, manufacturer, model, seats, engine FROM planes`\n",
    "3. `SELECT COUNT(*), engine FROM planes GROUP BY engine`\n",
    "4. `SELECT COUNT(*), engine, type FROM planes GROUP BY engine, type`\n",
    "5. `SELECT MIN(year), AVG(year), MAX(year), engine, manufacturer FROM planes GROUP BY engine, manufacturer`\n",
    "___"
   ]
  },
  {
   "cell_type": "code",
   "execution_count": 150,
   "metadata": {
    "collapsed": true
   },
   "outputs": [],
   "source": [
    "import sqlite3\n",
    "conn = sqlite3.connect(\"/tmp/nycflights13.db\") # file path\n",
    "airports.to_sql('airports', conn)\n",
    "flights.to_sql('flights', conn)\n",
    "weather.to_sql('weather', conn)\n",
    "planes.to_sql('planes', conn)\n",
    "airlines.to_sql('airlines', conn)\n"
   ]
  },
  {
   "cell_type": "code",
   "execution_count": 151,
   "metadata": {
    "collapsed": false
   },
   "outputs": [
    {
     "data": {
      "text/plain": [
       "          engine\n",
       "0      Turbo-fan\n",
       "1      Turbo-jet\n",
       "2  Reciprocating\n",
       "3        4 Cycle\n",
       "4    Turbo-shaft\n",
       "5     Turbo-prop"
      ]
     },
     "execution_count": 151,
     "metadata": {},
     "output_type": "execute_result"
    }
   ],
   "source": [
    "pd.read_sql_query(\"\"\"SELECT DISTINCT engine FROM PLANES\"\"\", conn)"
   ]
  },
  {
   "cell_type": "code",
   "execution_count": 152,
   "metadata": {
    "collapsed": false
   },
   "outputs": [
    {
     "data": {
      "text/plain": [
       "          engine\n",
       "0      Turbo-fan\n",
       "1      Turbo-jet\n",
       "2  Reciprocating\n",
       "3        4 Cycle\n",
       "4    Turbo-shaft\n",
       "5     Turbo-prop"
      ]
     },
     "execution_count": 152,
     "metadata": {},
     "output_type": "execute_result"
    }
   ],
   "source": [
    "pd.DataFrame(planes.engine.unique(), columns = ['engine'])"
   ]
  },
  {
   "cell_type": "code",
   "execution_count": 153,
   "metadata": {
    "collapsed": false,
    "scrolled": true
   },
   "outputs": [
    {
     "data": {
      "text/plain": [
       "                         type                   manufacturer  \\\n",
       "0     Fixed wing multi engine                        EMBRAER   \n",
       "1     Fixed wing multi engine               AIRBUS INDUSTRIE   \n",
       "2     Fixed wing multi engine                        EMBRAER   \n",
       "3     Fixed wing multi engine                         BOEING   \n",
       "4     Fixed wing multi engine                         BOEING   \n",
       "5     Fixed wing multi engine                         BOEING   \n",
       "6     Fixed wing multi engine                         AIRBUS   \n",
       "7     Fixed wing multi engine                 BOMBARDIER INC   \n",
       "8     Fixed wing multi engine                         BOEING   \n",
       "9     Fixed wing multi engine                         BOEING   \n",
       "10    Fixed wing multi engine                         BOEING   \n",
       "11    Fixed wing multi engine                         AIRBUS   \n",
       "12    Fixed wing multi engine               AIRBUS INDUSTRIE   \n",
       "13    Fixed wing multi engine                         BOEING   \n",
       "14    Fixed wing multi engine                        EMBRAER   \n",
       "15    Fixed wing multi engine                         BOEING   \n",
       "16   Fixed wing single engine                         CESSNA   \n",
       "17    Fixed wing multi engine                         CESSNA   \n",
       "18    Fixed wing multi engine                         BOEING   \n",
       "19    Fixed wing multi engine                         BOEING   \n",
       "20    Fixed wing multi engine                         BOEING   \n",
       "21    Fixed wing multi engine                         BOEING   \n",
       "22    Fixed wing multi engine                         BOEING   \n",
       "23    Fixed wing multi engine                         BOEING   \n",
       "24    Fixed wing multi engine                        EMBRAER   \n",
       "25    Fixed wing multi engine               AIRBUS INDUSTRIE   \n",
       "26    Fixed wing multi engine                         BOEING   \n",
       "27    Fixed wing multi engine               AIRBUS INDUSTRIE   \n",
       "28    Fixed wing multi engine                         BOEING   \n",
       "29    Fixed wing multi engine                         BOEING   \n",
       "..                        ...                            ...   \n",
       "119   Fixed wing multi engine                         BOEING   \n",
       "120   Fixed wing multi engine                         BOEING   \n",
       "121   Fixed wing multi engine                         BOEING   \n",
       "122   Fixed wing multi engine               AIRBUS INDUSTRIE   \n",
       "123   Fixed wing multi engine                         BOEING   \n",
       "124   Fixed wing multi engine           GULFSTREAM AEROSPACE   \n",
       "125  Fixed wing single engine                         CESSNA   \n",
       "126   Fixed wing multi engine                         BOEING   \n",
       "127   Fixed wing multi engine                         BOEING   \n",
       "128   Fixed wing multi engine                         BOEING   \n",
       "129   Fixed wing multi engine               AIRBUS INDUSTRIE   \n",
       "130   Fixed wing multi engine               AIRBUS INDUSTRIE   \n",
       "131   Fixed wing multi engine                         AIRBUS   \n",
       "132   Fixed wing multi engine                       CANADAIR   \n",
       "133   Fixed wing multi engine                         BOEING   \n",
       "134   Fixed wing multi engine                         BOEING   \n",
       "135   Fixed wing multi engine                         AIRBUS   \n",
       "136   Fixed wing multi engine                   CANADAIR LTD   \n",
       "137   Fixed wing multi engine               AIRBUS INDUSTRIE   \n",
       "138   Fixed wing multi engine                         AIRBUS   \n",
       "139   Fixed wing multi engine                         AIRBUS   \n",
       "140   Fixed wing multi engine                         BOEING   \n",
       "141   Fixed wing multi engine  MCDONNELL DOUGLAS CORPORATION   \n",
       "142   Fixed wing multi engine                         BOEING   \n",
       "143   Fixed wing multi engine              MCDONNELL DOUGLAS   \n",
       "144   Fixed wing multi engine  MCDONNELL DOUGLAS AIRCRAFT CO   \n",
       "145   Fixed wing multi engine         AVIONS MARCEL DASSAULT   \n",
       "146   Fixed wing multi engine              MCDONNELL DOUGLAS   \n",
       "147   Fixed wing multi engine                         BOEING   \n",
       "148   Fixed wing multi engine                         BOEING   \n",
       "\n",
       "                  model  seats         engine  \n",
       "0             EMB-145XR     55      Turbo-fan  \n",
       "1              A320-214    182      Turbo-fan  \n",
       "2             EMB-145LR     55      Turbo-fan  \n",
       "3               737-824    149      Turbo-fan  \n",
       "4               767-332    330      Turbo-fan  \n",
       "5               757-224    178      Turbo-jet  \n",
       "6              A320-214    182      Turbo-fan  \n",
       "7           CL-600-2D24     95      Turbo-fan  \n",
       "8               737-724    149      Turbo-jet  \n",
       "9               737-524    149      Turbo-fan  \n",
       "10              767-3P6    290      Turbo-fan  \n",
       "11             A321-211    199      Turbo-fan  \n",
       "12             A321-211    199      Turbo-jet  \n",
       "13              737-76N    149      Turbo-fan  \n",
       "14      ERJ 190-100 IGW     20      Turbo-fan  \n",
       "15              737-7H4    140      Turbo-fan  \n",
       "16                  150      2  Reciprocating  \n",
       "17                 421C      8  Reciprocating  \n",
       "18              777-222    400      Turbo-fan  \n",
       "19                787-8    260      Turbo-fan  \n",
       "20              767-201    255      Turbo-jet  \n",
       "21              737-705    149      Turbo-fan  \n",
       "22              777-200    400      Turbo-jet  \n",
       "23            737-924ER    191      Turbo-fan  \n",
       "24              EMB-145     55      Turbo-jet  \n",
       "25             A340-313    375      Turbo-jet  \n",
       "26              737-732    149      Turbo-fan  \n",
       "27             A319-114    145      Turbo-fan  \n",
       "28              737-990    149      Turbo-jet  \n",
       "29              737-924    191      Turbo-fan  \n",
       "..                  ...    ...            ...  \n",
       "119             737-3TO    149      Turbo-jet  \n",
       "120             737-317    149      Turbo-jet  \n",
       "121             737-3T5    149      Turbo-jet  \n",
       "122            A319-112    179      Turbo-fan  \n",
       "123             757-231    178      Turbo-fan  \n",
       "124              G1159B     22      Turbo-jet  \n",
       "125                172N      4  Reciprocating  \n",
       "126             757-212    178      Turbo-jet  \n",
       "127             737-7AD    128      Turbo-jet  \n",
       "128             737-7Q8    149      Turbo-fan  \n",
       "129            A319-132    179      Turbo-jet  \n",
       "130            A319-131    179      Turbo-jet  \n",
       "131            A330-323    379      Turbo-fan  \n",
       "132         CL-600-2B19     55      Turbo-fan  \n",
       "133           767-432ER    300      Turbo-jet  \n",
       "134             737-8H4    140      Turbo-fan  \n",
       "135            A319-132    179      Turbo-fan  \n",
       "136               CF-5D      2      Turbo-jet  \n",
       "137            A330-223    379      Turbo-jet  \n",
       "138            A319-131    179      Turbo-jet  \n",
       "139            A330-223    379      Turbo-fan  \n",
       "140             777-232    400      Turbo-jet  \n",
       "141               MD-88    142      Turbo-jet  \n",
       "142             757-26D    178      Turbo-jet  \n",
       "143            MD-90-30    142      Turbo-jet  \n",
       "144               MD-88    142      Turbo-fan  \n",
       "145  MYSTERE FALCON 900     12      Turbo-fan  \n",
       "146            MD-90-30    142      Turbo-fan  \n",
       "147            MD-90-30    142      Turbo-fan  \n",
       "148             757-2B7    178      Turbo-fan  \n",
       "\n",
       "[149 rows x 5 columns]"
      ]
     },
     "execution_count": 153,
     "metadata": {},
     "output_type": "execute_result"
    }
   ],
   "source": [
    "pd.read_sql_query(\"\"\"SELECT DISTINCT type, manufacturer, model, seats, engine FROM planes\"\"\", conn)"
   ]
  },
  {
   "cell_type": "code",
   "execution_count": 154,
   "metadata": {
    "collapsed": false
   },
   "outputs": [
    {
     "data": {
      "text/plain": [
       "                       type         engine\n",
       "0   Fixed wing multi engine      Turbo-fan\n",
       "1   Fixed wing multi engine      Turbo-jet\n",
       "2  Fixed wing single engine  Reciprocating\n",
       "3   Fixed wing multi engine  Reciprocating\n",
       "4  Fixed wing single engine        4 Cycle\n",
       "5                Rotorcraft    Turbo-shaft\n",
       "6   Fixed wing multi engine     Turbo-prop"
      ]
     },
     "execution_count": 154,
     "metadata": {},
     "output_type": "execute_result"
    }
   ],
   "source": [
    "# SELECT DISTINCT type, engine FROM planes\n",
    "pd.read_sql_query(\"\"\"SELECT DISTINCT type, engine FROM planes\"\"\", conn)"
   ]
  },
  {
   "cell_type": "code",
   "execution_count": 155,
   "metadata": {
    "collapsed": false
   },
   "outputs": [
    {
     "data": {
      "text/plain": [
       "                       type         engine\n",
       "0   Fixed wing multi engine      Turbo-fan\n",
       "1   Fixed wing multi engine      Turbo-jet\n",
       "2  Fixed wing single engine  Reciprocating\n",
       "3   Fixed wing multi engine  Reciprocating\n",
       "4  Fixed wing single engine        4 Cycle\n",
       "5                Rotorcraft    Turbo-shaft\n",
       "6   Fixed wing multi engine     Turbo-prop"
      ]
     },
     "execution_count": 155,
     "metadata": {},
     "output_type": "execute_result"
    }
   ],
   "source": [
    "planes.loc[:, [\"type\", \"engine\"]].drop_duplicates().reset_index(drop=True)"
   ]
  },
  {
   "cell_type": "code",
   "execution_count": null,
   "metadata": {
    "collapsed": false
   },
   "outputs": [],
   "source": []
  },
  {
   "cell_type": "code",
   "execution_count": 156,
   "metadata": {
    "collapsed": false
   },
   "outputs": [
    {
     "data": {
      "text/plain": [
       "   COUNT(*)         engine\n",
       "0         2        4 Cycle\n",
       "1        28  Reciprocating\n",
       "2      2750      Turbo-fan\n",
       "3       535      Turbo-jet\n",
       "4         2     Turbo-prop\n",
       "5         5    Turbo-shaft"
      ]
     },
     "execution_count": 156,
     "metadata": {},
     "output_type": "execute_result"
    }
   ],
   "source": [
    "# SELECT COUNT(*), engine FROM planes GROUP BY engine\n",
    "pd.read_sql_query(\"\"\"SELECT COUNT(*), engine FROM planes GROUP BY engine\"\"\", conn)"
   ]
  },
  {
   "cell_type": "code",
   "execution_count": 157,
   "metadata": {
    "collapsed": false
   },
   "outputs": [
    {
     "data": {
      "text/plain": [
       "               engine\n",
       "Turbo-jet         535\n",
       "Turbo-shaft         5\n",
       "Reciprocating      28\n",
       "Turbo-prop          2\n",
       "Turbo-fan        2750\n",
       "4 Cycle             2"
      ]
     },
     "execution_count": 157,
     "metadata": {},
     "output_type": "execute_result"
    }
   ],
   "source": [
    "(planes['engine'].value_counts(sort=False)).to_frame()"
   ]
  },
  {
   "cell_type": "code",
   "execution_count": 158,
   "metadata": {
    "collapsed": false
   },
   "outputs": [
    {
     "data": {
      "text/plain": [
       "               engine\n",
       "Turbo-jet         535\n",
       "Turbo-shaft         5\n",
       "Reciprocating      28\n",
       "Turbo-prop          2\n",
       "Turbo-fan        2750\n",
       "4 Cycle             2"
      ]
     },
     "execution_count": 158,
     "metadata": {},
     "output_type": "execute_result"
    }
   ],
   "source": [
    "pd.DataFrame(planes.engine.value_counts(sort = False))"
   ]
  },
  {
   "cell_type": "code",
   "execution_count": 159,
   "metadata": {
    "collapsed": false
   },
   "outputs": [
    {
     "data": {
      "text/plain": [
       "   COUNT(*)         engine                      type\n",
       "0         2        4 Cycle  Fixed wing single engine\n",
       "1         5  Reciprocating   Fixed wing multi engine\n",
       "2        23  Reciprocating  Fixed wing single engine\n",
       "3      2750      Turbo-fan   Fixed wing multi engine\n",
       "4       535      Turbo-jet   Fixed wing multi engine\n",
       "5         2     Turbo-prop   Fixed wing multi engine\n",
       "6         5    Turbo-shaft                Rotorcraft"
      ]
     },
     "execution_count": 159,
     "metadata": {},
     "output_type": "execute_result"
    }
   ],
   "source": [
    "# SELECT COUNT(*), engine, type FROM planes GROUP BY engine, type\n",
    "pd.read_sql_query('''SELECT COUNT(*), engine, type FROM planes GROUP BY engine, type''', conn)"
   ]
  },
  {
   "cell_type": "code",
   "execution_count": 160,
   "metadata": {
    "collapsed": false
   },
   "outputs": [
    {
     "data": {
      "text/plain": [
       "          engine                      type  engines\n",
       "0        4 Cycle  Fixed wing single engine        2\n",
       "1  Reciprocating   Fixed wing multi engine        5\n",
       "2  Reciprocating  Fixed wing single engine       23\n",
       "3      Turbo-fan   Fixed wing multi engine     2750\n",
       "4      Turbo-jet   Fixed wing multi engine      535\n",
       "5     Turbo-prop   Fixed wing multi engine        2\n",
       "6    Turbo-shaft                Rotorcraft        5"
      ]
     },
     "execution_count": 160,
     "metadata": {},
     "output_type": "execute_result"
    }
   ],
   "source": [
    "planes.pivot_table(index = ['engine', 'type'], values = 'engines', aggfunc= len).reset_index()"
   ]
  },
  {
   "cell_type": "code",
   "execution_count": 161,
   "metadata": {
    "collapsed": false
   },
   "outputs": [
    {
     "data": {
      "text/plain": [
       "          engine                      type     0\n",
       "0        4 Cycle  Fixed wing single engine     2\n",
       "1  Reciprocating   Fixed wing multi engine     5\n",
       "2  Reciprocating  Fixed wing single engine    23\n",
       "3      Turbo-fan   Fixed wing multi engine  2750\n",
       "4      Turbo-jet   Fixed wing multi engine   535\n",
       "5     Turbo-prop   Fixed wing multi engine     2\n",
       "6    Turbo-shaft                Rotorcraft     5"
      ]
     },
     "execution_count": 161,
     "metadata": {},
     "output_type": "execute_result"
    }
   ],
   "source": [
    "planes.groupby(['engine', 'type']).size().reset_index()"
   ]
  },
  {
   "cell_type": "code",
   "execution_count": 162,
   "metadata": {
    "collapsed": false,
    "scrolled": true
   },
   "outputs": [
    {
     "data": {
      "text/plain": [
       "    MIN(year)    AVG(year)  MAX(year)         engine  \\\n",
       "0      1975.0  1975.000000     1975.0        4 Cycle   \n",
       "1         NaN          NaN        NaN        4 Cycle   \n",
       "2         NaN          NaN        NaN  Reciprocating   \n",
       "3      2007.0  2007.000000     2007.0  Reciprocating   \n",
       "4         NaN          NaN        NaN  Reciprocating   \n",
       "5      1959.0  1971.142857     1983.0  Reciprocating   \n",
       "6      2007.0  2007.000000     2007.0  Reciprocating   \n",
       "7      1959.0  1959.000000     1959.0  Reciprocating   \n",
       "8      1956.0  1956.000000     1956.0  Reciprocating   \n",
       "9      2007.0  2007.000000     2007.0  Reciprocating   \n",
       "10        NaN          NaN        NaN  Reciprocating   \n",
       "11     1985.0  1985.000000     1985.0  Reciprocating   \n",
       "12        NaN          NaN        NaN  Reciprocating   \n",
       "13     1985.0  1985.000000     1985.0  Reciprocating   \n",
       "14     1993.0  1993.000000     1993.0  Reciprocating   \n",
       "15        NaN          NaN        NaN  Reciprocating   \n",
       "16     1968.0  1976.400000     1980.0  Reciprocating   \n",
       "17     1985.0  1985.000000     1985.0  Reciprocating   \n",
       "18     2002.0  2007.281734     2013.0      Turbo-fan   \n",
       "19     1992.0  1998.599251     2013.0      Turbo-fan   \n",
       "20     1986.0  1986.000000     1986.0      Turbo-fan   \n",
       "21     1965.0  2001.210400     2013.0      Turbo-fan   \n",
       "22     1998.0  2004.486188     2013.0      Turbo-fan   \n",
       "23     1997.0  1997.333333     1998.0      Turbo-fan   \n",
       "24     1979.0  1979.000000     1979.0      Turbo-fan   \n",
       "25     1998.0  2003.613014     2013.0      Turbo-fan   \n",
       "26     1992.0  1992.000000     1992.0      Turbo-fan   \n",
       "27        NaN          NaN        NaN      Turbo-fan   \n",
       "28     1986.0  1989.704545     1997.0      Turbo-fan   \n",
       "29     1987.0  1989.737864     1993.0      Turbo-fan   \n",
       "30     2002.0  2002.000000     2002.0      Turbo-jet   \n",
       "31     1989.0  1997.439024     2004.0      Turbo-jet   \n",
       "32     1984.0  1996.368272     2005.0      Turbo-jet   \n",
       "33     1974.0  1974.000000     1974.0      Turbo-jet   \n",
       "34     1999.0  1999.000000     1999.0      Turbo-jet   \n",
       "35     1976.0  1976.000000     1976.0      Turbo-jet   \n",
       "36     1975.0  1990.714286     1998.0      Turbo-jet   \n",
       "37     1991.0  1991.928571     1992.0      Turbo-jet   \n",
       "38     1967.0  1969.500000     1972.0     Turbo-prop   \n",
       "39     2001.0  2001.000000     2001.0    Turbo-shaft   \n",
       "40     1975.0  1984.500000     1994.0    Turbo-shaft   \n",
       "41     2012.0  2012.000000     2012.0    Turbo-shaft   \n",
       "42     1985.0  1985.000000     1985.0    Turbo-shaft   \n",
       "\n",
       "                     manufacturer  \n",
       "0                          CESSNA  \n",
       "1                     JOHN G HESS  \n",
       "2           AMERICAN AIRCRAFT INC  \n",
       "3              AVIAT AIRCRAFT INC  \n",
       "4                   BARKER JACK L  \n",
       "5                          CESSNA  \n",
       "6              CIRRUS DESIGN CORP  \n",
       "7                     DEHAVILLAND  \n",
       "8                         DOUGLAS  \n",
       "9                  FRIEDEMANN JON  \n",
       "10             HURLEY JAMES LARRY  \n",
       "11                   KILDALL GARY  \n",
       "12                LAMBERT RICHARD  \n",
       "13                LEBLANC GLENN T  \n",
       "14                     MARZ BARRY  \n",
       "15                    PAIR MIKE E  \n",
       "16                          PIPER  \n",
       "17                   STEWART MACO  \n",
       "18                         AIRBUS  \n",
       "19               AIRBUS INDUSTRIE  \n",
       "20         AVIONS MARCEL DASSAULT  \n",
       "21                         BOEING  \n",
       "22                 BOMBARDIER INC  \n",
       "23                       CANADAIR  \n",
       "24                         CESSNA  \n",
       "25                        EMBRAER  \n",
       "26           GULFSTREAM AEROSPACE  \n",
       "27                    LEARJET INC  \n",
       "28              MCDONNELL DOUGLAS  \n",
       "29  MCDONNELL DOUGLAS AIRCRAFT CO  \n",
       "30                         AIRBUS  \n",
       "31               AIRBUS INDUSTRIE  \n",
       "32                         BOEING  \n",
       "33                   CANADAIR LTD  \n",
       "34                        EMBRAER  \n",
       "35           GULFSTREAM AEROSPACE  \n",
       "36              MCDONNELL DOUGLAS  \n",
       "37  MCDONNELL DOUGLAS CORPORATION  \n",
       "38                          BEECH  \n",
       "39                     AGUSTA SPA  \n",
       "40                           BELL  \n",
       "41         ROBINSON HELICOPTER CO  \n",
       "42                       SIKORSKY  "
      ]
     },
     "execution_count": 162,
     "metadata": {},
     "output_type": "execute_result"
    }
   ],
   "source": [
    "# SELECT MIN(year), AVG(year), MAX(year), engine, manufacturer FROM planes GROUP BY engine, manufacturer\n",
    "pd.read_sql_query(\"\"\"SELECT MIN(year), AVG(year), MAX(year), engine, manufacturer FROM planes GROUP BY engine, manufacturer\"\"\", conn)"
   ]
  },
  {
   "cell_type": "code",
   "execution_count": 163,
   "metadata": {
    "collapsed": false,
    "scrolled": true
   },
   "outputs": [
    {
     "data": {
      "text/plain": [
       "           engine                   manufacturer     min         mean     max\n",
       "0         4 Cycle                         CESSNA  1975.0  1975.000000  1975.0\n",
       "1   Reciprocating             AVIAT AIRCRAFT INC  2007.0  2007.000000  2007.0\n",
       "2   Reciprocating                         CESSNA  1959.0  1971.142857  1983.0\n",
       "3   Reciprocating             CIRRUS DESIGN CORP  2007.0  2007.000000  2007.0\n",
       "4   Reciprocating                    DEHAVILLAND  1959.0  1959.000000  1959.0\n",
       "5   Reciprocating                        DOUGLAS  1956.0  1956.000000  1956.0\n",
       "6   Reciprocating                 FRIEDEMANN JON  2007.0  2007.000000  2007.0\n",
       "7   Reciprocating                   KILDALL GARY  1985.0  1985.000000  1985.0\n",
       "8   Reciprocating                LEBLANC GLENN T  1985.0  1985.000000  1985.0\n",
       "9   Reciprocating                     MARZ BARRY  1993.0  1993.000000  1993.0\n",
       "10  Reciprocating                          PIPER  1968.0  1976.400000  1980.0\n",
       "11  Reciprocating                   STEWART MACO  1985.0  1985.000000  1985.0\n",
       "12      Turbo-fan                         AIRBUS  2002.0  2007.281734  2013.0\n",
       "13      Turbo-fan               AIRBUS INDUSTRIE  1992.0  1998.599251  2013.0\n",
       "14      Turbo-fan         AVIONS MARCEL DASSAULT  1986.0  1986.000000  1986.0\n",
       "15      Turbo-fan                         BOEING  1965.0  2001.210400  2013.0\n",
       "16      Turbo-fan                 BOMBARDIER INC  1998.0  2004.486188  2013.0\n",
       "17      Turbo-fan                       CANADAIR  1997.0  1997.333333  1998.0\n",
       "18      Turbo-fan                         CESSNA  1979.0  1979.000000  1979.0\n",
       "19      Turbo-fan                        EMBRAER  1998.0  2003.613014  2013.0\n",
       "20      Turbo-fan           GULFSTREAM AEROSPACE  1992.0  1992.000000  1992.0\n",
       "21      Turbo-fan              MCDONNELL DOUGLAS  1986.0  1989.704545  1997.0\n",
       "22      Turbo-fan  MCDONNELL DOUGLAS AIRCRAFT CO  1987.0  1989.737864  1993.0\n",
       "23      Turbo-jet                         AIRBUS  2002.0  2002.000000  2002.0\n",
       "24      Turbo-jet               AIRBUS INDUSTRIE  1989.0  1997.439024  2004.0\n",
       "25      Turbo-jet                         BOEING  1984.0  1996.368272  2005.0\n",
       "26      Turbo-jet                   CANADAIR LTD  1974.0  1974.000000  1974.0\n",
       "27      Turbo-jet                        EMBRAER  1999.0  1999.000000  1999.0\n",
       "28      Turbo-jet           GULFSTREAM AEROSPACE  1976.0  1976.000000  1976.0\n",
       "29      Turbo-jet              MCDONNELL DOUGLAS  1975.0  1990.714286  1998.0\n",
       "30      Turbo-jet  MCDONNELL DOUGLAS CORPORATION  1991.0  1991.928571  1992.0\n",
       "31     Turbo-prop                          BEECH  1967.0  1969.500000  1972.0\n",
       "32    Turbo-shaft                     AGUSTA SPA  2001.0  2001.000000  2001.0\n",
       "33    Turbo-shaft                           BELL  1975.0  1984.500000  1994.0\n",
       "34    Turbo-shaft         ROBINSON HELICOPTER CO  2012.0  2012.000000  2012.0\n",
       "35    Turbo-shaft                       SIKORSKY  1985.0  1985.000000  1985.0"
      ]
     },
     "execution_count": 163,
     "metadata": {},
     "output_type": "execute_result"
    }
   ],
   "source": [
    "planes.groupby(\n",
    "    ['engine', 'manufacturer']\n",
    ")['year'].describe().unstack().loc[:, ['min', 'mean', 'max']].dropna().reset_index()"
   ]
  },
  {
   "cell_type": "code",
   "execution_count": 164,
   "metadata": {
    "collapsed": false,
    "scrolled": true
   },
   "outputs": [
    {
     "data": {
      "text/plain": [
       "           engine                   manufacturer    amin         mean    amax\n",
       "0         4 Cycle                         CESSNA  1975.0  1975.000000  1975.0\n",
       "1   Reciprocating             AVIAT AIRCRAFT INC  2007.0  2007.000000  2007.0\n",
       "2   Reciprocating                         CESSNA  1959.0  1971.142857  1983.0\n",
       "3   Reciprocating             CIRRUS DESIGN CORP  2007.0  2007.000000  2007.0\n",
       "4   Reciprocating                    DEHAVILLAND  1959.0  1959.000000  1959.0\n",
       "5   Reciprocating                        DOUGLAS  1956.0  1956.000000  1956.0\n",
       "6   Reciprocating                 FRIEDEMANN JON  2007.0  2007.000000  2007.0\n",
       "7   Reciprocating                   KILDALL GARY  1985.0  1985.000000  1985.0\n",
       "8   Reciprocating                LEBLANC GLENN T  1985.0  1985.000000  1985.0\n",
       "9   Reciprocating                     MARZ BARRY  1993.0  1993.000000  1993.0\n",
       "10  Reciprocating                          PIPER  1968.0  1976.400000  1980.0\n",
       "11  Reciprocating                   STEWART MACO  1985.0  1985.000000  1985.0\n",
       "12      Turbo-fan                         AIRBUS  2002.0  2007.281734  2013.0\n",
       "13      Turbo-fan               AIRBUS INDUSTRIE  1992.0  1998.599251  2013.0\n",
       "14      Turbo-fan         AVIONS MARCEL DASSAULT  1986.0  1986.000000  1986.0\n",
       "15      Turbo-fan                         BOEING  1965.0  2001.210400  2013.0\n",
       "16      Turbo-fan                 BOMBARDIER INC  1998.0  2004.486188  2013.0\n",
       "17      Turbo-fan                       CANADAIR  1997.0  1997.333333  1998.0\n",
       "18      Turbo-fan                         CESSNA  1979.0  1979.000000  1979.0\n",
       "19      Turbo-fan                        EMBRAER  1998.0  2003.613014  2013.0\n",
       "20      Turbo-fan           GULFSTREAM AEROSPACE  1992.0  1992.000000  1992.0\n",
       "21      Turbo-fan              MCDONNELL DOUGLAS  1986.0  1989.704545  1997.0\n",
       "22      Turbo-fan  MCDONNELL DOUGLAS AIRCRAFT CO  1987.0  1989.737864  1993.0\n",
       "23      Turbo-jet                         AIRBUS  2002.0  2002.000000  2002.0\n",
       "24      Turbo-jet               AIRBUS INDUSTRIE  1989.0  1997.439024  2004.0\n",
       "25      Turbo-jet                         BOEING  1984.0  1996.368272  2005.0\n",
       "26      Turbo-jet                   CANADAIR LTD  1974.0  1974.000000  1974.0\n",
       "27      Turbo-jet                        EMBRAER  1999.0  1999.000000  1999.0\n",
       "28      Turbo-jet           GULFSTREAM AEROSPACE  1976.0  1976.000000  1976.0\n",
       "29      Turbo-jet              MCDONNELL DOUGLAS  1975.0  1990.714286  1998.0\n",
       "30      Turbo-jet  MCDONNELL DOUGLAS CORPORATION  1991.0  1991.928571  1992.0\n",
       "31     Turbo-prop                          BEECH  1967.0  1969.500000  1972.0\n",
       "32    Turbo-shaft                     AGUSTA SPA  2001.0  2001.000000  2001.0\n",
       "33    Turbo-shaft                           BELL  1975.0  1984.500000  1994.0\n",
       "34    Turbo-shaft         ROBINSON HELICOPTER CO  2012.0  2012.000000  2012.0\n",
       "35    Turbo-shaft                       SIKORSKY  1985.0  1985.000000  1985.0"
      ]
     },
     "execution_count": 164,
     "metadata": {},
     "output_type": "execute_result"
    }
   ],
   "source": [
    "planes.groupby(\n",
    "    ['engine', 'manufacturer']\n",
    ")['year'].agg([np.min, np.mean, np.max]).dropna().reset_index()"
   ]
  },
  {
   "cell_type": "code",
   "execution_count": 165,
   "metadata": {
    "collapsed": false
   },
   "outputs": [
    {
     "data": {
      "text/plain": [
       "'amin'"
      ]
     },
     "execution_count": 165,
     "metadata": {},
     "output_type": "execute_result"
    }
   ],
   "source": [
    "np.min.__name__"
   ]
  },
  {
   "cell_type": "code",
   "execution_count": 166,
   "metadata": {
    "collapsed": false,
    "scrolled": true
   },
   "outputs": [
    {
     "data": {
      "text/plain": [
       "           engine                   manufacturer    amin         mean    amax  \\\n",
       "0         4 Cycle                         CESSNA  1975.0  1975.000000  1975.0   \n",
       "1   Reciprocating             AVIAT AIRCRAFT INC  2007.0  2007.000000  2007.0   \n",
       "2   Reciprocating                         CESSNA  1959.0  1971.142857  1983.0   \n",
       "3   Reciprocating             CIRRUS DESIGN CORP  2007.0  2007.000000  2007.0   \n",
       "4   Reciprocating                    DEHAVILLAND  1959.0  1959.000000  1959.0   \n",
       "5   Reciprocating                        DOUGLAS  1956.0  1956.000000  1956.0   \n",
       "6   Reciprocating                 FRIEDEMANN JON  2007.0  2007.000000  2007.0   \n",
       "7   Reciprocating                   KILDALL GARY  1985.0  1985.000000  1985.0   \n",
       "8   Reciprocating                LEBLANC GLENN T  1985.0  1985.000000  1985.0   \n",
       "9   Reciprocating                     MARZ BARRY  1993.0  1993.000000  1993.0   \n",
       "10  Reciprocating                          PIPER  1968.0  1976.400000  1980.0   \n",
       "11  Reciprocating                   STEWART MACO  1985.0  1985.000000  1985.0   \n",
       "12      Turbo-fan                         AIRBUS  2002.0  2007.281734  2013.0   \n",
       "13      Turbo-fan               AIRBUS INDUSTRIE  1992.0  1998.599251  2013.0   \n",
       "14      Turbo-fan         AVIONS MARCEL DASSAULT  1986.0  1986.000000  1986.0   \n",
       "15      Turbo-fan                         BOEING  1965.0  2001.210400  2013.0   \n",
       "16      Turbo-fan                 BOMBARDIER INC  1998.0  2004.486188  2013.0   \n",
       "17      Turbo-fan                       CANADAIR  1997.0  1997.333333  1998.0   \n",
       "18      Turbo-fan                         CESSNA  1979.0  1979.000000  1979.0   \n",
       "19      Turbo-fan                        EMBRAER  1998.0  2003.613014  2013.0   \n",
       "20      Turbo-fan           GULFSTREAM AEROSPACE  1992.0  1992.000000  1992.0   \n",
       "21      Turbo-fan              MCDONNELL DOUGLAS  1986.0  1989.704545  1997.0   \n",
       "22      Turbo-fan  MCDONNELL DOUGLAS AIRCRAFT CO  1987.0  1989.737864  1993.0   \n",
       "23      Turbo-jet                         AIRBUS  2002.0  2002.000000  2002.0   \n",
       "24      Turbo-jet               AIRBUS INDUSTRIE  1989.0  1997.439024  2004.0   \n",
       "25      Turbo-jet                         BOEING  1984.0  1996.368272  2005.0   \n",
       "26      Turbo-jet                   CANADAIR LTD  1974.0  1974.000000  1974.0   \n",
       "27      Turbo-jet                        EMBRAER  1999.0  1999.000000  1999.0   \n",
       "28      Turbo-jet           GULFSTREAM AEROSPACE  1976.0  1976.000000  1976.0   \n",
       "29      Turbo-jet              MCDONNELL DOUGLAS  1975.0  1990.714286  1998.0   \n",
       "30      Turbo-jet  MCDONNELL DOUGLAS CORPORATION  1991.0  1991.928571  1992.0   \n",
       "31     Turbo-prop                          BEECH  1967.0  1969.500000  1972.0   \n",
       "32    Turbo-shaft                     AGUSTA SPA  2001.0  2001.000000  2001.0   \n",
       "33    Turbo-shaft                           BELL  1975.0  1984.500000  1994.0   \n",
       "34    Turbo-shaft         ROBINSON HELICOPTER CO  2012.0  2012.000000  2012.0   \n",
       "35    Turbo-shaft                       SIKORSKY  1985.0  1985.000000  1985.0   \n",
       "\n",
       "    midrange  \n",
       "0     2962.5  \n",
       "1     3010.5  \n",
       "2     2950.5  \n",
       "3     3010.5  \n",
       "4     2938.5  \n",
       "5     2934.0  \n",
       "6     3010.5  \n",
       "7     2977.5  \n",
       "8     2977.5  \n",
       "9     2989.5  \n",
       "10    2958.0  \n",
       "11    2977.5  \n",
       "12    3008.5  \n",
       "13    2998.5  \n",
       "14    2979.0  \n",
       "15    2971.5  \n",
       "16    3004.5  \n",
       "17    2996.0  \n",
       "18    2968.5  \n",
       "19    3004.5  \n",
       "20    2988.0  \n",
       "21    2984.5  \n",
       "22    2983.5  \n",
       "23    3003.0  \n",
       "24    2991.0  \n",
       "25    2986.5  \n",
       "26    2961.0  \n",
       "27    2998.5  \n",
       "28    2964.0  \n",
       "29    2974.0  \n",
       "30    2987.0  \n",
       "31    2953.0  \n",
       "32    3001.5  \n",
       "33    2972.0  \n",
       "34    3018.0  \n",
       "35    2977.5  "
      ]
     },
     "execution_count": 166,
     "metadata": {},
     "output_type": "execute_result"
    }
   ],
   "source": [
    "myaggfunc = lambda x: np.min(x) + np.max(x)*0.5\n",
    "myaggfunc.__name__ = 'midrange'\n",
    "\n",
    "planes.groupby(\n",
    "['engine', 'manufacturer']\n",
    ")['year'].agg([np.min, np.mean, np.max, myaggfunc]).dropna().reset_index()"
   ]
  },
  {
   "cell_type": "markdown",
   "metadata": {},
   "source": [
    "___\n",
    "6. `SELECT * FROM planes WHERE speed IS NOT NULL`\n",
    "7. `SELECT tailnum FROM planes WHERE year >= 2010`\n",
    "8. `SELECT tailnum FROM planes WHERE seats BETWEEN 100 and 200 LIMIT 20`\n",
    "9. `SELECT * FROM planes WHERE manufacturer IN (\"BOEING\", \"AIRBUS\", \"EMBRAER\")`\n",
    "10. `SELECT * FROM planes WHERE manufacturer IN (\"BOEING\", \"AIRBUS\", \"EMBRAER\") AND seats>300`\n",
    "___"
   ]
  },
  {
   "cell_type": "code",
   "execution_count": 167,
   "metadata": {
    "collapsed": false,
    "scrolled": true
   },
   "outputs": [
    {
     "data": {
      "text/plain": [
       "    index tailnum    year                      type       manufacturer  \\\n",
       "0     424  N201AA  1959.0  Fixed wing single engine             CESSNA   \n",
       "1     427  N202AA  1980.0   Fixed wing multi engine             CESSNA   \n",
       "2     821  N350AA  1980.0   Fixed wing multi engine              PIPER   \n",
       "3     893  N364AA  1973.0   Fixed wing multi engine             CESSNA   \n",
       "4    1027  N378AA  1963.0  Fixed wing single engine             CESSNA   \n",
       "5    1037  N381AA  1956.0   Fixed wing multi engine            DOUGLAS   \n",
       "6    1190  N425AA  1968.0  Fixed wing single engine              PIPER   \n",
       "7    1430  N508AA  1975.0                Rotorcraft               BELL   \n",
       "8    1480  N519MQ  1983.0  Fixed wing single engine             CESSNA   \n",
       "9    1515  N525AA  1980.0   Fixed wing multi engine              PIPER   \n",
       "10   1589  N545AA  1976.0  Fixed wing single engine              PIPER   \n",
       "11   1694  N567AA  1959.0  Fixed wing single engine        DEHAVILLAND   \n",
       "12   1813  N600TR  1979.0   Fixed wing multi engine  MCDONNELL DOUGLAS   \n",
       "13   1867  N615AA  1967.0   Fixed wing multi engine              BEECH   \n",
       "14   1883  N621AA  1975.0  Fixed wing single engine             CESSNA   \n",
       "15   2131  N675MC  1975.0   Fixed wing multi engine  MCDONNELL DOUGLAS   \n",
       "16   2309  N737MQ  1977.0  Fixed wing single engine             CESSNA   \n",
       "17   2402  N762NC  1976.0   Fixed wing multi engine  MCDONNELL DOUGLAS   \n",
       "18   2432  N767NC  1977.0   Fixed wing multi engine  MCDONNELL DOUGLAS   \n",
       "19   2472  N774NC  1978.0   Fixed wing multi engine  MCDONNELL DOUGLAS   \n",
       "20   2483  N777NC  1979.0   Fixed wing multi engine  MCDONNELL DOUGLAS   \n",
       "21   2492  N779NC  1979.0   Fixed wing multi engine  MCDONNELL DOUGLAS   \n",
       "22   2503  N782NC  1980.0   Fixed wing multi engine  MCDONNELL DOUGLAS   \n",
       "\n",
       "          model  engines  seats  speed         engine  \n",
       "0           150        1      2   90.0  Reciprocating  \n",
       "1          421C        2      8   90.0  Reciprocating  \n",
       "2     PA-31-350        2      8  162.0  Reciprocating  \n",
       "3          310Q        2      6  167.0  Reciprocating  \n",
       "4          172E        1      4  105.0  Reciprocating  \n",
       "5        DC-7BF        4    102  232.0  Reciprocating  \n",
       "6     PA-28-180        1      4  107.0  Reciprocating  \n",
       "7          206B        1      5  112.0    Turbo-shaft  \n",
       "8         A185F        1      6  127.0  Reciprocating  \n",
       "9     PA-31-350        2      8  162.0  Reciprocating  \n",
       "10   PA-32R-300        1      7  126.0  Reciprocating  \n",
       "11  OTTER DHC-3        1     16   95.0  Reciprocating  \n",
       "12      DC-9-51        2    139  432.0      Turbo-jet  \n",
       "13       65-A90        2      9  202.0     Turbo-prop  \n",
       "14         172M        1      4  108.0        4 Cycle  \n",
       "15      DC-9-51        2    139  432.0      Turbo-jet  \n",
       "16         172N        1      4  105.0  Reciprocating  \n",
       "17      DC-9-51        2    139  432.0      Turbo-jet  \n",
       "18      DC-9-51        2    139  432.0      Turbo-jet  \n",
       "19      DC-9-51        2    139  432.0      Turbo-jet  \n",
       "20      DC-9-51        2    139  432.0      Turbo-jet  \n",
       "21      DC-9-51        2    139  432.0      Turbo-jet  \n",
       "22      DC-9-51        2    139  432.0      Turbo-jet  "
      ]
     },
     "execution_count": 167,
     "metadata": {},
     "output_type": "execute_result"
    }
   ],
   "source": [
    "# SELECT * FROM planes WHERE speed IS NOT NULL\n",
    "pd.read_sql_query(\"\"\"SELECT * FROM planes WHERE speed IS NOT NULL\"\"\", conn)"
   ]
  },
  {
   "cell_type": "code",
   "execution_count": 168,
   "metadata": {
    "collapsed": false,
    "scrolled": true
   },
   "outputs": [
    {
     "data": {
      "text/plain": [
       "    index tailnum    year                      type       manufacturer  \\\n",
       "0     424  N201AA  1959.0  Fixed wing single engine             CESSNA   \n",
       "1     427  N202AA  1980.0   Fixed wing multi engine             CESSNA   \n",
       "2     821  N350AA  1980.0   Fixed wing multi engine              PIPER   \n",
       "3     893  N364AA  1973.0   Fixed wing multi engine             CESSNA   \n",
       "4    1027  N378AA  1963.0  Fixed wing single engine             CESSNA   \n",
       "5    1037  N381AA  1956.0   Fixed wing multi engine            DOUGLAS   \n",
       "6    1190  N425AA  1968.0  Fixed wing single engine              PIPER   \n",
       "7    1430  N508AA  1975.0                Rotorcraft               BELL   \n",
       "8    1480  N519MQ  1983.0  Fixed wing single engine             CESSNA   \n",
       "9    1515  N525AA  1980.0   Fixed wing multi engine              PIPER   \n",
       "10   1589  N545AA  1976.0  Fixed wing single engine              PIPER   \n",
       "11   1694  N567AA  1959.0  Fixed wing single engine        DEHAVILLAND   \n",
       "12   1813  N600TR  1979.0   Fixed wing multi engine  MCDONNELL DOUGLAS   \n",
       "13   1867  N615AA  1967.0   Fixed wing multi engine              BEECH   \n",
       "14   1883  N621AA  1975.0  Fixed wing single engine             CESSNA   \n",
       "15   2131  N675MC  1975.0   Fixed wing multi engine  MCDONNELL DOUGLAS   \n",
       "16   2309  N737MQ  1977.0  Fixed wing single engine             CESSNA   \n",
       "17   2402  N762NC  1976.0   Fixed wing multi engine  MCDONNELL DOUGLAS   \n",
       "18   2432  N767NC  1977.0   Fixed wing multi engine  MCDONNELL DOUGLAS   \n",
       "19   2472  N774NC  1978.0   Fixed wing multi engine  MCDONNELL DOUGLAS   \n",
       "20   2483  N777NC  1979.0   Fixed wing multi engine  MCDONNELL DOUGLAS   \n",
       "21   2492  N779NC  1979.0   Fixed wing multi engine  MCDONNELL DOUGLAS   \n",
       "22   2503  N782NC  1980.0   Fixed wing multi engine  MCDONNELL DOUGLAS   \n",
       "\n",
       "          model  engines  seats  speed         engine  \n",
       "0           150        1      2   90.0  Reciprocating  \n",
       "1          421C        2      8   90.0  Reciprocating  \n",
       "2     PA-31-350        2      8  162.0  Reciprocating  \n",
       "3          310Q        2      6  167.0  Reciprocating  \n",
       "4          172E        1      4  105.0  Reciprocating  \n",
       "5        DC-7BF        4    102  232.0  Reciprocating  \n",
       "6     PA-28-180        1      4  107.0  Reciprocating  \n",
       "7          206B        1      5  112.0    Turbo-shaft  \n",
       "8         A185F        1      6  127.0  Reciprocating  \n",
       "9     PA-31-350        2      8  162.0  Reciprocating  \n",
       "10   PA-32R-300        1      7  126.0  Reciprocating  \n",
       "11  OTTER DHC-3        1     16   95.0  Reciprocating  \n",
       "12      DC-9-51        2    139  432.0      Turbo-jet  \n",
       "13       65-A90        2      9  202.0     Turbo-prop  \n",
       "14         172M        1      4  108.0        4 Cycle  \n",
       "15      DC-9-51        2    139  432.0      Turbo-jet  \n",
       "16         172N        1      4  105.0  Reciprocating  \n",
       "17      DC-9-51        2    139  432.0      Turbo-jet  \n",
       "18      DC-9-51        2    139  432.0      Turbo-jet  \n",
       "19      DC-9-51        2    139  432.0      Turbo-jet  \n",
       "20      DC-9-51        2    139  432.0      Turbo-jet  \n",
       "21      DC-9-51        2    139  432.0      Turbo-jet  \n",
       "22      DC-9-51        2    139  432.0      Turbo-jet  "
      ]
     },
     "execution_count": 168,
     "metadata": {},
     "output_type": "execute_result"
    }
   ],
   "source": [
    "planes.dropna(subset = ['speed'], how = 'all').reset_index()"
   ]
  },
  {
   "cell_type": "code",
   "execution_count": 169,
   "metadata": {
    "collapsed": false,
    "scrolled": true
   },
   "outputs": [
    {
     "data": {
      "text/plain": [
       "    tailnum\n",
       "0    N127UW\n",
       "1    N128UW\n",
       "2    N150UW\n",
       "3    N151UW\n",
       "4    N152UW\n",
       "5    N153UW\n",
       "6    N154UW\n",
       "7    N155UW\n",
       "8    N156UW\n",
       "9    N157UW\n",
       "10   N198UW\n",
       "11   N199UW\n",
       "12   N205FR\n",
       "13   N206FR\n",
       "14   N207FR\n",
       "15   N208FR\n",
       "16   N20904\n",
       "17   N209FR\n",
       "18   N210FR\n",
       "19   N211FR\n",
       "20   N213FR\n",
       "21   N214FR\n",
       "22   N216FR\n",
       "23   N26906\n",
       "24   N272PQ\n",
       "25   N27477\n",
       "26   N27901\n",
       "27   N279PQ\n",
       "28   N28457\n",
       "29   N28478\n",
       "..      ...\n",
       "271  N913JB\n",
       "272  N943WN\n",
       "273  N944WN\n",
       "274  N945WN\n",
       "275  N946WN\n",
       "276  N947WN\n",
       "277  N948WN\n",
       "278  N949WN\n",
       "279  N950WN\n",
       "280  N951WN\n",
       "281  N952FR\n",
       "282  N952WN\n",
       "283  N953FR\n",
       "284  N953WN\n",
       "285  N954WN\n",
       "286  N955WN\n",
       "287  N956WN\n",
       "288  N957WN\n",
       "289  N958WN\n",
       "290  N959WN\n",
       "291  N960WN\n",
       "292  N961WN\n",
       "293  N962WN\n",
       "294  N963WN\n",
       "295  N964WN\n",
       "296  N965WN\n",
       "297  N966WN\n",
       "298  N967WN\n",
       "299  N968WN\n",
       "300  N969WN\n",
       "\n",
       "[301 rows x 1 columns]"
      ]
     },
     "execution_count": 169,
     "metadata": {},
     "output_type": "execute_result"
    }
   ],
   "source": [
    "# SELECT tailnum FROM planes WHERE year >= 2010\n",
    "pd.read_sql_query(\"\"\"SELECT tailnum FROM planes WHERE year >= 2010\"\"\", conn)"
   ]
  },
  {
   "cell_type": "code",
   "execution_count": 170,
   "metadata": {
    "collapsed": false,
    "scrolled": true
   },
   "outputs": [
    {
     "data": {
      "text/plain": [
       "     index tailnum\n",
       "0       88  N127UW\n",
       "1       89  N128UW\n",
       "2      215  N150UW\n",
       "3      216  N151UW\n",
       "4      218  N152UW\n",
       "5      221  N153UW\n",
       "6      223  N154UW\n",
       "7      228  N155UW\n",
       "8      230  N156UW\n",
       "9      233  N157UW\n",
       "10     418  N198UW\n",
       "11     421  N199UW\n",
       "12     435  N205FR\n",
       "13     437  N206FR\n",
       "14     441  N207FR\n",
       "15     443  N208FR\n",
       "16     445  N20904\n",
       "17     446  N209FR\n",
       "18     448  N210FR\n",
       "19     456  N211FR\n",
       "20     459  N213FR\n",
       "21     461  N214FR\n",
       "22     465  N216FR\n",
       "23     567  N26906\n",
       "24     578  N272PQ\n",
       "25     584  N27477\n",
       "26     596  N27901\n",
       "27     600  N279PQ\n",
       "28     609  N28457\n",
       "29     610  N28478\n",
       "..     ...     ...\n",
       "271   2982  N913JB\n",
       "272   3148  N943WN\n",
       "273   3153  N944WN\n",
       "274   3158  N945WN\n",
       "275   3162  N946WN\n",
       "276   3166  N947WN\n",
       "277   3171  N948WN\n",
       "278   3175  N949WN\n",
       "279   3179  N950WN\n",
       "280   3184  N951WN\n",
       "281   3187  N952FR\n",
       "282   3189  N952WN\n",
       "283   3193  N953FR\n",
       "284   3195  N953WN\n",
       "285   3199  N954WN\n",
       "286   3204  N955WN\n",
       "287   3210  N956WN\n",
       "288   3215  N957WN\n",
       "289   3220  N958WN\n",
       "290   3225  N959WN\n",
       "291   3229  N960WN\n",
       "292   3234  N961WN\n",
       "293   3237  N962WN\n",
       "294   3242  N963WN\n",
       "295   3246  N964WN\n",
       "296   3251  N965WN\n",
       "297   3254  N966WN\n",
       "298   3258  N967WN\n",
       "299   3261  N968WN\n",
       "300   3264  N969WN\n",
       "\n",
       "[301 rows x 2 columns]"
      ]
     },
     "execution_count": 170,
     "metadata": {},
     "output_type": "execute_result"
    }
   ],
   "source": [
    "planes.tailnum[planes.year >= 2010].reset_index()"
   ]
  },
  {
   "cell_type": "code",
   "execution_count": 171,
   "metadata": {
    "collapsed": false,
    "scrolled": false
   },
   "outputs": [
    {
     "data": {
      "text/plain": [
       "   tailnum\n",
       "0   N102UW\n",
       "1   N103US\n",
       "2   N104UW\n",
       "3   N105UW\n",
       "4   N107US\n",
       "5   N108UW\n",
       "6   N109UW\n",
       "7   N110UW\n",
       "8   N111US\n",
       "9   N11206\n",
       "10  N112US\n",
       "11  N113UW\n",
       "12  N114UW\n",
       "13  N117UW\n",
       "14  N118US\n",
       "15  N119US\n",
       "16  N12109\n",
       "17  N12114\n",
       "18  N12116\n",
       "19  N12125"
      ]
     },
     "execution_count": 171,
     "metadata": {},
     "output_type": "execute_result"
    }
   ],
   "source": [
    "# SELECT tailnum FROM planes WHERE seats BETWEEN 100 and 200 LIMIT 20\n",
    "pd.read_sql_query(\"\"\"SELECT tailnum FROM planes WHERE seats BETWEEN 100 and 200 LIMIT 20\"\"\", conn)"
   ]
  },
  {
   "cell_type": "code",
   "execution_count": 172,
   "metadata": {
    "collapsed": false
   },
   "outputs": [
    {
     "data": {
      "text/plain": [
       "    index tailnum\n",
       "0       1  N102UW\n",
       "1       2  N103US\n",
       "2       3  N104UW\n",
       "3       5  N105UW\n",
       "4       6  N107US\n",
       "5       7  N108UW\n",
       "6       8  N109UW\n",
       "7       9  N110UW\n",
       "8      33  N111US\n",
       "9      34  N11206\n",
       "10     35  N112US\n",
       "11     36  N113UW\n",
       "12     37  N114UW\n",
       "13     46  N117UW\n",
       "14     47  N118US\n",
       "15     48  N119US\n",
       "16     51  N12109\n",
       "17     52  N12114\n",
       "18     53  N12116\n",
       "19     55  N12125"
      ]
     },
     "execution_count": 172,
     "metadata": {},
     "output_type": "execute_result"
    }
   ],
   "source": [
    "planes['tailnum'][(planes.seats >100) & (planes.seats < 200)].head(20).reset_index()"
   ]
  },
  {
   "cell_type": "code",
   "execution_count": 173,
   "metadata": {
    "collapsed": false,
    "scrolled": true
   },
   "outputs": [
    {
     "data": {
      "text/plain": [
       "      index tailnum    year                     type manufacturer      model  \\\n",
       "0         0  N10156  2004.0  Fixed wing multi engine      EMBRAER  EMB-145XR   \n",
       "1         4  N10575  2002.0  Fixed wing multi engine      EMBRAER  EMB-145LR   \n",
       "2        10  N11106  2002.0  Fixed wing multi engine      EMBRAER  EMB-145XR   \n",
       "3        11  N11107  2002.0  Fixed wing multi engine      EMBRAER  EMB-145XR   \n",
       "4        12  N11109  2002.0  Fixed wing multi engine      EMBRAER  EMB-145XR   \n",
       "5        13  N11113  2002.0  Fixed wing multi engine      EMBRAER  EMB-145XR   \n",
       "6        14  N11119  2002.0  Fixed wing multi engine      EMBRAER  EMB-145XR   \n",
       "7        15  N11121  2003.0  Fixed wing multi engine      EMBRAER  EMB-145XR   \n",
       "8        16  N11127  2003.0  Fixed wing multi engine      EMBRAER  EMB-145XR   \n",
       "9        17  N11137  2003.0  Fixed wing multi engine      EMBRAER  EMB-145XR   \n",
       "10       18  N11140  2003.0  Fixed wing multi engine      EMBRAER  EMB-145XR   \n",
       "11       19  N11150  2003.0  Fixed wing multi engine      EMBRAER  EMB-145XR   \n",
       "12       20  N11155  2004.0  Fixed wing multi engine      EMBRAER  EMB-145XR   \n",
       "13       21  N11164  2004.0  Fixed wing multi engine      EMBRAER  EMB-145XR   \n",
       "14       22  N11165  2004.0  Fixed wing multi engine      EMBRAER  EMB-145XR   \n",
       "15       23  N11176  2004.0  Fixed wing multi engine      EMBRAER  EMB-145XR   \n",
       "16       24  N11181  2005.0  Fixed wing multi engine      EMBRAER  EMB-145XR   \n",
       "17       25  N11184  2005.0  Fixed wing multi engine      EMBRAER  EMB-145XR   \n",
       "18       26  N11187  2005.0  Fixed wing multi engine      EMBRAER  EMB-145XR   \n",
       "19       27  N11189  2005.0  Fixed wing multi engine      EMBRAER  EMB-145XR   \n",
       "20       28  N11191  2005.0  Fixed wing multi engine      EMBRAER  EMB-145XR   \n",
       "21       29  N11192  2005.0  Fixed wing multi engine      EMBRAER  EMB-145XR   \n",
       "22       30  N11193  2005.0  Fixed wing multi engine      EMBRAER  EMB-145XR   \n",
       "23       31  N11194  2005.0  Fixed wing multi engine      EMBRAER  EMB-145XR   \n",
       "24       32  N11199  2006.0  Fixed wing multi engine      EMBRAER  EMB-145XR   \n",
       "25       34  N11206  2000.0  Fixed wing multi engine       BOEING    737-824   \n",
       "26       38  N11535  2001.0  Fixed wing multi engine      EMBRAER  EMB-145LR   \n",
       "27       39  N11536  2001.0  Fixed wing multi engine      EMBRAER  EMB-145LR   \n",
       "28       40  N11539  2001.0  Fixed wing multi engine      EMBRAER  EMB-145LR   \n",
       "29       41  N11544  2002.0  Fixed wing multi engine      EMBRAER  EMB-145LR   \n",
       "...     ...     ...     ...                      ...          ...        ...   \n",
       "2235   3259  N968AT  2001.0  Fixed wing multi engine       BOEING    717-200   \n",
       "2236   3261  N968WN  2011.0  Fixed wing multi engine       BOEING    737-7H4   \n",
       "2237   3262  N969AT  2001.0  Fixed wing multi engine       BOEING    717-200   \n",
       "2238   3264  N969WN  2011.0  Fixed wing multi engine       BOEING    737-7H4   \n",
       "2239   3265  N970AT  2001.0  Fixed wing multi engine       BOEING    717-200   \n",
       "2240   3267  N971AT  2001.0  Fixed wing multi engine       BOEING    717-200   \n",
       "2241   3269  N972AT  2001.0  Fixed wing multi engine       BOEING    717-200   \n",
       "2242   3272  N974AT  2002.0  Fixed wing multi engine       BOEING    717-200   \n",
       "2243   3274  N975AT  2002.0  Fixed wing multi engine       BOEING    717-200   \n",
       "2244   3277  N977AT  2002.0  Fixed wing multi engine       BOEING    717-200   \n",
       "2245   3279  N978AT  2002.0  Fixed wing multi engine       BOEING    717-200   \n",
       "2246   3282  N979AT  2002.0  Fixed wing multi engine       BOEING    717-200   \n",
       "2247   3284  N980AT  2002.0  Fixed wing multi engine       BOEING    717-200   \n",
       "2248   3286  N981AT  2002.0  Fixed wing multi engine       BOEING    717-200   \n",
       "2249   3288  N982AT  2002.0  Fixed wing multi engine       BOEING    717-200   \n",
       "2250   3290  N983AT     NaN  Fixed wing multi engine       BOEING    717-200   \n",
       "2251   3293  N985AT  2001.0  Fixed wing multi engine       BOEING    717-200   \n",
       "2252   3295  N986AT  2001.0  Fixed wing multi engine       BOEING    717-200   \n",
       "2253   3297  N987AT  2001.0  Fixed wing multi engine       BOEING    717-200   \n",
       "2254   3299  N988AT  2001.0  Fixed wing multi engine       BOEING    717-200   \n",
       "2255   3301  N989AT  2001.0  Fixed wing multi engine       BOEING    717-200   \n",
       "2256   3303  N990AT  2001.0  Fixed wing multi engine       BOEING    717-200   \n",
       "2257   3305  N991AT     NaN  Fixed wing multi engine       BOEING    717-200   \n",
       "2258   3307  N992AT  2002.0  Fixed wing multi engine       BOEING    717-200   \n",
       "2259   3309  N993AT  2002.0  Fixed wing multi engine       BOEING    717-200   \n",
       "2260   3311  N994AT  2002.0  Fixed wing multi engine       BOEING    717-200   \n",
       "2261   3313  N995AT  2002.0  Fixed wing multi engine       BOEING    717-200   \n",
       "2262   3315  N996AT  2002.0  Fixed wing multi engine       BOEING    717-200   \n",
       "2263   3317  N997AT  2002.0  Fixed wing multi engine       BOEING    717-200   \n",
       "2264   3319  N998AT  2002.0  Fixed wing multi engine       BOEING    717-200   \n",
       "\n",
       "      engines  seats speed     engine  \n",
       "0           2     55  None  Turbo-fan  \n",
       "1           2     55  None  Turbo-fan  \n",
       "2           2     55  None  Turbo-fan  \n",
       "3           2     55  None  Turbo-fan  \n",
       "4           2     55  None  Turbo-fan  \n",
       "5           2     55  None  Turbo-fan  \n",
       "6           2     55  None  Turbo-fan  \n",
       "7           2     55  None  Turbo-fan  \n",
       "8           2     55  None  Turbo-fan  \n",
       "9           2     55  None  Turbo-fan  \n",
       "10          2     55  None  Turbo-fan  \n",
       "11          2     55  None  Turbo-fan  \n",
       "12          2     55  None  Turbo-fan  \n",
       "13          2     55  None  Turbo-fan  \n",
       "14          2     55  None  Turbo-fan  \n",
       "15          2     55  None  Turbo-fan  \n",
       "16          2     55  None  Turbo-fan  \n",
       "17          2     55  None  Turbo-fan  \n",
       "18          2     55  None  Turbo-fan  \n",
       "19          2     55  None  Turbo-fan  \n",
       "20          2     55  None  Turbo-fan  \n",
       "21          2     55  None  Turbo-fan  \n",
       "22          2     55  None  Turbo-fan  \n",
       "23          2     55  None  Turbo-fan  \n",
       "24          2     55  None  Turbo-fan  \n",
       "25          2    149  None  Turbo-fan  \n",
       "26          2     55  None  Turbo-fan  \n",
       "27          2     55  None  Turbo-fan  \n",
       "28          2     55  None  Turbo-fan  \n",
       "29          2     55  None  Turbo-fan  \n",
       "...       ...    ...   ...        ...  \n",
       "2235        2    100  None  Turbo-fan  \n",
       "2236        2    140  None  Turbo-fan  \n",
       "2237        2    100  None  Turbo-fan  \n",
       "2238        2    140  None  Turbo-fan  \n",
       "2239        2    100  None  Turbo-fan  \n",
       "2240        2    100  None  Turbo-fan  \n",
       "2241        2    100  None  Turbo-fan  \n",
       "2242        2    100  None  Turbo-fan  \n",
       "2243        2    100  None  Turbo-fan  \n",
       "2244        2    100  None  Turbo-fan  \n",
       "2245        2    100  None  Turbo-fan  \n",
       "2246        2    100  None  Turbo-fan  \n",
       "2247        2    100  None  Turbo-fan  \n",
       "2248        2    100  None  Turbo-fan  \n",
       "2249        2    100  None  Turbo-fan  \n",
       "2250        2    100  None  Turbo-fan  \n",
       "2251        2    100  None  Turbo-fan  \n",
       "2252        2    100  None  Turbo-fan  \n",
       "2253        2    100  None  Turbo-fan  \n",
       "2254        2    100  None  Turbo-fan  \n",
       "2255        2    100  None  Turbo-fan  \n",
       "2256        2    100  None  Turbo-fan  \n",
       "2257        2    100  None  Turbo-fan  \n",
       "2258        2    100  None  Turbo-fan  \n",
       "2259        2    100  None  Turbo-fan  \n",
       "2260        2    100  None  Turbo-fan  \n",
       "2261        2    100  None  Turbo-fan  \n",
       "2262        2    100  None  Turbo-fan  \n",
       "2263        2    100  None  Turbo-fan  \n",
       "2264        2    100  None  Turbo-fan  \n",
       "\n",
       "[2265 rows x 10 columns]"
      ]
     },
     "execution_count": 173,
     "metadata": {},
     "output_type": "execute_result"
    }
   ],
   "source": [
    "# SELECT * FROM planes WHERE manufacturer IN (\"BOEING\", \"AIRBUS\", \"EMBRAER\")\n",
    "pd.read_sql_query(\"\"\"SELECT * FROM planes WHERE manufacturer IN (\"BOEING\", \"AIRBUS\", \"EMBRAER\")\"\"\", conn)"
   ]
  },
  {
   "cell_type": "code",
   "execution_count": 174,
   "metadata": {
    "collapsed": false,
    "scrolled": true
   },
   "outputs": [
    {
     "data": {
      "text/plain": [
       "     tailnum    year                     type manufacturer      model  \\\n",
       "0     N10156  2004.0  Fixed wing multi engine      EMBRAER  EMB-145XR   \n",
       "4     N10575  2002.0  Fixed wing multi engine      EMBRAER  EMB-145LR   \n",
       "10    N11106  2002.0  Fixed wing multi engine      EMBRAER  EMB-145XR   \n",
       "11    N11107  2002.0  Fixed wing multi engine      EMBRAER  EMB-145XR   \n",
       "12    N11109  2002.0  Fixed wing multi engine      EMBRAER  EMB-145XR   \n",
       "13    N11113  2002.0  Fixed wing multi engine      EMBRAER  EMB-145XR   \n",
       "14    N11119  2002.0  Fixed wing multi engine      EMBRAER  EMB-145XR   \n",
       "15    N11121  2003.0  Fixed wing multi engine      EMBRAER  EMB-145XR   \n",
       "16    N11127  2003.0  Fixed wing multi engine      EMBRAER  EMB-145XR   \n",
       "17    N11137  2003.0  Fixed wing multi engine      EMBRAER  EMB-145XR   \n",
       "18    N11140  2003.0  Fixed wing multi engine      EMBRAER  EMB-145XR   \n",
       "19    N11150  2003.0  Fixed wing multi engine      EMBRAER  EMB-145XR   \n",
       "20    N11155  2004.0  Fixed wing multi engine      EMBRAER  EMB-145XR   \n",
       "21    N11164  2004.0  Fixed wing multi engine      EMBRAER  EMB-145XR   \n",
       "22    N11165  2004.0  Fixed wing multi engine      EMBRAER  EMB-145XR   \n",
       "23    N11176  2004.0  Fixed wing multi engine      EMBRAER  EMB-145XR   \n",
       "24    N11181  2005.0  Fixed wing multi engine      EMBRAER  EMB-145XR   \n",
       "25    N11184  2005.0  Fixed wing multi engine      EMBRAER  EMB-145XR   \n",
       "26    N11187  2005.0  Fixed wing multi engine      EMBRAER  EMB-145XR   \n",
       "27    N11189  2005.0  Fixed wing multi engine      EMBRAER  EMB-145XR   \n",
       "28    N11191  2005.0  Fixed wing multi engine      EMBRAER  EMB-145XR   \n",
       "29    N11192  2005.0  Fixed wing multi engine      EMBRAER  EMB-145XR   \n",
       "30    N11193  2005.0  Fixed wing multi engine      EMBRAER  EMB-145XR   \n",
       "31    N11194  2005.0  Fixed wing multi engine      EMBRAER  EMB-145XR   \n",
       "32    N11199  2006.0  Fixed wing multi engine      EMBRAER  EMB-145XR   \n",
       "34    N11206  2000.0  Fixed wing multi engine       BOEING    737-824   \n",
       "38    N11535  2001.0  Fixed wing multi engine      EMBRAER  EMB-145LR   \n",
       "39    N11536  2001.0  Fixed wing multi engine      EMBRAER  EMB-145LR   \n",
       "40    N11539  2001.0  Fixed wing multi engine      EMBRAER  EMB-145LR   \n",
       "41    N11544  2002.0  Fixed wing multi engine      EMBRAER  EMB-145LR   \n",
       "...      ...     ...                      ...          ...        ...   \n",
       "3259  N968AT  2001.0  Fixed wing multi engine       BOEING    717-200   \n",
       "3261  N968WN  2011.0  Fixed wing multi engine       BOEING    737-7H4   \n",
       "3262  N969AT  2001.0  Fixed wing multi engine       BOEING    717-200   \n",
       "3264  N969WN  2011.0  Fixed wing multi engine       BOEING    737-7H4   \n",
       "3265  N970AT  2001.0  Fixed wing multi engine       BOEING    717-200   \n",
       "3267  N971AT  2001.0  Fixed wing multi engine       BOEING    717-200   \n",
       "3269  N972AT  2001.0  Fixed wing multi engine       BOEING    717-200   \n",
       "3272  N974AT  2002.0  Fixed wing multi engine       BOEING    717-200   \n",
       "3274  N975AT  2002.0  Fixed wing multi engine       BOEING    717-200   \n",
       "3277  N977AT  2002.0  Fixed wing multi engine       BOEING    717-200   \n",
       "3279  N978AT  2002.0  Fixed wing multi engine       BOEING    717-200   \n",
       "3282  N979AT  2002.0  Fixed wing multi engine       BOEING    717-200   \n",
       "3284  N980AT  2002.0  Fixed wing multi engine       BOEING    717-200   \n",
       "3286  N981AT  2002.0  Fixed wing multi engine       BOEING    717-200   \n",
       "3288  N982AT  2002.0  Fixed wing multi engine       BOEING    717-200   \n",
       "3290  N983AT     NaN  Fixed wing multi engine       BOEING    717-200   \n",
       "3293  N985AT  2001.0  Fixed wing multi engine       BOEING    717-200   \n",
       "3295  N986AT  2001.0  Fixed wing multi engine       BOEING    717-200   \n",
       "3297  N987AT  2001.0  Fixed wing multi engine       BOEING    717-200   \n",
       "3299  N988AT  2001.0  Fixed wing multi engine       BOEING    717-200   \n",
       "3301  N989AT  2001.0  Fixed wing multi engine       BOEING    717-200   \n",
       "3303  N990AT  2001.0  Fixed wing multi engine       BOEING    717-200   \n",
       "3305  N991AT     NaN  Fixed wing multi engine       BOEING    717-200   \n",
       "3307  N992AT  2002.0  Fixed wing multi engine       BOEING    717-200   \n",
       "3309  N993AT  2002.0  Fixed wing multi engine       BOEING    717-200   \n",
       "3311  N994AT  2002.0  Fixed wing multi engine       BOEING    717-200   \n",
       "3313  N995AT  2002.0  Fixed wing multi engine       BOEING    717-200   \n",
       "3315  N996AT  2002.0  Fixed wing multi engine       BOEING    717-200   \n",
       "3317  N997AT  2002.0  Fixed wing multi engine       BOEING    717-200   \n",
       "3319  N998AT  2002.0  Fixed wing multi engine       BOEING    717-200   \n",
       "\n",
       "      engines  seats  speed     engine  \n",
       "0           2     55    NaN  Turbo-fan  \n",
       "4           2     55    NaN  Turbo-fan  \n",
       "10          2     55    NaN  Turbo-fan  \n",
       "11          2     55    NaN  Turbo-fan  \n",
       "12          2     55    NaN  Turbo-fan  \n",
       "13          2     55    NaN  Turbo-fan  \n",
       "14          2     55    NaN  Turbo-fan  \n",
       "15          2     55    NaN  Turbo-fan  \n",
       "16          2     55    NaN  Turbo-fan  \n",
       "17          2     55    NaN  Turbo-fan  \n",
       "18          2     55    NaN  Turbo-fan  \n",
       "19          2     55    NaN  Turbo-fan  \n",
       "20          2     55    NaN  Turbo-fan  \n",
       "21          2     55    NaN  Turbo-fan  \n",
       "22          2     55    NaN  Turbo-fan  \n",
       "23          2     55    NaN  Turbo-fan  \n",
       "24          2     55    NaN  Turbo-fan  \n",
       "25          2     55    NaN  Turbo-fan  \n",
       "26          2     55    NaN  Turbo-fan  \n",
       "27          2     55    NaN  Turbo-fan  \n",
       "28          2     55    NaN  Turbo-fan  \n",
       "29          2     55    NaN  Turbo-fan  \n",
       "30          2     55    NaN  Turbo-fan  \n",
       "31          2     55    NaN  Turbo-fan  \n",
       "32          2     55    NaN  Turbo-fan  \n",
       "34          2    149    NaN  Turbo-fan  \n",
       "38          2     55    NaN  Turbo-fan  \n",
       "39          2     55    NaN  Turbo-fan  \n",
       "40          2     55    NaN  Turbo-fan  \n",
       "41          2     55    NaN  Turbo-fan  \n",
       "...       ...    ...    ...        ...  \n",
       "3259        2    100    NaN  Turbo-fan  \n",
       "3261        2    140    NaN  Turbo-fan  \n",
       "3262        2    100    NaN  Turbo-fan  \n",
       "3264        2    140    NaN  Turbo-fan  \n",
       "3265        2    100    NaN  Turbo-fan  \n",
       "3267        2    100    NaN  Turbo-fan  \n",
       "3269        2    100    NaN  Turbo-fan  \n",
       "3272        2    100    NaN  Turbo-fan  \n",
       "3274        2    100    NaN  Turbo-fan  \n",
       "3277        2    100    NaN  Turbo-fan  \n",
       "3279        2    100    NaN  Turbo-fan  \n",
       "3282        2    100    NaN  Turbo-fan  \n",
       "3284        2    100    NaN  Turbo-fan  \n",
       "3286        2    100    NaN  Turbo-fan  \n",
       "3288        2    100    NaN  Turbo-fan  \n",
       "3290        2    100    NaN  Turbo-fan  \n",
       "3293        2    100    NaN  Turbo-fan  \n",
       "3295        2    100    NaN  Turbo-fan  \n",
       "3297        2    100    NaN  Turbo-fan  \n",
       "3299        2    100    NaN  Turbo-fan  \n",
       "3301        2    100    NaN  Turbo-fan  \n",
       "3303        2    100    NaN  Turbo-fan  \n",
       "3305        2    100    NaN  Turbo-fan  \n",
       "3307        2    100    NaN  Turbo-fan  \n",
       "3309        2    100    NaN  Turbo-fan  \n",
       "3311        2    100    NaN  Turbo-fan  \n",
       "3313        2    100    NaN  Turbo-fan  \n",
       "3315        2    100    NaN  Turbo-fan  \n",
       "3317        2    100    NaN  Turbo-fan  \n",
       "3319        2    100    NaN  Turbo-fan  \n",
       "\n",
       "[2265 rows x 9 columns]"
      ]
     },
     "execution_count": 174,
     "metadata": {},
     "output_type": "execute_result"
    }
   ],
   "source": [
    "planes[planes.manufacturer.isin([\"BOEING\", \"AIRBUS\", \"EMBRAER\"])]"
   ]
  },
  {
   "cell_type": "code",
   "execution_count": 175,
   "metadata": {
    "collapsed": false,
    "scrolled": true
   },
   "outputs": [
    {
     "data": {
      "text/plain": [
       "     index tailnum    year                     type manufacturer     model  \\\n",
       "0       49  N1200K  1998.0  Fixed wing multi engine       BOEING   767-332   \n",
       "1       50  N1201P  1998.0  Fixed wing multi engine       BOEING   767-332   \n",
       "2       69  N121DE  1987.0  Fixed wing multi engine       BOEING   767-332   \n",
       "3      117  N136DL  1991.0  Fixed wing multi engine       BOEING   767-332   \n",
       "4      122  N137DL  1991.0  Fixed wing multi engine       BOEING   767-332   \n",
       "5      183  N143DA  1998.0  Fixed wing multi engine       BOEING   767-332   \n",
       "6      241   N1602  1999.0  Fixed wing multi engine       BOEING   767-332   \n",
       "7      242   N1603  1999.0  Fixed wing multi engine       BOEING   767-332   \n",
       "8      243  N1604R  1999.0  Fixed wing multi engine       BOEING   767-332   \n",
       "9      244   N1605  1999.0  Fixed wing multi engine       BOEING   767-332   \n",
       "10     245  N16065  1999.0  Fixed wing multi engine       BOEING   767-332   \n",
       "11     246  N1607B  2000.0  Fixed wing multi engine       BOEING   767-332   \n",
       "12     247   N1608  2000.0  Fixed wing multi engine       BOEING   767-332   \n",
       "13     248   N1609  2000.0  Fixed wing multi engine       BOEING   767-332   \n",
       "14     249  N1610D  2000.0  Fixed wing multi engine       BOEING   767-332   \n",
       "15     251  N1611B  2000.0  Fixed wing multi engine       BOEING   767-332   \n",
       "16     252  N1612T  2001.0  Fixed wing multi engine       BOEING   767-332   \n",
       "17     253  N1613B  2001.0  Fixed wing multi engine       BOEING   767-332   \n",
       "18     293  N169DZ  1998.0  Fixed wing multi engine       BOEING   767-332   \n",
       "19     312  N171DN  1990.0  Fixed wing multi engine       BOEING   767-332   \n",
       "20     313  N171DZ  1998.0  Fixed wing multi engine       BOEING   767-332   \n",
       "21     319  N172DN  1990.0  Fixed wing multi engine       BOEING   767-332   \n",
       "22     320  N172DZ  1998.0  Fixed wing multi engine       BOEING   767-332   \n",
       "23     323  N173DZ  1998.0  Fixed wing multi engine       BOEING   767-332   \n",
       "24     326  N174DN  1990.0  Fixed wing multi engine       BOEING   767-332   \n",
       "25     327  N174DZ  1998.0  Fixed wing multi engine       BOEING   767-332   \n",
       "26     331  N175DN  1990.0  Fixed wing multi engine       BOEING   767-332   \n",
       "27     332  N175DZ  1999.0  Fixed wing multi engine       BOEING   767-332   \n",
       "28     334  N176DN  1990.0  Fixed wing multi engine       BOEING   767-332   \n",
       "29     335  N176DZ  1999.0  Fixed wing multi engine       BOEING   767-332   \n",
       "..     ...     ...     ...                      ...          ...       ...   \n",
       "163   2062  N661UA  1993.0  Fixed wing multi engine       BOEING   767-322   \n",
       "164   2071  N663UA  1993.0  Fixed wing multi engine       BOEING   767-322   \n",
       "165   2074  N664UA  1998.0  Fixed wing multi engine       BOEING   767-322   \n",
       "166   2078  N665UA  1998.0  Fixed wing multi engine       BOEING   767-322   \n",
       "167   2081  N666UA  1998.0  Fixed wing multi engine       BOEING   767-322   \n",
       "168   2084  N667UA  1998.0  Fixed wing multi engine       BOEING   767-322   \n",
       "169   2089  N668UA  1999.0  Fixed wing multi engine       BOEING   767-322   \n",
       "170   2093  N669UA  1999.0  Fixed wing multi engine       BOEING   767-322   \n",
       "171   2108  N670UA     NaN  Fixed wing multi engine       BOEING   767-322   \n",
       "172   2109  N670US  1990.0  Fixed wing multi engine       BOEING   747-451   \n",
       "173   2120  N671UA  1999.0  Fixed wing multi engine       BOEING   767-322   \n",
       "174   2123  N672UA  1999.0  Fixed wing multi engine       BOEING   767-322   \n",
       "175   2126  N673UA  2000.0  Fixed wing multi engine       BOEING   767-322   \n",
       "176   2128  N674UA  2000.0  Fixed wing multi engine       BOEING   767-322   \n",
       "177   2132  N675UA  2000.0  Fixed wing multi engine       BOEING   767-322   \n",
       "178   2136  N676UA  2001.0  Fixed wing multi engine       BOEING   767-322   \n",
       "179   2138  N677UA  2001.0  Fixed wing multi engine       BOEING   767-322   \n",
       "180   2441  N77012  1999.0  Fixed wing multi engine       BOEING   777-224   \n",
       "181   2485  N777UA  1995.0  Fixed wing multi engine       BOEING   777-222   \n",
       "182   2494  N78003  1998.0  Fixed wing multi engine       BOEING   777-224   \n",
       "183   2495  N78013  1999.0  Fixed wing multi engine       BOEING   777-224   \n",
       "184   2519  N787UA  1997.0  Fixed wing multi engine       BOEING   777-222   \n",
       "185   2567  N809NW  2005.0  Fixed wing multi engine       AIRBUS  A330-323   \n",
       "186   2764  N854NW  2004.0  Fixed wing multi engine       AIRBUS  A330-223   \n",
       "187   2771  N856NW  2004.0  Fixed wing multi engine       AIRBUS  A330-223   \n",
       "188   2804  N862DA  1999.0  Fixed wing multi engine       BOEING   777-232   \n",
       "189   2806  N863DA  1999.0  Fixed wing multi engine       BOEING   777-232   \n",
       "190   2809  N865DA  1999.0  Fixed wing multi engine       BOEING   777-232   \n",
       "191   2919  N903JB  2013.0  Fixed wing multi engine       AIRBUS  A321-231   \n",
       "192   2982  N913JB  2013.0  Fixed wing multi engine       AIRBUS  A321-231   \n",
       "\n",
       "     engines  seats speed     engine  \n",
       "0          2    330  None  Turbo-fan  \n",
       "1          2    330  None  Turbo-fan  \n",
       "2          2    330  None  Turbo-fan  \n",
       "3          2    330  None  Turbo-fan  \n",
       "4          2    330  None  Turbo-fan  \n",
       "5          2    330  None  Turbo-fan  \n",
       "6          2    330  None  Turbo-fan  \n",
       "7          2    330  None  Turbo-fan  \n",
       "8          2    330  None  Turbo-fan  \n",
       "9          2    330  None  Turbo-fan  \n",
       "10         2    330  None  Turbo-fan  \n",
       "11         2    330  None  Turbo-fan  \n",
       "12         2    330  None  Turbo-fan  \n",
       "13         2    330  None  Turbo-fan  \n",
       "14         2    330  None  Turbo-fan  \n",
       "15         2    330  None  Turbo-fan  \n",
       "16         2    330  None  Turbo-fan  \n",
       "17         2    330  None  Turbo-fan  \n",
       "18         2    330  None  Turbo-fan  \n",
       "19         2    330  None  Turbo-fan  \n",
       "20         2    330  None  Turbo-fan  \n",
       "21         2    330  None  Turbo-fan  \n",
       "22         2    330  None  Turbo-fan  \n",
       "23         2    330  None  Turbo-fan  \n",
       "24         2    330  None  Turbo-fan  \n",
       "25         2    330  None  Turbo-fan  \n",
       "26         2    330  None  Turbo-fan  \n",
       "27         2    330  None  Turbo-fan  \n",
       "28         2    330  None  Turbo-fan  \n",
       "29         2    330  None  Turbo-fan  \n",
       "..       ...    ...   ...        ...  \n",
       "163        2    330  None  Turbo-fan  \n",
       "164        2    330  None  Turbo-fan  \n",
       "165        2    330  None  Turbo-fan  \n",
       "166        2    330  None  Turbo-fan  \n",
       "167        2    330  None  Turbo-fan  \n",
       "168        2    330  None  Turbo-fan  \n",
       "169        2    330  None  Turbo-fan  \n",
       "170        2    330  None  Turbo-fan  \n",
       "171        2    330  None  Turbo-fan  \n",
       "172        4    450  None  Turbo-jet  \n",
       "173        2    330  None  Turbo-fan  \n",
       "174        2    330  None  Turbo-fan  \n",
       "175        2    330  None  Turbo-fan  \n",
       "176        2    330  None  Turbo-fan  \n",
       "177        2    330  None  Turbo-fan  \n",
       "178        2    330  None  Turbo-fan  \n",
       "179        2    330  None  Turbo-fan  \n",
       "180        2    400  None  Turbo-fan  \n",
       "181        2    400  None  Turbo-fan  \n",
       "182        2    400  None  Turbo-fan  \n",
       "183        2    400  None  Turbo-fan  \n",
       "184        2    400  None  Turbo-fan  \n",
       "185        2    379  None  Turbo-fan  \n",
       "186        3    379  None  Turbo-fan  \n",
       "187        3    379  None  Turbo-fan  \n",
       "188        2    400  None  Turbo-jet  \n",
       "189        2    400  None  Turbo-jet  \n",
       "190        2    400  None  Turbo-jet  \n",
       "191        2    379  None  Turbo-fan  \n",
       "192        2    379  None  Turbo-fan  \n",
       "\n",
       "[193 rows x 10 columns]"
      ]
     },
     "execution_count": 175,
     "metadata": {},
     "output_type": "execute_result"
    }
   ],
   "source": [
    "#SELECT * FROM planes WHERE manufacturer IN (\"BOEING\", \"AIRBUS\", \"EMBRAER\") AND seats>300\n",
    "pd.read_sql_query(\"\"\"SELECT * FROM planes WHERE manufacturer IN (\"BOEING\", \"AIRBUS\", \"EMBRAER\") AND seats>300\"\"\", conn)"
   ]
  },
  {
   "cell_type": "code",
   "execution_count": 176,
   "metadata": {
    "collapsed": false,
    "scrolled": true
   },
   "outputs": [
    {
     "data": {
      "text/plain": [
       "     tailnum    year                     type manufacturer     model  engines  \\\n",
       "49    N1200K  1998.0  Fixed wing multi engine       BOEING   767-332        2   \n",
       "50    N1201P  1998.0  Fixed wing multi engine       BOEING   767-332        2   \n",
       "69    N121DE  1987.0  Fixed wing multi engine       BOEING   767-332        2   \n",
       "117   N136DL  1991.0  Fixed wing multi engine       BOEING   767-332        2   \n",
       "122   N137DL  1991.0  Fixed wing multi engine       BOEING   767-332        2   \n",
       "183   N143DA  1998.0  Fixed wing multi engine       BOEING   767-332        2   \n",
       "241    N1602  1999.0  Fixed wing multi engine       BOEING   767-332        2   \n",
       "242    N1603  1999.0  Fixed wing multi engine       BOEING   767-332        2   \n",
       "243   N1604R  1999.0  Fixed wing multi engine       BOEING   767-332        2   \n",
       "244    N1605  1999.0  Fixed wing multi engine       BOEING   767-332        2   \n",
       "245   N16065  1999.0  Fixed wing multi engine       BOEING   767-332        2   \n",
       "246   N1607B  2000.0  Fixed wing multi engine       BOEING   767-332        2   \n",
       "247    N1608  2000.0  Fixed wing multi engine       BOEING   767-332        2   \n",
       "248    N1609  2000.0  Fixed wing multi engine       BOEING   767-332        2   \n",
       "249   N1610D  2000.0  Fixed wing multi engine       BOEING   767-332        2   \n",
       "251   N1611B  2000.0  Fixed wing multi engine       BOEING   767-332        2   \n",
       "252   N1612T  2001.0  Fixed wing multi engine       BOEING   767-332        2   \n",
       "253   N1613B  2001.0  Fixed wing multi engine       BOEING   767-332        2   \n",
       "293   N169DZ  1998.0  Fixed wing multi engine       BOEING   767-332        2   \n",
       "312   N171DN  1990.0  Fixed wing multi engine       BOEING   767-332        2   \n",
       "313   N171DZ  1998.0  Fixed wing multi engine       BOEING   767-332        2   \n",
       "319   N172DN  1990.0  Fixed wing multi engine       BOEING   767-332        2   \n",
       "320   N172DZ  1998.0  Fixed wing multi engine       BOEING   767-332        2   \n",
       "323   N173DZ  1998.0  Fixed wing multi engine       BOEING   767-332        2   \n",
       "326   N174DN  1990.0  Fixed wing multi engine       BOEING   767-332        2   \n",
       "327   N174DZ  1998.0  Fixed wing multi engine       BOEING   767-332        2   \n",
       "331   N175DN  1990.0  Fixed wing multi engine       BOEING   767-332        2   \n",
       "332   N175DZ  1999.0  Fixed wing multi engine       BOEING   767-332        2   \n",
       "334   N176DN  1990.0  Fixed wing multi engine       BOEING   767-332        2   \n",
       "335   N176DZ  1999.0  Fixed wing multi engine       BOEING   767-332        2   \n",
       "...      ...     ...                      ...          ...       ...      ...   \n",
       "2062  N661UA  1993.0  Fixed wing multi engine       BOEING   767-322        2   \n",
       "2071  N663UA  1993.0  Fixed wing multi engine       BOEING   767-322        2   \n",
       "2074  N664UA  1998.0  Fixed wing multi engine       BOEING   767-322        2   \n",
       "2078  N665UA  1998.0  Fixed wing multi engine       BOEING   767-322        2   \n",
       "2081  N666UA  1998.0  Fixed wing multi engine       BOEING   767-322        2   \n",
       "2084  N667UA  1998.0  Fixed wing multi engine       BOEING   767-322        2   \n",
       "2089  N668UA  1999.0  Fixed wing multi engine       BOEING   767-322        2   \n",
       "2093  N669UA  1999.0  Fixed wing multi engine       BOEING   767-322        2   \n",
       "2108  N670UA     NaN  Fixed wing multi engine       BOEING   767-322        2   \n",
       "2109  N670US  1990.0  Fixed wing multi engine       BOEING   747-451        4   \n",
       "2120  N671UA  1999.0  Fixed wing multi engine       BOEING   767-322        2   \n",
       "2123  N672UA  1999.0  Fixed wing multi engine       BOEING   767-322        2   \n",
       "2126  N673UA  2000.0  Fixed wing multi engine       BOEING   767-322        2   \n",
       "2128  N674UA  2000.0  Fixed wing multi engine       BOEING   767-322        2   \n",
       "2132  N675UA  2000.0  Fixed wing multi engine       BOEING   767-322        2   \n",
       "2136  N676UA  2001.0  Fixed wing multi engine       BOEING   767-322        2   \n",
       "2138  N677UA  2001.0  Fixed wing multi engine       BOEING   767-322        2   \n",
       "2441  N77012  1999.0  Fixed wing multi engine       BOEING   777-224        2   \n",
       "2485  N777UA  1995.0  Fixed wing multi engine       BOEING   777-222        2   \n",
       "2494  N78003  1998.0  Fixed wing multi engine       BOEING   777-224        2   \n",
       "2495  N78013  1999.0  Fixed wing multi engine       BOEING   777-224        2   \n",
       "2519  N787UA  1997.0  Fixed wing multi engine       BOEING   777-222        2   \n",
       "2567  N809NW  2005.0  Fixed wing multi engine       AIRBUS  A330-323        2   \n",
       "2764  N854NW  2004.0  Fixed wing multi engine       AIRBUS  A330-223        3   \n",
       "2771  N856NW  2004.0  Fixed wing multi engine       AIRBUS  A330-223        3   \n",
       "2804  N862DA  1999.0  Fixed wing multi engine       BOEING   777-232        2   \n",
       "2806  N863DA  1999.0  Fixed wing multi engine       BOEING   777-232        2   \n",
       "2809  N865DA  1999.0  Fixed wing multi engine       BOEING   777-232        2   \n",
       "2919  N903JB  2013.0  Fixed wing multi engine       AIRBUS  A321-231        2   \n",
       "2982  N913JB  2013.0  Fixed wing multi engine       AIRBUS  A321-231        2   \n",
       "\n",
       "      seats  speed     engine  \n",
       "49      330    NaN  Turbo-fan  \n",
       "50      330    NaN  Turbo-fan  \n",
       "69      330    NaN  Turbo-fan  \n",
       "117     330    NaN  Turbo-fan  \n",
       "122     330    NaN  Turbo-fan  \n",
       "183     330    NaN  Turbo-fan  \n",
       "241     330    NaN  Turbo-fan  \n",
       "242     330    NaN  Turbo-fan  \n",
       "243     330    NaN  Turbo-fan  \n",
       "244     330    NaN  Turbo-fan  \n",
       "245     330    NaN  Turbo-fan  \n",
       "246     330    NaN  Turbo-fan  \n",
       "247     330    NaN  Turbo-fan  \n",
       "248     330    NaN  Turbo-fan  \n",
       "249     330    NaN  Turbo-fan  \n",
       "251     330    NaN  Turbo-fan  \n",
       "252     330    NaN  Turbo-fan  \n",
       "253     330    NaN  Turbo-fan  \n",
       "293     330    NaN  Turbo-fan  \n",
       "312     330    NaN  Turbo-fan  \n",
       "313     330    NaN  Turbo-fan  \n",
       "319     330    NaN  Turbo-fan  \n",
       "320     330    NaN  Turbo-fan  \n",
       "323     330    NaN  Turbo-fan  \n",
       "326     330    NaN  Turbo-fan  \n",
       "327     330    NaN  Turbo-fan  \n",
       "331     330    NaN  Turbo-fan  \n",
       "332     330    NaN  Turbo-fan  \n",
       "334     330    NaN  Turbo-fan  \n",
       "335     330    NaN  Turbo-fan  \n",
       "...     ...    ...        ...  \n",
       "2062    330    NaN  Turbo-fan  \n",
       "2071    330    NaN  Turbo-fan  \n",
       "2074    330    NaN  Turbo-fan  \n",
       "2078    330    NaN  Turbo-fan  \n",
       "2081    330    NaN  Turbo-fan  \n",
       "2084    330    NaN  Turbo-fan  \n",
       "2089    330    NaN  Turbo-fan  \n",
       "2093    330    NaN  Turbo-fan  \n",
       "2108    330    NaN  Turbo-fan  \n",
       "2109    450    NaN  Turbo-jet  \n",
       "2120    330    NaN  Turbo-fan  \n",
       "2123    330    NaN  Turbo-fan  \n",
       "2126    330    NaN  Turbo-fan  \n",
       "2128    330    NaN  Turbo-fan  \n",
       "2132    330    NaN  Turbo-fan  \n",
       "2136    330    NaN  Turbo-fan  \n",
       "2138    330    NaN  Turbo-fan  \n",
       "2441    400    NaN  Turbo-fan  \n",
       "2485    400    NaN  Turbo-fan  \n",
       "2494    400    NaN  Turbo-fan  \n",
       "2495    400    NaN  Turbo-fan  \n",
       "2519    400    NaN  Turbo-fan  \n",
       "2567    379    NaN  Turbo-fan  \n",
       "2764    379    NaN  Turbo-fan  \n",
       "2771    379    NaN  Turbo-fan  \n",
       "2804    400    NaN  Turbo-jet  \n",
       "2806    400    NaN  Turbo-jet  \n",
       "2809    400    NaN  Turbo-jet  \n",
       "2919    379    NaN  Turbo-fan  \n",
       "2982    379    NaN  Turbo-fan  \n",
       "\n",
       "[193 rows x 9 columns]"
      ]
     },
     "execution_count": 176,
     "metadata": {},
     "output_type": "execute_result"
    }
   ],
   "source": [
    "planes[(planes.manufacturer.isin([\"BOEING\", \"AIRBUS\", \"EMBRAER\"])) & (planes.seats > 300)]"
   ]
  },
  {
   "cell_type": "code",
   "execution_count": null,
   "metadata": {
    "collapsed": false
   },
   "outputs": [],
   "source": []
  },
  {
   "cell_type": "code",
   "execution_count": null,
   "metadata": {
    "collapsed": true
   },
   "outputs": [],
   "source": []
  }
 ],
 "metadata": {
  "anaconda-cloud": {},
  "kernelspec": {
   "display_name": "Python [default]",
   "language": "python",
   "name": "python3"
  },
  "language_info": {
   "codemirror_mode": {
    "name": "ipython",
    "version": 3
   },
   "file_extension": ".py",
   "mimetype": "text/x-python",
   "name": "python",
   "nbconvert_exporter": "python",
   "pygments_lexer": "ipython3",
   "version": "3.5.2"
  }
 },
 "nbformat": 4,
 "nbformat_minor": 1
}
